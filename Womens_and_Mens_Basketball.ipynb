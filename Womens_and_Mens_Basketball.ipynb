{
  "nbformat": 4,
  "nbformat_minor": 0,
  "metadata": {
    "colab": {
      "name": "Womens_and_Mens_Basketball",
      "provenance": [],
      "collapsed_sections": []
    },
    "kernelspec": {
      "name": "python3",
      "display_name": "Python 3"
    },
    "language_info": {
      "name": "python"
    }
  },
  "cells": [
    {
      "cell_type": "code",
      "metadata": {
        "id": "PpVk9rTsMh2U"
      },
      "source": [
        "# Imports\n",
        "import pandas as pd\n",
        "import numpy as np\n",
        "import matplotlib.pyplot as plt\n",
        "import plotly.express as px\n",
        "from sklearn.preprocessing import StandardScaler\n",
        "from sklearn.decomposition import PCA\n",
        "from google.colab import files\n",
        "\n",
        "# Note: this code is guided by the PCA analysis code on https://towardsdatascience.com/pca-using-python-scikit-learn-e653f8989e60"
      ],
      "execution_count": 2,
      "outputs": []
    },
    {
      "cell_type": "code",
      "metadata": {
        "id": "LUvpOooPGbUJ"
      },
      "source": [
        ""
      ],
      "execution_count": 2,
      "outputs": []
    },
    {
      "cell_type": "code",
      "metadata": {
        "id": "xT5ATpl3RYb_",
        "colab": {
          "base_uri": "https://localhost:8080/",
          "height": 592
        },
        "outputId": "21e84b99-758e-46ad-80fd-0dd4618a55f3"
      },
      "source": [
        "# Read-in data\n",
        "#new data set (made from scratch in Excel):\n",
        "df_mnba_general = pd.read_csv(\"https://raw.githubusercontent.com/aakap/nba_wnba_salarycomparisons/main/mnba-player-and-salary-stats-2020.csv\")\n",
        "df_wnba_general = pd.read_csv(\"https://raw.githubusercontent.com/aakap/nba_wnba_salarycomparisons/main/wnba-player-and-salary-stats-2020.csv\")\n",
        "\n",
        "#old data: \n",
        "#df_wnba_general = pd.read_csv(\"https://raw.githubusercontent.com/Bengis/nba-wnba-salary-gap/master/data/wnba-stats_out.csv\")\n",
        "#df_mnba_general = pd.read_csv(\"https://raw.githubusercontent.com/Bengis/nba-wnba-salary-gap/master/data/nba-stats_out.csv\")\n",
        "df_wnba_general\n",
        "df_mnba_general"
      ],
      "execution_count": 3,
      "outputs": [
        {
          "output_type": "execute_result",
          "data": {
            "text/html": [
              "<div>\n",
              "<style scoped>\n",
              "    .dataframe tbody tr th:only-of-type {\n",
              "        vertical-align: middle;\n",
              "    }\n",
              "\n",
              "    .dataframe tbody tr th {\n",
              "        vertical-align: top;\n",
              "    }\n",
              "\n",
              "    .dataframe thead th {\n",
              "        text-align: right;\n",
              "    }\n",
              "</style>\n",
              "<table border=\"1\" class=\"dataframe\">\n",
              "  <thead>\n",
              "    <tr style=\"text-align: right;\">\n",
              "      <th></th>\n",
              "      <th>player</th>\n",
              "      <th>games</th>\n",
              "      <th>minutes</th>\n",
              "      <th>points</th>\n",
              "      <th>FGM</th>\n",
              "      <th>FGA</th>\n",
              "      <th>FG%</th>\n",
              "      <th>3PM</th>\n",
              "      <th>3PA</th>\n",
              "      <th>3P%</th>\n",
              "      <th>FTM</th>\n",
              "      <th>FTA</th>\n",
              "      <th>FT%</th>\n",
              "      <th>OREB</th>\n",
              "      <th>DREB</th>\n",
              "      <th>rebds.</th>\n",
              "      <th>assists</th>\n",
              "      <th>steals</th>\n",
              "      <th>blocks</th>\n",
              "      <th>TOV</th>\n",
              "      <th>PF</th>\n",
              "      <th>EFF</th>\n",
              "      <th>AST/</th>\n",
              "      <th>STL/</th>\n",
              "      <th>salary</th>\n",
              "    </tr>\n",
              "  </thead>\n",
              "  <tbody>\n",
              "    <tr>\n",
              "      <th>0</th>\n",
              "      <td>Stephen Curry</td>\n",
              "      <td>56</td>\n",
              "      <td>1905</td>\n",
              "      <td>1751</td>\n",
              "      <td>572</td>\n",
              "      <td>1178</td>\n",
              "      <td>48.6</td>\n",
              "      <td>291</td>\n",
              "      <td>683</td>\n",
              "      <td>42.6</td>\n",
              "      <td>316</td>\n",
              "      <td>345</td>\n",
              "      <td>91.6</td>\n",
              "      <td>25</td>\n",
              "      <td>285</td>\n",
              "      <td>310</td>\n",
              "      <td>323</td>\n",
              "      <td>67</td>\n",
              "      <td>7</td>\n",
              "      <td>188</td>\n",
              "      <td>103</td>\n",
              "      <td>1635</td>\n",
              "      <td>1.72</td>\n",
              "      <td>0.36</td>\n",
              "      <td>43006362</td>\n",
              "    </tr>\n",
              "    <tr>\n",
              "      <th>1</th>\n",
              "      <td>Bradley Beal</td>\n",
              "      <td>55</td>\n",
              "      <td>1952</td>\n",
              "      <td>1707</td>\n",
              "      <td>607</td>\n",
              "      <td>1254</td>\n",
              "      <td>48.4</td>\n",
              "      <td>119</td>\n",
              "      <td>343</td>\n",
              "      <td>34.7</td>\n",
              "      <td>374</td>\n",
              "      <td>415</td>\n",
              "      <td>90.1</td>\n",
              "      <td>64</td>\n",
              "      <td>194</td>\n",
              "      <td>258</td>\n",
              "      <td>246</td>\n",
              "      <td>64</td>\n",
              "      <td>19</td>\n",
              "      <td>175</td>\n",
              "      <td>130</td>\n",
              "      <td>1431</td>\n",
              "      <td>1.41</td>\n",
              "      <td>0.37</td>\n",
              "      <td>28751775</td>\n",
              "    </tr>\n",
              "    <tr>\n",
              "      <th>2</th>\n",
              "      <td>Nikola Jokic</td>\n",
              "      <td>64</td>\n",
              "      <td>2243</td>\n",
              "      <td>1679</td>\n",
              "      <td>654</td>\n",
              "      <td>1152</td>\n",
              "      <td>56.8</td>\n",
              "      <td>89</td>\n",
              "      <td>216</td>\n",
              "      <td>41.2</td>\n",
              "      <td>282</td>\n",
              "      <td>328</td>\n",
              "      <td>86.0</td>\n",
              "      <td>182</td>\n",
              "      <td>518</td>\n",
              "      <td>700</td>\n",
              "      <td>546</td>\n",
              "      <td>89</td>\n",
              "      <td>43</td>\n",
              "      <td>200</td>\n",
              "      <td>168</td>\n",
              "      <td>2313</td>\n",
              "      <td>2.73</td>\n",
              "      <td>0.45</td>\n",
              "      <td>28542009</td>\n",
              "    </tr>\n",
              "    <tr>\n",
              "      <th>3</th>\n",
              "      <td>Damian Lillard</td>\n",
              "      <td>59</td>\n",
              "      <td>2116</td>\n",
              "      <td>1668</td>\n",
              "      <td>517</td>\n",
              "      <td>1187</td>\n",
              "      <td>43.6</td>\n",
              "      <td>238</td>\n",
              "      <td>630</td>\n",
              "      <td>37.8</td>\n",
              "      <td>396</td>\n",
              "      <td>427</td>\n",
              "      <td>92.7</td>\n",
              "      <td>29</td>\n",
              "      <td>222</td>\n",
              "      <td>251</td>\n",
              "      <td>446</td>\n",
              "      <td>55</td>\n",
              "      <td>16</td>\n",
              "      <td>184</td>\n",
              "      <td>96</td>\n",
              "      <td>1551</td>\n",
              "      <td>2.42</td>\n",
              "      <td>0.30</td>\n",
              "      <td>31626953</td>\n",
              "    </tr>\n",
              "    <tr>\n",
              "      <th>4</th>\n",
              "      <td>Luka Doncic</td>\n",
              "      <td>58</td>\n",
              "      <td>2040</td>\n",
              "      <td>1661</td>\n",
              "      <td>590</td>\n",
              "      <td>1214</td>\n",
              "      <td>48.6</td>\n",
              "      <td>171</td>\n",
              "      <td>484</td>\n",
              "      <td>35.3</td>\n",
              "      <td>310</td>\n",
              "      <td>426</td>\n",
              "      <td>72.8</td>\n",
              "      <td>47</td>\n",
              "      <td>416</td>\n",
              "      <td>463</td>\n",
              "      <td>515</td>\n",
              "      <td>58</td>\n",
              "      <td>34</td>\n",
              "      <td>250</td>\n",
              "      <td>138</td>\n",
              "      <td>1741</td>\n",
              "      <td>2.06</td>\n",
              "      <td>0.23</td>\n",
              "      <td>8049360</td>\n",
              "    </tr>\n",
              "    <tr>\n",
              "      <th>...</th>\n",
              "      <td>...</td>\n",
              "      <td>...</td>\n",
              "      <td>...</td>\n",
              "      <td>...</td>\n",
              "      <td>...</td>\n",
              "      <td>...</td>\n",
              "      <td>...</td>\n",
              "      <td>...</td>\n",
              "      <td>...</td>\n",
              "      <td>...</td>\n",
              "      <td>...</td>\n",
              "      <td>...</td>\n",
              "      <td>...</td>\n",
              "      <td>...</td>\n",
              "      <td>...</td>\n",
              "      <td>...</td>\n",
              "      <td>...</td>\n",
              "      <td>...</td>\n",
              "      <td>...</td>\n",
              "      <td>...</td>\n",
              "      <td>...</td>\n",
              "      <td>...</td>\n",
              "      <td>...</td>\n",
              "      <td>...</td>\n",
              "      <td>...</td>\n",
              "    </tr>\n",
              "    <tr>\n",
              "      <th>415</th>\n",
              "      <td>Ignas Brazdeikis</td>\n",
              "      <td>5</td>\n",
              "      <td>15</td>\n",
              "      <td>2</td>\n",
              "      <td>0</td>\n",
              "      <td>4</td>\n",
              "      <td>0.0</td>\n",
              "      <td>0</td>\n",
              "      <td>1</td>\n",
              "      <td>0.0</td>\n",
              "      <td>2</td>\n",
              "      <td>2</td>\n",
              "      <td>100.0</td>\n",
              "      <td>1</td>\n",
              "      <td>3</td>\n",
              "      <td>4</td>\n",
              "      <td>1</td>\n",
              "      <td>0</td>\n",
              "      <td>0</td>\n",
              "      <td>1</td>\n",
              "      <td>0</td>\n",
              "      <td>2</td>\n",
              "      <td>1.00</td>\n",
              "      <td>0.00</td>\n",
              "      <td>1517981</td>\n",
              "    </tr>\n",
              "    <tr>\n",
              "      <th>416</th>\n",
              "      <td>Iman Shumpert</td>\n",
              "      <td>2</td>\n",
              "      <td>11</td>\n",
              "      <td>2</td>\n",
              "      <td>1</td>\n",
              "      <td>4</td>\n",
              "      <td>25.0</td>\n",
              "      <td>0</td>\n",
              "      <td>3</td>\n",
              "      <td>0.0</td>\n",
              "      <td>0</td>\n",
              "      <td>0</td>\n",
              "      <td>0.0</td>\n",
              "      <td>1</td>\n",
              "      <td>0</td>\n",
              "      <td>1</td>\n",
              "      <td>0</td>\n",
              "      <td>1</td>\n",
              "      <td>0</td>\n",
              "      <td>1</td>\n",
              "      <td>0</td>\n",
              "      <td>0</td>\n",
              "      <td>0.00</td>\n",
              "      <td>1.00</td>\n",
              "      <td>447155</td>\n",
              "    </tr>\n",
              "    <tr>\n",
              "      <th>417</th>\n",
              "      <td>T.J. Leaf</td>\n",
              "      <td>2</td>\n",
              "      <td>13</td>\n",
              "      <td>2</td>\n",
              "      <td>1</td>\n",
              "      <td>2</td>\n",
              "      <td>50.0</td>\n",
              "      <td>0</td>\n",
              "      <td>0</td>\n",
              "      <td>0.0</td>\n",
              "      <td>0</td>\n",
              "      <td>0</td>\n",
              "      <td>0.0</td>\n",
              "      <td>0</td>\n",
              "      <td>0</td>\n",
              "      <td>0</td>\n",
              "      <td>0</td>\n",
              "      <td>1</td>\n",
              "      <td>1</td>\n",
              "      <td>1</td>\n",
              "      <td>0</td>\n",
              "      <td>2</td>\n",
              "      <td>0.00</td>\n",
              "      <td>1.00</td>\n",
              "      <td>4326825</td>\n",
              "    </tr>\n",
              "    <tr>\n",
              "      <th>418</th>\n",
              "      <td>Terrance Ferguson</td>\n",
              "      <td>13</td>\n",
              "      <td>49</td>\n",
              "      <td>2</td>\n",
              "      <td>1</td>\n",
              "      <td>7</td>\n",
              "      <td>14.3</td>\n",
              "      <td>0</td>\n",
              "      <td>5</td>\n",
              "      <td>0.0</td>\n",
              "      <td>0</td>\n",
              "      <td>0</td>\n",
              "      <td>0.0</td>\n",
              "      <td>0</td>\n",
              "      <td>1</td>\n",
              "      <td>1</td>\n",
              "      <td>2</td>\n",
              "      <td>1</td>\n",
              "      <td>0</td>\n",
              "      <td>4</td>\n",
              "      <td>7</td>\n",
              "      <td>-4</td>\n",
              "      <td>0.50</td>\n",
              "      <td>0.25</td>\n",
              "      <td>3944013</td>\n",
              "    </tr>\n",
              "    <tr>\n",
              "      <th>419</th>\n",
              "      <td>Noah Vonleh</td>\n",
              "      <td>4</td>\n",
              "      <td>11</td>\n",
              "      <td>0</td>\n",
              "      <td>0</td>\n",
              "      <td>3</td>\n",
              "      <td>0.0</td>\n",
              "      <td>0</td>\n",
              "      <td>2</td>\n",
              "      <td>0.0</td>\n",
              "      <td>0</td>\n",
              "      <td>0</td>\n",
              "      <td>0.0</td>\n",
              "      <td>0</td>\n",
              "      <td>1</td>\n",
              "      <td>1</td>\n",
              "      <td>1</td>\n",
              "      <td>0</td>\n",
              "      <td>0</td>\n",
              "      <td>2</td>\n",
              "      <td>2</td>\n",
              "      <td>-3</td>\n",
              "      <td>0.50</td>\n",
              "      <td>0.00</td>\n",
              "      <td>263995</td>\n",
              "    </tr>\n",
              "  </tbody>\n",
              "</table>\n",
              "<p>420 rows × 25 columns</p>\n",
              "</div>"
            ],
            "text/plain": [
              "                player  games  minutes  points  ...   EFF  AST/  STL/    salary\n",
              "0        Stephen Curry     56     1905    1751  ...  1635  1.72  0.36  43006362\n",
              "1         Bradley Beal     55     1952    1707  ...  1431  1.41  0.37  28751775\n",
              "2         Nikola Jokic     64     2243    1679  ...  2313  2.73  0.45  28542009\n",
              "3       Damian Lillard     59     2116    1668  ...  1551  2.42  0.30  31626953\n",
              "4          Luka Doncic     58     2040    1661  ...  1741  2.06  0.23   8049360\n",
              "..                 ...    ...      ...     ...  ...   ...   ...   ...       ...\n",
              "415   Ignas Brazdeikis      5       15       2  ...     2  1.00  0.00   1517981\n",
              "416      Iman Shumpert      2       11       2  ...     0  0.00  1.00    447155\n",
              "417          T.J. Leaf      2       13       2  ...     2  0.00  1.00   4326825\n",
              "418  Terrance Ferguson     13       49       2  ...    -4  0.50  0.25   3944013\n",
              "419        Noah Vonleh      4       11       0  ...    -3  0.50  0.00    263995\n",
              "\n",
              "[420 rows x 25 columns]"
            ]
          },
          "metadata": {
            "tags": []
          },
          "execution_count": 3
        }
      ]
    },
    {
      "cell_type": "code",
      "metadata": {
        "colab": {
          "base_uri": "https://localhost:8080/"
        },
        "id": "54xeOHztSENp",
        "outputId": "fac305f5-4cce-4cd4-dd2b-6ef8960ffe3e"
      },
      "source": [
        "# Modify df columns\n",
        "\n",
        "df_wnba_general['points/min'] = df_wnba_general['points'] / df_wnba_general['minutes']\n",
        "df_wnba_general['assists/min'] = df_wnba_general['assists'] / df_wnba_general['minutes']\n",
        "df_wnba_general['rebounds/min'] = df_wnba_general['rebds.'] / df_wnba_general['minutes']\n",
        "df_wnba_general['minutes/game'] = df_wnba_general['minutes'] / df_wnba_general['games'] * 48/40 #Scale to account for difference in length of WNBA and NBA games\n",
        "df_wnba_general = df_wnba_general.replace([np.inf, -np.inf], np.nan)\n",
        "df_wnba_general.dropna()\n",
        "print(df_wnba_general)\n",
        "\n",
        "df_mnba_general['points/min'] = df_mnba_general['points'] / df_mnba_general['minutes']\n",
        "df_mnba_general['assists/min'] = df_mnba_general['assists'] / df_mnba_general['minutes']\n",
        "df_mnba_general['rebounds/min'] = df_mnba_general['rebds.'] / df_mnba_general['minutes']\n",
        "df_mnba_general['minutes/game'] = df_mnba_general['minutes'] / df_mnba_general['games']\n",
        "df_mnba_general = df_mnba_general.replace([np.inf, -np.inf], np.nan)\n",
        "df_mnba_general.dropna()\n",
        "print(df_mnba_general)"
      ],
      "execution_count": 4,
      "outputs": [
        {
          "output_type": "stream",
          "text": [
            "               player team position  ...  assists/min  rebounds/min  minutes/game\n",
            "0    Arike Ogunbowale  Dal        G  ...     0.100267      0.081551     40.800000\n",
            "1         A'ja Wilson  LVA        F  ...     0.064378      0.268956     38.127273\n",
            "2      DeWanna Bonner  Con        G  ...     0.088798      0.234973     39.927273\n",
            "3     Breanna Stewart  Sea        F  ...     0.118616      0.271829     36.420000\n",
            "4     Kelsey Mitchell  Ind        G  ...     0.087819      0.067989     38.509091\n",
            "..                ...  ...      ...  ...          ...           ...           ...\n",
            "137       Emma Cannon  LVA        F  ...          NaN           NaN      0.000000\n",
            "138    Alisia Jenkins  Chi        F  ...     0.000000      0.000000      1.200000\n",
            "139    Alisia Jenkins  Ind        F  ...     0.000000      0.500000      2.400000\n",
            "140       Kaela Davis  Atl        G  ...     0.000000      0.000000      1.200000\n",
            "141      Erica McCall  Atl        F  ...     0.000000      0.400000      6.000000\n",
            "\n",
            "[142 rows x 27 columns]\n",
            "                player  games  minutes  ...  assists/min  rebounds/min  minutes/game\n",
            "0        Stephen Curry     56     1905  ...     0.169554      0.162730     34.017857\n",
            "1         Bradley Beal     55     1952  ...     0.126025      0.132172     35.490909\n",
            "2         Nikola Jokic     64     2243  ...     0.243424      0.312082     35.046875\n",
            "3       Damian Lillard     59     2116  ...     0.210775      0.118620     35.864407\n",
            "4          Luka Doncic     58     2040  ...     0.252451      0.226961     35.172414\n",
            "..                 ...    ...      ...  ...          ...           ...           ...\n",
            "415   Ignas Brazdeikis      5       15  ...     0.066667      0.266667      3.000000\n",
            "416      Iman Shumpert      2       11  ...     0.000000      0.090909      5.500000\n",
            "417          T.J. Leaf      2       13  ...     0.000000      0.000000      6.500000\n",
            "418  Terrance Ferguson     13       49  ...     0.040816      0.020408      3.769231\n",
            "419        Noah Vonleh      4       11  ...     0.090909      0.090909      2.750000\n",
            "\n",
            "[420 rows x 29 columns]\n"
          ],
          "name": "stdout"
        }
      ]
    },
    {
      "cell_type": "code",
      "metadata": {
        "colab": {
          "base_uri": "https://localhost:8080/"
        },
        "id": "FhSlaAOYTx4q",
        "outputId": "7f3ca336-dbfe-4d39-b643-ab8069919ac5"
      },
      "source": [
        "from sklearn.preprocessing import StandardScaler as wnba_StandardScaler\n",
        "from sklearn.decomposition import PCA as wnba_PCA\n",
        "\n",
        "# Standardizing Data\n",
        "wnba_features = ['minutes/game', 'points/min', 'assists/min', 'rebounds/min']\n",
        "wnba_x = df_wnba_general.loc[:, wnba_features].dropna().values\n",
        "wnba_y = df_wnba_general.loc[:, ['salary']].dropna().values\n",
        "wnba_x = wnba_StandardScaler().fit_transform(wnba_x)\n",
        "\n",
        "# PCA Processing\n",
        "wnba_pca = wnba_PCA(n_components = 4)\n",
        "wnba_principalComponents = wnba_pca.fit_transform(wnba_x)\n",
        "wnba_df_principal = pd.DataFrame(data = wnba_principalComponents, columns=['pc_1', 'pc_2', 'pc_3', 'pc_4'])\n",
        "wnba_df_final = pd.concat([wnba_df_principal, df_wnba_general[['salary']]], axis = 1)\n",
        "wnba_results = wnba_pca.explained_variance_ratio_\n",
        "print(wnba_results)"
      ],
      "execution_count": 5,
      "outputs": [
        {
          "output_type": "stream",
          "text": [
            "[0.52000132 0.27190841 0.12897109 0.07911918]\n"
          ],
          "name": "stdout"
        }
      ]
    },
    {
      "cell_type": "code",
      "metadata": {
        "colab": {
          "base_uri": "https://localhost:8080/"
        },
        "id": "zGjScv6GS8u5",
        "outputId": "73921ae0-8398-46c3-dc79-87aa00f2a82c"
      },
      "source": [
        "from sklearn.preprocessing import StandardScaler as mnba_StandardScaler\n",
        "from sklearn.decomposition import PCA as mnba_PCA\n",
        "\n",
        "# Standardizing Data\n",
        "mnba_features = ['minutes/game', 'points/min', 'assists/min', 'rebounds/min']\n",
        "mnba_x = df_mnba_general.loc[:, mnba_features].dropna().values\n",
        "mnba_y = df_mnba_general.loc[:, ['salary']].dropna().values\n",
        "mnba_x = mnba_StandardScaler().fit_transform(mnba_x)\n",
        "\n",
        "# PCA Processing\n",
        "mnba_pca = mnba_PCA(n_components = 4)\n",
        "mnba_principalComponents = mnba_pca.fit_transform(mnba_x)\n",
        "mnba_df_principal = pd.DataFrame(data = mnba_principalComponents, columns=['pc_1', 'pc_2', 'pc_3', 'pc_4'])\n",
        "mnba_df_final = pd.concat([mnba_df_principal, df_mnba_general[['salary']]], axis = 1)\n",
        "mnba_results = mnba_pca.explained_variance_ratio_\n",
        "print(mnba_results)"
      ],
      "execution_count": 6,
      "outputs": [
        {
          "output_type": "stream",
          "text": [
            "[0.4856832  0.27166118 0.1420279  0.10062772]\n"
          ],
          "name": "stdout"
        }
      ]
    },
    {
      "cell_type": "code",
      "metadata": {
        "colab": {
          "base_uri": "https://localhost:8080/",
          "height": 51
        },
        "id": "CP-dtqlkWFDz",
        "outputId": "9ac0eaeb-4ee8-4da1-fd90-2c28ad96d598"
      },
      "source": [
        "# Using results to form all-encompassing player performance metric\n",
        "df_wnba_general['Stat'] = wnba_results[0] * df_wnba_general['points/min'] + wnba_results[1] * df_wnba_general['assists/min'] + wnba_results[2] * df_wnba_general['rebounds/min'] + wnba_results[3] * df_wnba_general['minutes']\n",
        "df_mnba_general['Stat'] = mnba_results[0] * df_mnba_general['points/min'] + mnba_results[1] * df_mnba_general['assists/min'] + mnba_results[2] * df_mnba_general['rebounds/min'] + mnba_results[3] * df_mnba_general['minutes']\n",
        "\n",
        "df_wnba_general = df_wnba_general.sort_values(by=['Stat'], ascending=False)\n",
        "df_mnba_general = df_mnba_general.sort_values(by=['Stat'], ascending=False)\n",
        "\n",
        "df_wnba_general.to_csv('WNBA Stats.csv')\n",
        "files.download('WNBA Stats.csv')\n",
        "\n",
        "df_mnba_general.to_csv('MNBA Stats.csv')\n",
        "files.download('MNBA Stats.csv')"
      ],
      "execution_count": 7,
      "outputs": [
        {
          "output_type": "display_data",
          "data": {
            "application/javascript": [
              "\n",
              "    async function download(id, filename, size) {\n",
              "      if (!google.colab.kernel.accessAllowed) {\n",
              "        return;\n",
              "      }\n",
              "      const div = document.createElement('div');\n",
              "      const label = document.createElement('label');\n",
              "      label.textContent = `Downloading \"${filename}\": `;\n",
              "      div.appendChild(label);\n",
              "      const progress = document.createElement('progress');\n",
              "      progress.max = size;\n",
              "      div.appendChild(progress);\n",
              "      document.body.appendChild(div);\n",
              "\n",
              "      const buffers = [];\n",
              "      let downloaded = 0;\n",
              "\n",
              "      const channel = await google.colab.kernel.comms.open(id);\n",
              "      // Send a message to notify the kernel that we're ready.\n",
              "      channel.send({})\n",
              "\n",
              "      for await (const message of channel.messages) {\n",
              "        // Send a message to notify the kernel that we're ready.\n",
              "        channel.send({})\n",
              "        if (message.buffers) {\n",
              "          for (const buffer of message.buffers) {\n",
              "            buffers.push(buffer);\n",
              "            downloaded += buffer.byteLength;\n",
              "            progress.value = downloaded;\n",
              "          }\n",
              "        }\n",
              "      }\n",
              "      const blob = new Blob(buffers, {type: 'application/binary'});\n",
              "      const a = document.createElement('a');\n",
              "      a.href = window.URL.createObjectURL(blob);\n",
              "      a.download = filename;\n",
              "      div.appendChild(a);\n",
              "      a.click();\n",
              "      div.remove();\n",
              "    }\n",
              "  "
            ],
            "text/plain": [
              "<IPython.core.display.Javascript object>"
            ]
          },
          "metadata": {
            "tags": []
          }
        },
        {
          "output_type": "display_data",
          "data": {
            "application/javascript": [
              "download(\"download_2b62990b-12a7-4744-9e57-13cee73ea88c\", \"WNBA Stats.csv\", 25510)"
            ],
            "text/plain": [
              "<IPython.core.display.Javascript object>"
            ]
          },
          "metadata": {
            "tags": []
          }
        },
        {
          "output_type": "display_data",
          "data": {
            "application/javascript": [
              "\n",
              "    async function download(id, filename, size) {\n",
              "      if (!google.colab.kernel.accessAllowed) {\n",
              "        return;\n",
              "      }\n",
              "      const div = document.createElement('div');\n",
              "      const label = document.createElement('label');\n",
              "      label.textContent = `Downloading \"${filename}\": `;\n",
              "      div.appendChild(label);\n",
              "      const progress = document.createElement('progress');\n",
              "      progress.max = size;\n",
              "      div.appendChild(progress);\n",
              "      document.body.appendChild(div);\n",
              "\n",
              "      const buffers = [];\n",
              "      let downloaded = 0;\n",
              "\n",
              "      const channel = await google.colab.kernel.comms.open(id);\n",
              "      // Send a message to notify the kernel that we're ready.\n",
              "      channel.send({})\n",
              "\n",
              "      for await (const message of channel.messages) {\n",
              "        // Send a message to notify the kernel that we're ready.\n",
              "        channel.send({})\n",
              "        if (message.buffers) {\n",
              "          for (const buffer of message.buffers) {\n",
              "            buffers.push(buffer);\n",
              "            downloaded += buffer.byteLength;\n",
              "            progress.value = downloaded;\n",
              "          }\n",
              "        }\n",
              "      }\n",
              "      const blob = new Blob(buffers, {type: 'application/binary'});\n",
              "      const a = document.createElement('a');\n",
              "      a.href = window.URL.createObjectURL(blob);\n",
              "      a.download = filename;\n",
              "      div.appendChild(a);\n",
              "      a.click();\n",
              "      div.remove();\n",
              "    }\n",
              "  "
            ],
            "text/plain": [
              "<IPython.core.display.Javascript object>"
            ]
          },
          "metadata": {
            "tags": []
          }
        },
        {
          "output_type": "display_data",
          "data": {
            "application/javascript": [
              "download(\"download_51fe79a3-df62-4935-9bff-6b7afc96a51f\", \"MNBA Stats.csv\", 85614)"
            ],
            "text/plain": [
              "<IPython.core.display.Javascript object>"
            ]
          },
          "metadata": {
            "tags": []
          }
        }
      ]
    },
    {
      "cell_type": "code",
      "metadata": {
        "colab": {
          "base_uri": "https://localhost:8080/"
        },
        "id": "L07ZnUhsq8kb",
        "outputId": "e9ef3065-222f-4596-fc74-75dda03d5206"
      },
      "source": [
        "# Comining MNBA and WNBA PCA results by averaging each weight\n",
        "pca_weighted_results = list()\n",
        "sum = 0\n",
        "for i in range(0, 4):\n",
        "  pca_weighted_results.append((wnba_results[i] + mnba_results[i])/2)\n",
        "  sum += ((wnba_results[i] + mnba_results[i])/2)\n",
        "print(pca_weighted_results)\n",
        "print(sum) # Make sure sum is very close to 1"
      ],
      "execution_count": 8,
      "outputs": [
        {
          "output_type": "stream",
          "text": [
            "[0.5028422613056367, 0.271784794225057, 0.1354994985248121, 0.08987344594449426]\n",
            "1.0000000000000002\n"
          ],
          "name": "stdout"
        }
      ]
    },
    {
      "cell_type": "code",
      "metadata": {
        "colab": {
          "base_uri": "https://localhost:8080/",
          "height": 34
        },
        "id": "-30X1JnRsinU",
        "outputId": "c77a6bb6-f2f7-4453-e34e-239998cfe7ea"
      },
      "source": [
        "# Interpreting PCA results\n",
        "# Combine NBA and WNBA data, taking note of which data set each entry belongs to\n",
        "df_overall_general = pd.DataFrame(columns=['player', 'League', 'minutes/game', 'points/min', 'assists/min', 'rebounds/min', 'salary'])\n",
        "df_wnba_general['League'] = \"WNBA\"\n",
        "df_mnba_general['League'] = \"NBA\"\n",
        "df_wnba_new = df_wnba_general[['player', 'League', 'minutes/game', 'points/min', 'assists/min', 'rebounds/min', 'salary']]\n",
        "df_mnba_new = df_mnba_general[['player', 'League', 'minutes/game', 'points/min', 'assists/min', 'rebounds/min', 'salary']]\n",
        "df_wnba_new.dropna()\n",
        "df_mnba_new.dropna()\n",
        "\n",
        "minutes_mean = df_wnba_new['minutes/game'].mean()\n",
        "minutes_std = df_wnba_new['minutes/game'].std(ddof=0)\n",
        "pointsPerMin_mean = df_wnba_new['points/min'].mean()\n",
        "pointsPerMin_std = df_wnba_new['points/min'].std()\n",
        "assistsPerMin_mean = df_wnba_new['assists/min'].mean()\n",
        "assistsPerMin_std = df_wnba_new['assists/min'].std()\n",
        "reboundsPerMin_mean = df_wnba_new['rebounds/min'].mean()\n",
        "reboundsPerMin_std = df_wnba_new['rebounds/min'].std()\n",
        "for index, row in df_wnba_new.iterrows():\n",
        "  df_wnba_new.at[index, 'minutes/game'] = (row['minutes/game'] - minutes_mean)/(minutes_std)\n",
        "  df_wnba_new.at[index, 'points/min'] = (row['points/min'] - pointsPerMin_mean)/(pointsPerMin_std)\n",
        "  df_wnba_new.at[index, 'assists/min'] = (row['assists/min'] - assistsPerMin_mean)/(assistsPerMin_std)\n",
        "  df_wnba_new.at[index, 'rebounds/min'] = (row['rebounds/min'] - reboundsPerMin_mean)/(reboundsPerMin_std)\n",
        "minutes_mean = df_mnba_new['minutes/game'].mean()\n",
        "minutes_std = df_mnba_new['minutes/game'].std(ddof=0)\n",
        "pointsPerMin_mean = df_mnba_new['points/min'].mean()\n",
        "pointsPerMin_std = df_mnba_new['points/min'].std()\n",
        "assistsPerMin_mean = df_mnba_new['assists/min'].mean()\n",
        "assistsPerMin_std = df_mnba_new['assists/min'].std()\n",
        "reboundsPerMin_mean = df_mnba_new['rebounds/min'].mean()\n",
        "reboundsPerMin_std = df_mnba_new['rebounds/min'].std()\n",
        "for index, row in df_mnba_new.iterrows():\n",
        "  df_mnba_new.at[index, 'minutes/game'] = (row['minutes/game'] - minutes_mean)/(minutes_std)\n",
        "  df_mnba_new.at[index, 'points/min'] = (row['points/min'] - pointsPerMin_mean)/(pointsPerMin_std)\n",
        "  df_mnba_new.at[index, 'assists/min'] = (row['assists/min'] - assistsPerMin_mean)/(assistsPerMin_std)\n",
        "  df_mnba_new.at[index, 'rebounds/min'] = (row['rebounds/min'] - reboundsPerMin_mean)/(reboundsPerMin_std)\n",
        "df_overall_general = pd.concat([df_wnba_new, df_mnba_new])\n",
        "df_overall_general['projected_value'] = pca_weighted_results[0] * df_overall_general['minutes/game'] + pca_weighted_results[1] * df_overall_general['points/min'] + pca_weighted_results[2] * df_overall_general['assists/min'] + pca_weighted_results[3] * df_overall_general['rebounds/min']\n",
        "df_overall_general = df_overall_general.replace([np.inf, -np.inf], np.nan)\n",
        "df_overall_general.dropna()\n",
        "df_overall_general.sort_values(by=['projected_value'], ascending=False)\n",
        "df_overall_general.to_csv('players-projected-salary-rankings.csv')\n",
        "files.download('players-projected-salary-rankings.csv')"
      ],
      "execution_count": 9,
      "outputs": [
        {
          "output_type": "display_data",
          "data": {
            "application/javascript": [
              "\n",
              "    async function download(id, filename, size) {\n",
              "      if (!google.colab.kernel.accessAllowed) {\n",
              "        return;\n",
              "      }\n",
              "      const div = document.createElement('div');\n",
              "      const label = document.createElement('label');\n",
              "      label.textContent = `Downloading \"${filename}\": `;\n",
              "      div.appendChild(label);\n",
              "      const progress = document.createElement('progress');\n",
              "      progress.max = size;\n",
              "      div.appendChild(progress);\n",
              "      document.body.appendChild(div);\n",
              "\n",
              "      const buffers = [];\n",
              "      let downloaded = 0;\n",
              "\n",
              "      const channel = await google.colab.kernel.comms.open(id);\n",
              "      // Send a message to notify the kernel that we're ready.\n",
              "      channel.send({})\n",
              "\n",
              "      for await (const message of channel.messages) {\n",
              "        // Send a message to notify the kernel that we're ready.\n",
              "        channel.send({})\n",
              "        if (message.buffers) {\n",
              "          for (const buffer of message.buffers) {\n",
              "            buffers.push(buffer);\n",
              "            downloaded += buffer.byteLength;\n",
              "            progress.value = downloaded;\n",
              "          }\n",
              "        }\n",
              "      }\n",
              "      const blob = new Blob(buffers, {type: 'application/binary'});\n",
              "      const a = document.createElement('a');\n",
              "      a.href = window.URL.createObjectURL(blob);\n",
              "      a.download = filename;\n",
              "      div.appendChild(a);\n",
              "      a.click();\n",
              "      div.remove();\n",
              "    }\n",
              "  "
            ],
            "text/plain": [
              "<IPython.core.display.Javascript object>"
            ]
          },
          "metadata": {
            "tags": []
          }
        },
        {
          "output_type": "display_data",
          "data": {
            "application/javascript": [
              "download(\"download_7a956416-89c7-4849-a00f-7398941e4776\", \"players-projected-salary-rankings.csv\", 72106)"
            ],
            "text/plain": [
              "<IPython.core.display.Javascript object>"
            ]
          },
          "metadata": {
            "tags": []
          }
        }
      ]
    },
    {
      "cell_type": "code",
      "metadata": {
        "colab": {
          "base_uri": "https://localhost:8080/",
          "height": 542
        },
        "id": "urRaOnMsSKKu",
        "outputId": "b59697ce-b0eb-40c5-9bc5-cf21a1b5b145"
      },
      "source": [
        "df_overall_general_top_wnba = df_overall_general[df_overall_general['League'] == \"WNBA\"].sort_values(by='projected_value', ascending = False).head(15)\n",
        "px.bar(df_overall_general_top_wnba, y='projected_value', x='player', color = 'League')\n",
        "\n",
        "df_overall_general_top_mnba = df_overall_general[df_overall_general['League'] == \"NBA\"].sort_values(by='projected_value', ascending = False).head(15)\n",
        "px.bar(df_overall_general_top_mnba, y='projected_value', x='player', color = 'League')"
      ],
      "execution_count": 10,
      "outputs": [
        {
          "output_type": "display_data",
          "data": {
            "text/html": [
              "<html>\n",
              "<head><meta charset=\"utf-8\" /></head>\n",
              "<body>\n",
              "    <div>\n",
              "            <script src=\"https://cdnjs.cloudflare.com/ajax/libs/mathjax/2.7.5/MathJax.js?config=TeX-AMS-MML_SVG\"></script><script type=\"text/javascript\">if (window.MathJax) {MathJax.Hub.Config({SVG: {font: \"STIX-Web\"}});}</script>\n",
              "                <script type=\"text/javascript\">window.PlotlyConfig = {MathJaxConfig: 'local'};</script>\n",
              "        <script src=\"https://cdn.plot.ly/plotly-latest.min.js\"></script>    \n",
              "            <div id=\"959c3aa0-06a6-4f08-be65-4df4c90291c5\" class=\"plotly-graph-div\" style=\"height:525px; width:100%;\"></div>\n",
              "            <script type=\"text/javascript\">\n",
              "                \n",
              "                    window.PLOTLYENV=window.PLOTLYENV || {};\n",
              "                    \n",
              "                if (document.getElementById(\"959c3aa0-06a6-4f08-be65-4df4c90291c5\")) {\n",
              "                    Plotly.newPlot(\n",
              "                        '959c3aa0-06a6-4f08-be65-4df4c90291c5',\n",
              "                        [{\"alignmentgroup\": \"True\", \"hoverlabel\": {\"namelength\": 0}, \"hovertemplate\": \"League=NBA<br>player=%{x}<br>projected_value=%{y}\", \"legendgroup\": \"League=NBA\", \"marker\": {\"color\": \"#636efa\"}, \"name\": \"League=NBA\", \"offsetgroup\": \"League=NBA\", \"orientation\": \"v\", \"showlegend\": true, \"textposition\": \"auto\", \"type\": \"bar\", \"x\": [\"Luka Doncic\", \"James Harden\", \"Nikola Jokic\", \"Giannis Antetokounmpo\", \"Russell Westbrook\", \"Stephen Curry\", \"Damian Lillard\", \"Trae Young\", \"LeBron James\", \"Joel Embiid\", \"Bradley Beal\", \"Kevin Durant\", \"Julius Randle\", \"Kyrie Irving\", \"Zach LaVine\"], \"xaxis\": \"x\", \"y\": [1.8965199773651187, 1.846987906350001, 1.835803751929855, 1.7910308378537771, 1.7831939892403064, 1.7556544152449516, 1.6738844772688952, 1.6538079107227086, 1.63976920710211, 1.6352245647174966, 1.6194506597224068, 1.5914191862951945, 1.536988518484339, 1.5337320052437051, 1.4895932069239557], \"yaxis\": \"y\"}],\n",
              "                        {\"barmode\": \"relative\", \"legend\": {\"tracegroupgap\": 0}, \"margin\": {\"t\": 60}, \"template\": {\"data\": {\"bar\": [{\"error_x\": {\"color\": \"#2a3f5f\"}, \"error_y\": {\"color\": \"#2a3f5f\"}, \"marker\": {\"line\": {\"color\": \"#E5ECF6\", \"width\": 0.5}}, \"type\": \"bar\"}], \"barpolar\": [{\"marker\": {\"line\": {\"color\": \"#E5ECF6\", \"width\": 0.5}}, \"type\": \"barpolar\"}], \"carpet\": [{\"aaxis\": {\"endlinecolor\": \"#2a3f5f\", \"gridcolor\": \"white\", \"linecolor\": \"white\", \"minorgridcolor\": \"white\", \"startlinecolor\": \"#2a3f5f\"}, \"baxis\": {\"endlinecolor\": \"#2a3f5f\", \"gridcolor\": \"white\", \"linecolor\": \"white\", \"minorgridcolor\": \"white\", \"startlinecolor\": \"#2a3f5f\"}, \"type\": \"carpet\"}], \"choropleth\": [{\"colorbar\": {\"outlinewidth\": 0, \"ticks\": \"\"}, \"type\": \"choropleth\"}], \"contour\": [{\"colorbar\": {\"outlinewidth\": 0, \"ticks\": \"\"}, \"colorscale\": [[0.0, \"#0d0887\"], [0.1111111111111111, \"#46039f\"], [0.2222222222222222, \"#7201a8\"], [0.3333333333333333, \"#9c179e\"], [0.4444444444444444, \"#bd3786\"], [0.5555555555555556, \"#d8576b\"], [0.6666666666666666, \"#ed7953\"], [0.7777777777777778, \"#fb9f3a\"], [0.8888888888888888, \"#fdca26\"], [1.0, \"#f0f921\"]], \"type\": \"contour\"}], \"contourcarpet\": [{\"colorbar\": {\"outlinewidth\": 0, \"ticks\": \"\"}, \"type\": \"contourcarpet\"}], \"heatmap\": [{\"colorbar\": {\"outlinewidth\": 0, \"ticks\": \"\"}, \"colorscale\": [[0.0, \"#0d0887\"], [0.1111111111111111, \"#46039f\"], [0.2222222222222222, \"#7201a8\"], [0.3333333333333333, \"#9c179e\"], [0.4444444444444444, \"#bd3786\"], [0.5555555555555556, \"#d8576b\"], [0.6666666666666666, \"#ed7953\"], [0.7777777777777778, \"#fb9f3a\"], [0.8888888888888888, \"#fdca26\"], [1.0, \"#f0f921\"]], \"type\": \"heatmap\"}], \"heatmapgl\": [{\"colorbar\": {\"outlinewidth\": 0, \"ticks\": \"\"}, \"colorscale\": [[0.0, \"#0d0887\"], [0.1111111111111111, \"#46039f\"], [0.2222222222222222, \"#7201a8\"], [0.3333333333333333, \"#9c179e\"], [0.4444444444444444, \"#bd3786\"], [0.5555555555555556, \"#d8576b\"], [0.6666666666666666, \"#ed7953\"], [0.7777777777777778, \"#fb9f3a\"], [0.8888888888888888, \"#fdca26\"], [1.0, \"#f0f921\"]], \"type\": \"heatmapgl\"}], \"histogram\": [{\"marker\": {\"colorbar\": {\"outlinewidth\": 0, \"ticks\": \"\"}}, \"type\": \"histogram\"}], \"histogram2d\": [{\"colorbar\": {\"outlinewidth\": 0, \"ticks\": \"\"}, \"colorscale\": [[0.0, \"#0d0887\"], [0.1111111111111111, \"#46039f\"], [0.2222222222222222, \"#7201a8\"], [0.3333333333333333, \"#9c179e\"], [0.4444444444444444, \"#bd3786\"], [0.5555555555555556, \"#d8576b\"], [0.6666666666666666, \"#ed7953\"], [0.7777777777777778, \"#fb9f3a\"], [0.8888888888888888, \"#fdca26\"], [1.0, \"#f0f921\"]], \"type\": \"histogram2d\"}], \"histogram2dcontour\": [{\"colorbar\": {\"outlinewidth\": 0, \"ticks\": \"\"}, \"colorscale\": [[0.0, \"#0d0887\"], [0.1111111111111111, \"#46039f\"], [0.2222222222222222, \"#7201a8\"], [0.3333333333333333, \"#9c179e\"], [0.4444444444444444, \"#bd3786\"], [0.5555555555555556, \"#d8576b\"], [0.6666666666666666, \"#ed7953\"], [0.7777777777777778, \"#fb9f3a\"], [0.8888888888888888, \"#fdca26\"], [1.0, \"#f0f921\"]], \"type\": \"histogram2dcontour\"}], \"mesh3d\": [{\"colorbar\": {\"outlinewidth\": 0, \"ticks\": \"\"}, \"type\": \"mesh3d\"}], \"parcoords\": [{\"line\": {\"colorbar\": {\"outlinewidth\": 0, \"ticks\": \"\"}}, \"type\": \"parcoords\"}], \"pie\": [{\"automargin\": true, \"type\": \"pie\"}], \"scatter\": [{\"marker\": {\"colorbar\": {\"outlinewidth\": 0, \"ticks\": \"\"}}, \"type\": \"scatter\"}], \"scatter3d\": [{\"line\": {\"colorbar\": {\"outlinewidth\": 0, \"ticks\": \"\"}}, \"marker\": {\"colorbar\": {\"outlinewidth\": 0, \"ticks\": \"\"}}, \"type\": \"scatter3d\"}], \"scattercarpet\": [{\"marker\": {\"colorbar\": {\"outlinewidth\": 0, \"ticks\": \"\"}}, \"type\": \"scattercarpet\"}], \"scattergeo\": [{\"marker\": {\"colorbar\": {\"outlinewidth\": 0, \"ticks\": \"\"}}, \"type\": \"scattergeo\"}], \"scattergl\": [{\"marker\": {\"colorbar\": {\"outlinewidth\": 0, \"ticks\": \"\"}}, \"type\": \"scattergl\"}], \"scattermapbox\": [{\"marker\": {\"colorbar\": {\"outlinewidth\": 0, \"ticks\": \"\"}}, \"type\": \"scattermapbox\"}], \"scatterpolar\": [{\"marker\": {\"colorbar\": {\"outlinewidth\": 0, \"ticks\": \"\"}}, \"type\": \"scatterpolar\"}], \"scatterpolargl\": [{\"marker\": {\"colorbar\": {\"outlinewidth\": 0, \"ticks\": \"\"}}, \"type\": \"scatterpolargl\"}], \"scatterternary\": [{\"marker\": {\"colorbar\": {\"outlinewidth\": 0, \"ticks\": \"\"}}, \"type\": \"scatterternary\"}], \"surface\": [{\"colorbar\": {\"outlinewidth\": 0, \"ticks\": \"\"}, \"colorscale\": [[0.0, \"#0d0887\"], [0.1111111111111111, \"#46039f\"], [0.2222222222222222, \"#7201a8\"], [0.3333333333333333, \"#9c179e\"], [0.4444444444444444, \"#bd3786\"], [0.5555555555555556, \"#d8576b\"], [0.6666666666666666, \"#ed7953\"], [0.7777777777777778, \"#fb9f3a\"], [0.8888888888888888, \"#fdca26\"], [1.0, \"#f0f921\"]], \"type\": \"surface\"}], \"table\": [{\"cells\": {\"fill\": {\"color\": \"#EBF0F8\"}, \"line\": {\"color\": \"white\"}}, \"header\": {\"fill\": {\"color\": \"#C8D4E3\"}, \"line\": {\"color\": \"white\"}}, \"type\": \"table\"}]}, \"layout\": {\"annotationdefaults\": {\"arrowcolor\": \"#2a3f5f\", \"arrowhead\": 0, \"arrowwidth\": 1}, \"coloraxis\": {\"colorbar\": {\"outlinewidth\": 0, \"ticks\": \"\"}}, \"colorscale\": {\"diverging\": [[0, \"#8e0152\"], [0.1, \"#c51b7d\"], [0.2, \"#de77ae\"], [0.3, \"#f1b6da\"], [0.4, \"#fde0ef\"], [0.5, \"#f7f7f7\"], [0.6, \"#e6f5d0\"], [0.7, \"#b8e186\"], [0.8, \"#7fbc41\"], [0.9, \"#4d9221\"], [1, \"#276419\"]], \"sequential\": [[0.0, \"#0d0887\"], [0.1111111111111111, \"#46039f\"], [0.2222222222222222, \"#7201a8\"], [0.3333333333333333, \"#9c179e\"], [0.4444444444444444, \"#bd3786\"], [0.5555555555555556, \"#d8576b\"], [0.6666666666666666, \"#ed7953\"], [0.7777777777777778, \"#fb9f3a\"], [0.8888888888888888, \"#fdca26\"], [1.0, \"#f0f921\"]], \"sequentialminus\": [[0.0, \"#0d0887\"], [0.1111111111111111, \"#46039f\"], [0.2222222222222222, \"#7201a8\"], [0.3333333333333333, \"#9c179e\"], [0.4444444444444444, \"#bd3786\"], [0.5555555555555556, \"#d8576b\"], [0.6666666666666666, \"#ed7953\"], [0.7777777777777778, \"#fb9f3a\"], [0.8888888888888888, \"#fdca26\"], [1.0, \"#f0f921\"]]}, \"colorway\": [\"#636efa\", \"#EF553B\", \"#00cc96\", \"#ab63fa\", \"#FFA15A\", \"#19d3f3\", \"#FF6692\", \"#B6E880\", \"#FF97FF\", \"#FECB52\"], \"font\": {\"color\": \"#2a3f5f\"}, \"geo\": {\"bgcolor\": \"white\", \"lakecolor\": \"white\", \"landcolor\": \"#E5ECF6\", \"showlakes\": true, \"showland\": true, \"subunitcolor\": \"white\"}, \"hoverlabel\": {\"align\": \"left\"}, \"hovermode\": \"closest\", \"mapbox\": {\"style\": \"light\"}, \"paper_bgcolor\": \"white\", \"plot_bgcolor\": \"#E5ECF6\", \"polar\": {\"angularaxis\": {\"gridcolor\": \"white\", \"linecolor\": \"white\", \"ticks\": \"\"}, \"bgcolor\": \"#E5ECF6\", \"radialaxis\": {\"gridcolor\": \"white\", \"linecolor\": \"white\", \"ticks\": \"\"}}, \"scene\": {\"xaxis\": {\"backgroundcolor\": \"#E5ECF6\", \"gridcolor\": \"white\", \"gridwidth\": 2, \"linecolor\": \"white\", \"showbackground\": true, \"ticks\": \"\", \"zerolinecolor\": \"white\"}, \"yaxis\": {\"backgroundcolor\": \"#E5ECF6\", \"gridcolor\": \"white\", \"gridwidth\": 2, \"linecolor\": \"white\", \"showbackground\": true, \"ticks\": \"\", \"zerolinecolor\": \"white\"}, \"zaxis\": {\"backgroundcolor\": \"#E5ECF6\", \"gridcolor\": \"white\", \"gridwidth\": 2, \"linecolor\": \"white\", \"showbackground\": true, \"ticks\": \"\", \"zerolinecolor\": \"white\"}}, \"shapedefaults\": {\"line\": {\"color\": \"#2a3f5f\"}}, \"ternary\": {\"aaxis\": {\"gridcolor\": \"white\", \"linecolor\": \"white\", \"ticks\": \"\"}, \"baxis\": {\"gridcolor\": \"white\", \"linecolor\": \"white\", \"ticks\": \"\"}, \"bgcolor\": \"#E5ECF6\", \"caxis\": {\"gridcolor\": \"white\", \"linecolor\": \"white\", \"ticks\": \"\"}}, \"title\": {\"x\": 0.05}, \"xaxis\": {\"automargin\": true, \"gridcolor\": \"white\", \"linecolor\": \"white\", \"ticks\": \"\", \"title\": {\"standoff\": 15}, \"zerolinecolor\": \"white\", \"zerolinewidth\": 2}, \"yaxis\": {\"automargin\": true, \"gridcolor\": \"white\", \"linecolor\": \"white\", \"ticks\": \"\", \"title\": {\"standoff\": 15}, \"zerolinecolor\": \"white\", \"zerolinewidth\": 2}}}, \"xaxis\": {\"anchor\": \"y\", \"domain\": [0.0, 1.0], \"title\": {\"text\": \"player\"}}, \"yaxis\": {\"anchor\": \"x\", \"domain\": [0.0, 1.0], \"title\": {\"text\": \"projected_value\"}}},\n",
              "                        {\"responsive\": true}\n",
              "                    ).then(function(){\n",
              "                            \n",
              "var gd = document.getElementById('959c3aa0-06a6-4f08-be65-4df4c90291c5');\n",
              "var x = new MutationObserver(function (mutations, observer) {{\n",
              "        var display = window.getComputedStyle(gd).display;\n",
              "        if (!display || display === 'none') {{\n",
              "            console.log([gd, 'removed!']);\n",
              "            Plotly.purge(gd);\n",
              "            observer.disconnect();\n",
              "        }}\n",
              "}});\n",
              "\n",
              "// Listen for the removal of the full notebook cells\n",
              "var notebookContainer = gd.closest('#notebook-container');\n",
              "if (notebookContainer) {{\n",
              "    x.observe(notebookContainer, {childList: true});\n",
              "}}\n",
              "\n",
              "// Listen for the clearing of the current output cell\n",
              "var outputEl = gd.closest('.output');\n",
              "if (outputEl) {{\n",
              "    x.observe(outputEl, {childList: true});\n",
              "}}\n",
              "\n",
              "                        })\n",
              "                };\n",
              "                \n",
              "            </script>\n",
              "        </div>\n",
              "</body>\n",
              "</html>"
            ]
          },
          "metadata": {
            "tags": []
          }
        }
      ]
    },
    {
      "cell_type": "code",
      "metadata": {
        "colab": {
          "base_uri": "https://localhost:8080/",
          "height": 559
        },
        "id": "OLprgdOxGfHt",
        "outputId": "71358499-4f6c-4199-9aac-c3ad0fbabef4"
      },
      "source": [
        "# Visuals for PCA Analysis\n",
        "projectedValueVersusSalary = px.scatter(df_overall_general, x = 'projected_value', y = 'salary', hover_name = 'player', color = 'League', title = \"Actual Player Salary vs. Projected Player Value Differentiated by League\")\n",
        "projectedValueVersusSalary.write_html(\"actual-player-salary-versus-projected-player-value-differentiated-by-league\")\n",
        "files.download(\"actual-player-salary-versus-projected-player-value-differentiated-by-league\")\n",
        "projectedValueVersusSalary"
      ],
      "execution_count": 11,
      "outputs": [
        {
          "output_type": "display_data",
          "data": {
            "application/javascript": [
              "\n",
              "    async function download(id, filename, size) {\n",
              "      if (!google.colab.kernel.accessAllowed) {\n",
              "        return;\n",
              "      }\n",
              "      const div = document.createElement('div');\n",
              "      const label = document.createElement('label');\n",
              "      label.textContent = `Downloading \"${filename}\": `;\n",
              "      div.appendChild(label);\n",
              "      const progress = document.createElement('progress');\n",
              "      progress.max = size;\n",
              "      div.appendChild(progress);\n",
              "      document.body.appendChild(div);\n",
              "\n",
              "      const buffers = [];\n",
              "      let downloaded = 0;\n",
              "\n",
              "      const channel = await google.colab.kernel.comms.open(id);\n",
              "      // Send a message to notify the kernel that we're ready.\n",
              "      channel.send({})\n",
              "\n",
              "      for await (const message of channel.messages) {\n",
              "        // Send a message to notify the kernel that we're ready.\n",
              "        channel.send({})\n",
              "        if (message.buffers) {\n",
              "          for (const buffer of message.buffers) {\n",
              "            buffers.push(buffer);\n",
              "            downloaded += buffer.byteLength;\n",
              "            progress.value = downloaded;\n",
              "          }\n",
              "        }\n",
              "      }\n",
              "      const blob = new Blob(buffers, {type: 'application/binary'});\n",
              "      const a = document.createElement('a');\n",
              "      a.href = window.URL.createObjectURL(blob);\n",
              "      a.download = filename;\n",
              "      div.appendChild(a);\n",
              "      a.click();\n",
              "      div.remove();\n",
              "    }\n",
              "  "
            ],
            "text/plain": [
              "<IPython.core.display.Javascript object>"
            ]
          },
          "metadata": {
            "tags": []
          }
        },
        {
          "output_type": "display_data",
          "data": {
            "application/javascript": [
              "download(\"download_7a621bda-016c-45c5-8cb0-d32a4372d124\", \"actual-player-salary-versus-projected-player-value-differentiated-by-league\", 3321171)"
            ],
            "text/plain": [
              "<IPython.core.display.Javascript object>"
            ]
          },
          "metadata": {
            "tags": []
          }
        },
        {
          "output_type": "display_data",
          "data": {
            "text/html": [
              "<html>\n",
              "<head><meta charset=\"utf-8\" /></head>\n",
              "<body>\n",
              "    <div>\n",
              "            <script src=\"https://cdnjs.cloudflare.com/ajax/libs/mathjax/2.7.5/MathJax.js?config=TeX-AMS-MML_SVG\"></script><script type=\"text/javascript\">if (window.MathJax) {MathJax.Hub.Config({SVG: {font: \"STIX-Web\"}});}</script>\n",
              "                <script type=\"text/javascript\">window.PlotlyConfig = {MathJaxConfig: 'local'};</script>\n",
              "        <script src=\"https://cdn.plot.ly/plotly-latest.min.js\"></script>    \n",
              "            <div id=\"c33c4fd3-87a9-4ced-a50c-14156825cd87\" class=\"plotly-graph-div\" style=\"height:525px; width:100%;\"></div>\n",
              "            <script type=\"text/javascript\">\n",
              "                \n",
              "                    window.PLOTLYENV=window.PLOTLYENV || {};\n",
              "                    \n",
              "                if (document.getElementById(\"c33c4fd3-87a9-4ced-a50c-14156825cd87\")) {\n",
              "                    Plotly.newPlot(\n",
              "                        'c33c4fd3-87a9-4ced-a50c-14156825cd87',\n",
              "                        [{\"hoverlabel\": {\"namelength\": 0}, \"hovertemplate\": \"<b>%{hovertext}</b><br><br>League=WNBA<br>projected_value=%{x}<br>salary=%{y}\", \"hovertext\": [\"Napheesa Collier\", \"Arike Ogunbowale\", \"Betnijah Laney\", \"DeWanna Bonner\", \"Kelsey Mitchell\", \"A'ja Wilson\", \"Courtney Vandersloot\", \"Alyssa Thomas\", \"Kahleah Copper\", \"Ariel Atkins\", \"Chelsea Gray\", \"Skylar Diggins-Smith\", \"Leilani Mitchell\", \"Candice Dupree\", \"Candace Parker\", \"Myisha Hines-Allen\", \"Elizabeth Williams\", \"Emma Meesseman\", \"Alysha Clark\", \"Allie Quigley\", \"Crystal Dangerfield\", \"Courtney Williams\", \"Dearica Hamby\", \"Jewell Loyd\", \"Brianna Turner\", \"Breanna Stewart\", \"Kiah Stokes\", \"Monique Billings\", \"Kayla McBride\", \"Damiris Dantas\", \"Kia Nurse\", \"Jackie Young\", \"Kayla Thornton\", \"Brionna Jones\", \"Gabby Williams\", \"Diana Taurasi\", \"Allisha Gray\", \"Brittney Sykes\", \"Tiffany Mitchell\", \"Cheyenne Parker\", \"Layshia Clarendon\", \"Danielle Robinson\", \"Jasmine Thomas\", \"Jordin Canada\", \"Shekinna Stricklen\", \"Nneka Ogwumike\", \"Teaira McCowan\", \"Natasha Howard\", \"Blake Dietrick\", \"Leaonna Odom\", \"Satou Sabally\", \"Riquna Williams\", \"Angel McCoughtry\", \"Katie Lou Samuelson\", \"Jazmine Jones\", \"Kiara Leslie\", \"Tyasha Harris\", \"Chennedy Carter\", \"Natisha Hiedeman\", \"Marina Mabrey\", \"Kennedy Burke\", \"Shatori Walker-Kimbrough\", \"Sophie Cunningham\", \"Brittney Griner\", \"Jocelyn Willoughby\", \"Kaila Charles\", \"Lexie Brown\", \"Sami Whitcomb\", \"Sydney Wiese\", \"Natalie Achonwa\", \"Te'a Cooper\", \"Rachel Banham\", \"Seimone Augustus\", \"Tianna Hawkins\", \"Bria Hartley\", \"Ruthy Hebard\", \"Bella Alarie\", \"Mercedes Russell\", \"Briann January\", \"Alanna Smith\", \"Ezi Magbegor\", \"Bria Holmes\", \"Kylee Shook\", \"Lindsay Allen\", \"Glory Johnson\", \"Stefanie Dolson\", \"Sugar Rodgers\", \"Isabelle Harrison\", \"Sue Bird\", \"Tierra Ruffin-Pratt\", \"Odyssey Sims\", \"Mikiah Herbert Harrigan\", \"Nia Coffey\", \"Diamond DeShields\", \"Shenise Johnson\", \"Megan Walker\", \"Kristine Anigwe\", \"Alaina Coates\", \"Jacki Gemelos\", \"Epiphanny Prince\", \"Joyner Holmes\", \"Beatrice Mompremier\", \"Aerial Powers\", \"Lauren Cox\", \"Erica McCall\", \"Sylvia Fowles\", \"Paris Kea\", \"Kaleena Mosqueda-Lewis\", \"Kathleen Doyle\", \"Astou Ndour\", \"Moriah Jefferson\", \"Shey Peddy\", \"Shey Peddy\", \"Sug Sutton\", \"Sydney Colson\", \"Crystal Langhorne\", \"Kamiah Smalls\", \"Stella Johnson\", \"Theresa Plaisance\", \"Kayla Alexander\", \"Morgan Tuck\", \"Victoria Vivians\", \"Sabrina Ionescu\", \"Jaylyn Agnew\", \"Kalani Brown\", \"Reshanda Gray\", \"Stephanie Mavunga\", \"Megan Gustafson\", \"Stephanie Mavunga\", \"Brittany Brewer\", \"Jacki Gemelos\", \"Cierra Burdick\", \"Karima Christmas-Kelly\", \"Avery Warley-Talbert\", \"Alisia Jenkins\", \"Alexis Prince\", \"Stella Johnson\", \"Erica McCall\", \"Alisia Jenkins\", \"Kaela Davis\", \"Alisia Jenkins\", \"Emma Cannon\"], \"legendgroup\": \"League=WNBA\", \"marker\": {\"color\": \"#636efa\", \"symbol\": \"circle\"}, \"mode\": \"markers\", \"name\": \"League=WNBA\", \"showlegend\": true, \"type\": \"scatter\", \"x\": [1.169030107660259, 1.3606988380002423, 1.1461736379831369, 1.2933725063402801, 0.9983964545525708, 1.2731478546396262, 1.3548953798726986, 1.2272144323336196, 0.8466031872486092, 0.7856096821450661, 0.9944483035948506, 1.120953571562179, 0.700872346486427, 0.7285887418921485, 1.1666663774815154, 1.1093684475330807, 0.46497548789168175, 0.932987893211322, 0.502433627876526, 0.778924446730018, 0.9242538296925372, 0.9614299436967274, 0.7932314767936274, 0.8345369570844513, 0.3831150564472322, 1.3432369811725906, 0.13094131981523305, 0.3839893089188908, 0.5427852331653322, 0.729629228200805, 0.5450673208740928, 0.5615762213725869, 0.09275301566951683, 0.43074522321350156, 0.19379581547834163, 1.238092779615385, 0.5415113137358645, 0.32895155125215836, 0.6186125977717115, 0.6620691618522727, 0.620044976390991, 0.20895455646202737, 0.5048507306003484, 0.48857014324022296, -0.23301128893372466, 0.6279932592349021, 0.414634517068755, 0.32442370716525015, 0.045490418016806713, -0.29408895370717575, 0.8535198591476256, 0.2325822175964991, 0.8771192499969932, -0.2670265531864201, 0.44973277017970614, -0.19038181548038077, 0.02390297283027784, 0.9983120785972668, -0.13683029866212873, 0.40696625697328537, -0.13074499320377017, -0.07671486091064571, -0.44084862214850007, 1.1549848274197498, -0.2801044275084342, -0.3140473052372982, 0.0002044598605408926, 0.135361546650126, -0.1628206330373197, 0.18704466961984348, -0.07519980205853026, -0.01691211408064243, -0.2647552766438063, 0.0704698886700785, 0.9244795853048864, -0.29044165661856325, -0.7191274603558535, -0.5658728975818419, -0.012051417589659177, -0.12077798526072253, -0.2464336057589851, -0.39211357691288967, -0.5325009142309395, -0.3952587209279285, -0.3790724190725988, -0.05200630566888831, -0.5455633883434612, -0.02946526905456713, 0.5912269955823718, -0.6663871411450911, 0.42182188282024574, -0.6238873095795959, -0.6764334019265829, -0.11192713151656797, -0.28312490560944675, -0.7749297326808536, -0.4917320996191244, -0.7428741722891348, -0.6085242086296079, -0.4384364437324898, -0.6101253665254297, -0.7758683551689142, 0.9297973401310362, -0.3929974813121176, -0.7973495270024539, 0.8186589726927449, -0.07184541211358031, -0.7783455898047911, -0.9407227018611747, -0.5888761444392998, -0.14993999360882457, -0.22691399407280521, -0.5786473489866503, -0.7163818031376514, -0.9323988036087779, -0.9853035774462469, -0.4098933965371567, 0.25100204657421754, -0.9370571481801312, -0.8213944744411176, -1.1768596605621318, -0.46987561590393523, 1.1923668174200133, -1.2554103033480273, -0.7076969269131859, -0.8310557297600765, -0.24378384010835855, -1.0299271906277383, -0.7454090830347899, -1.414865048613295, -1.0244611066503806, -1.4195283108048196, -0.4455192025165523, -0.44532478258988994, -0.7324201994622666, -0.5929257503364598, -1.7577267654465105, -1.4943303713382659, -1.5694727850038235, -2.1057355139180713, -2.1057355139180713, null], \"xaxis\": \"x\", \"y\": [57000, 57000, 68000, 215000, 58978, 57000, 206000, 117000, 165000, 57000, 195000, 215000, 127000, 119500, 119500, 57000, 117000, 215000, 85800, 200000, 59750, 185000, 117000, 119500, 57000, 185000, 91000, 57000, 117000, 105000, 57000, 57000, 87700, 68000, 58978, 119500, 65779, 68000, 140000, 110000, 120000, 130000, 119500, 57000, 170000, 117000, 57000, 117000, 68000, 59750, 68000, 112000, 185000, 57000, 196378, 57000, 65250, 68000, 57000, 57000, 57000, 60867, 57000, 215000, 62500, 59750, 57000, 68000, 68000, 107000, 59750, 100000, 110000, 71400, 185000, 65250, 65250, 57000, 119500, 57000, 57000, 130000, 59750, 57000, 165000, 180250, 80000, 150000, 215000, 90000, 117000, 65250, 68000, 58978, 106000, 62500, 57000, 57000, 57000, 68000, 59750, 59750, 80000, 68000, 68000, 115627, 57000, 71400, 59750, 185000, 170000, 57000, 57000, 31290, 70000, 105000, 28500, 33060, 104000, 68000, 115000, 57000, 68000, 59750, 57000, 57000, 57000, 62000, 57000, 59750, 57000, 58480, 104000, 21760, 5130, 9120, 33060, 68000, 5130, 57000, 5130, 4560], \"yaxis\": \"y\"}, {\"hoverlabel\": {\"namelength\": 0}, \"hovertemplate\": \"<b>%{hovertext}</b><br><br>League=NBA<br>projected_value=%{x}<br>salary=%{y}\", \"hovertext\": [\"Julius Randle\", \"Nikola Jokic\", \"RJ Barrett\", \"Buddy Hield\", \"Nikola Vucevic\", \"Andrew Wiggins\", \"Damian Lillard\", \"Harrison Barnes\", \"Mikal Bridges\", \"Jayson Tatum\", \"Terry Rozier\", \"Khris Middleton\", \"Duncan Robinson\", \"Anthony Edwards\", \"Russell Westbrook\", \"Luka Doncic\", \"De'Aaron Fox\", \"Brandon Ingram\", \"Devin Booker\", \"Joe Harris\", \"Royce O'Neale\", \"Jaylen Brown\", \"Robert Covington\", \"Chris Paul\", \"Kevin Huerter\", \"Deandre Ayton\", \"Bojan Bogdanovic\", \"Norman Powell\", \"Bradley Beal\", \"Zion Williamson\", \"Rudy Gobert\", \"Bam Adebayo\", \"Malcolm Brogdon\", \"Domantas Sabonis\", \"Trae Young\", \"Justin Holiday\", \"Jae'Sean Tate\", \"Stephen Curry\", \"Dennis Schroder\", \"Dejounte Murray\", \"Pascal Siakam\", \"Coby White\", \"Eric Bledsoe\", \"Isaac Okoro\", \"Zach LaVine\", \"Miles Bridges\", \"Collin Sexton\", \"DeMar DeRozan\", \"Kelly Olynyk\", \"Fred VanVleet\", \"Jerami Grant\", \"Tobias Harris\", \"Giannis Antetokounmpo\", \"Darius Garland\", \"Patrick Williams\", \"Donovan Mitchell\", \"Ja Morant\", \"Tim Hardaway Jr.\", \"Danny Green\", \"Tyrese Haliburton\", \"Kyle Kuzma\", \"Keldon Johnson\", \"Will Barton\", \"Dillon Brooks\", \"Draymond Green\", \"Clint Capela\", \"Brook Lopez\", \"P.J. Washington\", \"Jamal Murray\", \"Nicolas Batum\", \"Michael Porter Jr.\", \"Gary Trent Jr.\", \"Ben Simmons\", \"Kyrie Irving\", \"Dorian Finney-Smith\", \"Kelly Oubre Jr.\", \"John Collins\", \"Jrue Holiday\", \"Jeff Green\", \"Kyle Anderson\", \"Dwayne Bacon\", \"Reggie Bullock\", \"Paul George\", \"Kentavious Caldwell-Pope\", \"Joe Ingles\", \"Richaun Holmes\", \"Saddiq Bey\", \"Jakob Poeltl\", \"Jimmy Butler\", \"Donte DiVincenzo\", \"Enes Kanter\", \"Kawhi Leonard\", \"Jarrett Allen\", \"Rui Hachimura\", \"Josh Richardson\", \"Kyle Lowry\", \"Ricky Rubio\", \"Steven Adams\", \"Lonzo Ball\", \"Jordan Clarkson\", \"James Harden\", \"Carmelo Anthony\", \"Jonas Valanciunas\", \"Devonte' Graham\", \"Darius Bazley\", \"T.J. McConnell\", \"Patty Mills\", \"Jalen Brunson\", \"Jae Crowder\", \"Gordon Hayward\", \"Montrezl Harrell\", \"Daniel Theis\", \"Karl-Anthony Towns\", \"Delon Wright\", \"Mason Plumlee\", \"Kendrick Nunn\", \"Tyler Herro\", \"Luguentz Dort\", \"Seth Curry\", \"Ivica Zubac\", \"Mike Conley\", \"Josh Jackson\", \"Myles Turner\", \"Marcus Smart\", \"Thaddeus Young\", \"LeBron James\", \"OG Anunoby\", \"Joel Embiid\", \"Chris Boucher\", \"Reggie Jackson\", \"Pat Connaughton\", \"Solomon Hill\", \"Cameron Johnson\", \"Jaden McDaniels\", \"Doug McDermott\", \"Kenrich Williams\", \"Elfrid Payton\", \"Cory Joseph\", \"Nerlens Noel\", \"Josh Hart\", \"Terrence Ross\", \"Cedi Osman\", \"Christian Wood\", \"CJ McCollum\", \"Shake Milton\", \"Lou Williams\", \"Maxi Kleber\", \"Garrett Temple\", \"Desmond Bane\", \"Khem Birch\", \"John Wall\", \"Brandon Clarke\", \"Isaiah Stewart\", \"Bruce Brown\", \"Wendell Carter Jr.\", \"Isaiah Roby\", \"Derrick Jones Jr.\", \"Deni Avdija\", \"Bobby Portis\", \"Aaron Gordon\", \"LaMelo Ball\", \"Raul Neto\", \"Sterling Brown\", \"Kemba Walker\", \"Grayson Allen\", \"DeAndre Jordan\", \"Matisse Thybulle\", \"Andre Iguodala\", \"Landry Shamet\", \"Davis Bertans\", \"Bryn Forbes\", \"Malik Beasley\", \"P.J. Tucker\", \"Robin Lopez\", \"Naz Reid\", \"Terance Mann\", \"Facundo Campazzo\", \"Rudy Gay\", \"Bismack Biyombo\", \"Caris LeVert\", \"Tomas Satoransky\", \"Shai Gilgeous-Alexander\", \"Goran Dragic\", \"Tristan Thompson\", \"Immanuel Quickley\", \"Talen Horton-Tucker\", \"Monte Morris\", \"Lauri Markkanen\", \"Payton Pritchard\", \"Luke Kennard\", \"Alec Burks\", \"Chuma Okeke\", \"Markieff Morris\", \"Bogdan Bogdanovic\", \"Tyus Jones\", \"Hamidou Diallo\", \"Kent Bazemore\", \"Larry Nance Jr.\", \"Josh Okogie\", \"Victor Oladipo\", \"Damion Lee\", \"Derrick Rose\", \"Dwight Howard\", \"Danilo Gallinari\", \"Alex Caruso\", \"Evan Fournier\", \"Derrick White\", \"Cole Anthony\", \"Paul Millsap\", \"Aaron Holiday\", \"Andre Drummond\", \"Blake Griffin\", \"Grant Williams\", \"Marvin Bagley III\", \"Furkan Korkmaz\", \"D.J. Augustin\", \"Denzel Valentine\", \"D'Angelo Russell\", \"Jarred Vanderbilt\", \"Georges Niang\", \"Wesley Matthews\", \"Wayne Ellington\", \"Aleksej Pokusevski\", \"Brad Wanamaker\", \"Dean Wade\", \"Kevon Looney\", \"JaMychal Green\", \"Anfernee Simons\", \"Anthony Davis\", \"Kevin Durant\", \"Derrick Favors\", \"Serge Ibaka\", \"Gary Harris\", \"Rodney Hood\", \"Aron Baynes\", \"Cameron Payne\", \"Taurean Prince\", \"Marc Gasol\", \"De'Anthony Melton\", \"Semi Ojeleye\", \"Tony Snell\", \"Jeff Teague\", \"Alex Len\", \"James Johnson\", \"Mitchell Robinson\", \"Devin Vassell\", \"Nickeil Alexander-Walker\", \"Cody Martin\", \"Terence Davis\", \"James Wiseman\", \"Cody Zeller\", \"Kevin Porter Jr.\", \"Trey Burke\", \"Edmond Sumner\", \"Jordan Poole\", \"Michael Carter-Williams\", \"Kenyon Martin Jr.\", \"Eric Gordon\", \"Stanley Johnson\", \"Jaxson Hayes\", \"Tyrese Maxey\", \"Al Horford\", \"Willie Cauley-Stein\", \"DeAndre' Bembry\", \"Jeremy Lamb\", \"Dwight Powell\", \"Taj Gibson\", \"Kira Lewis Jr.\", \"Ben McLemore\", \"Cam Reddish\", \"Ty Jerome\", \"Malik Monk\", \"Damyean Dotson\", \"Ish Smith\", \"Mike Scott\", \"Moses Brown\", \"Patrick Beverley\", \"Malachi Flynn\", \"Jaylen Nowell\", \"Sekou Doumbouya\", \"Caleb Martin\", \"Precious Achiuwa\", \"David Nwaba\", \"Jusuf Nurkic\", \"R.J. Hampton\", \"Eric Paschall\", \"LaMarcus Aldridge\", \"Jalen McDaniels\", \"Daniel Gafford\", \"Trevor Ariza\", \"Rajon Rondo\", \"Mike Muscala\", \"Gary Clark\", \"DeMarcus Cousins\", \"Yuta Watanabe\", \"Torrey Craig\", \"Tyler Johnson\", \"Drew Eubanks\", \"De'Andre Hunter\", \"Austin Rivers\", \"Tony Bradley\", \"Brandon Goodwin\", \"Obi Toppin\", \"Jake Layman\", \"Jevon Carter\", \"Nassir Little\", \"Mychal Mulder\", \"Avery Bradley\", \"Maurice Harkless\", \"Mo Bamba\", \"JaVale McGee\", \"Frank Kaminsky\", \"Hassan Whiteside\", \"Justin Jackson\", \"Nemanja Bjelica\", \"Aaron Nesmith\", \"Isaiah Hartenstein\", \"Troy Brown Jr.\", \"George Hill\", \"Dylan Windler\", \"Thanasis Antetokounmpo\", \"Patrick Patterson\", \"Moritz Wagner\", \"Kevin Love\", \"Onyeka Okongwu\", \"Jarrett Culver\", \"John Konchar\", \"Gorgui Dieng\", \"Justise Winslow\", \"Nicolas Claxton\", \"Killian Hayes\", \"D.J. Wilson\", \"Isaac Bonga\", \"Dennis Smith Jr.\", \"Goga Bitadze\", \"Al-Farouq Aminu\", \"Miye Oni\", \"Ryan Arcidiacono\", \"KZ Okpala\", \"Langston Galloway\", \"Javonte Green\", \"Glenn Robinson III\", \"DaQuan Jeffries\", \"Zeke Nnaji\", \"Damian Jones\", \"Trey Lyles\", \"Abdel Nader\", \"E'Twaun Moore\", \"Chimezie Metu\", \"Josh Green\", \"Isaiah Joe\", \"Jerome Robinson\", \"Paul Watson\", \"Ed Davis\", \"Matt Thomas\", \"Oshae Brissett\", \"Thomas Bryant\", \"Frank Ntilikina\", \"JaKarr Sampson\", \"Luke Kornet\", \"Jordan Nwora\", \"Chandler Hutchison\", \"Jahlil Okafor\", \"Matthew Dellavedova\", \"Alfonzo McKinnie\", \"Markelle Fultz\", \"Romeo Langford\", \"Carsen Edwards\", \"Sam Merrill\", \"Bruno Fernando\", \"Darius Miller\", \"Justin James\", \"Rodney McGruder\", \"Shaquille Harrison\", \"Alize Johnson\", \"Tre Jones\", \"Mfiondu Kabengele\", \"CJ Elleby\", \"Kelan Martin\", \"Anthony Gill\", \"Quinn Cook\", \"Dewayne Dedmon\", \"Bol Bol\", \"Rodions Kurucs\", \"T.J. Warren\", \"Dante Exum\", \"Jaren Jackson Jr.\", \"Jabari Parker\", \"Daniel Oturu\", \"Wenyen Gabriel\", \"Mamadi Diakite\", \"Vernon Carey Jr.\", \"Jalen Smith\", \"Chris Silva\", \"Thon Maker\", \"Jared Dudley\", \"Sindarius Thornwell\", \"Spencer Dinwiddie\", \"Norvel Pelle\", \"Nick Richards\", \"Gabriel Deck\", \"Elijah Hughes\", \"Tyrell Terry\", \"Rayjon Tucker\", \"Deividas Sirvydis\", \"Udoka Azubuike\", \"Terrance Ferguson\", \"Kris Dunn\", \"Vincent Poirier\", \"Bruno Caboclo\", \"Patrick McCaw\", \"Meyers Leonard\", \"Marquese Chriss\", \"Jontay Porter\", \"Jahmi'us Ramsey\", \"Ignas Brazdeikis\", \"Jalen Lecque\", \"T.J. Leaf\", \"Iman Shumpert\", \"Noah Vonleh\"], \"legendgroup\": \"League=NBA\", \"marker\": {\"color\": \"#EF553B\", \"symbol\": \"circle\"}, \"mode\": \"markers\", \"name\": \"League=NBA\", \"showlegend\": true, \"type\": \"scatter\", \"x\": [1.536988518484339, 1.835803751929855, 0.8457232694492811, 0.7667514900654728, 1.3912121908284258, 0.7639165350239328, 1.6738844772688952, 0.850974390118343, 0.45546749792885066, 1.461549902657879, 1.0080079012425798, 1.1569858109231916, 0.35892534933366016, 0.7928410619403529, 1.7831939892403064, 1.8965199773651187, 1.4669029613222138, 1.2858273559059912, 1.3089913388424261, 0.4270670623096719, 0.18836141785508792, 1.2435155373539732, 0.22186826628595746, 1.1147164046944675, 0.4292366654713149, 0.6478593464144998, 0.538876008000218, 0.685538140136434, 1.6194506597224068, 1.4275670564665899, 0.7114070415203254, 1.169385646335618, 1.2131342412453985, 1.3714458031120438, 1.6538079107227086, 0.1589660144276685, 0.3059821229959846, 1.7556544152449516, 0.8206732852243946, 0.9258707706340966, 1.1749580818947418, 0.6933650106889079, 0.40022177345937077, 0.08475750445871727, 1.4895932069239557, 0.39343929357164154, 1.2103256358107284, 1.3177073648916549, 0.4547340535775651, 1.1331378518930153, 1.045862637666278, 1.0102702001597994, 1.7910308378537771, 0.9511004068602358, 0.04374753836443307, 1.4232637578007825, 1.1610859398970406, 0.4689506018295721, 0.060458351941701675, 0.5904849908637696, 0.38579794466865935, 0.404682467329719, 0.4573285070812105, 0.5700757635663759, 0.6126199581893766, 0.7714358340832415, 0.15975766641404165, 0.464589674595475, 1.1154888469828155, 0.05265816973184535, 0.7805916166795831, 0.4090550638998314, 0.9793305756370349, 1.5337320052437051, 0.25551857841099446, 0.5307164939196493, 0.7113431387252374, 0.9530052108923426, 0.1284083209059772, 0.46283771500935544, 0.024407417527178385, 0.1119998748426979, 1.3380427331713243, 0.009265340654806678, 0.47290327912336577, 0.5726542187350298, 0.15340126251858213, 0.14206102846470617, 1.3735579290912014, 0.2653223236310859, 0.41655624807208524, 1.4331375324269728, 0.5336454090750637, 0.4262057392369285, 0.37483479792109964, 1.1122432266041247, 0.3685476527737296, 0.14079133721570397, 0.7881122289849046, 0.6323782312568607, 1.846987906350001, 0.2577765120005635, 0.8702930968370307, 0.6777179346629038, 0.49662446405301364, 0.3462201556139483, 0.1246701576330642, 0.37371559417164874, 0.14417672283261218, 1.0187354621053712, 0.3653376602900208, 0.05822725391449577, 1.4859658551092645, 0.27608309514866547, 0.4752153824311327, 0.4601652690225127, 0.6216520454493253, 0.3879511471728538, 0.2802056821282123, 0.052792180589954135, 0.8696537588255338, 0.3523185745651924, 0.3606150419771678, 0.7081726730905865, 0.5529989626242795, 1.63976920710211, 0.6535251033801199, 1.6352245647174966, 0.36099469120294725, 0.17083761057339553, -0.2482082952553831, -0.5538878732150755, -0.045985092027833865, -0.28924332682671716, 0.2346032454317023, -0.10917494303503128, 0.2700026272450584, -0.04683316718147004, -0.33939043032656874, 0.2653774810303272, 0.5135716100898847, 0.1235985610034226, 1.0237134592599766, 1.1983572269866591, 0.3325972526373373, 0.26840773345677443, -0.09301459383215849, -0.06316571317950193, -0.11368805577210603, -0.26228958716387957, 1.1800188631323096, 0.14573047549452817, -0.16202504069362197, -0.05796607698465746, 0.3514833670942516, 0.05039536699080365, -0.315643867276011, -0.28144083259418473, 0.234169547083098, 0.509762865898678, 0.9267840990211033, -0.13602619355690165, -0.11993366977137743, 0.9215248291771936, 0.13460425836932502, -0.009247105425517793, -0.7212574168255081, -0.4040734784307623, -0.12439390468621436, 0.0015868750619918576, -0.23893036873609652, 0.8288770632335339, -0.37365779903084023, -0.21829725768836897, 0.08858258107104876, -0.2891022702048288, -0.2867421729667414, 0.1471181294378155, -0.39806598228831197, 0.9715468251913952, 0.11357145529191227, 1.3337215812073557, 0.5111346211914259, -0.010038845595323087, 0.14972490702959723, -0.04935602731224727, 0.14878677288659886, 0.33777338558952064, -0.2569621994253635, -0.21044048978926677, 0.30381691391965043, -0.06409180587445287, -0.3028690761929382, 0.5788883670671966, -0.09769517239081313, 0.16556417841991863, -0.32589446845219094, 0.3393229623571467, -0.4994226188784039, 1.0163311725614075, -0.39306327209214204, 0.5135057710407541, -0.08742226923470181, 0.2463919435075072, -0.2976616378380446, 0.6347742918872441, 0.5835897424286888, 0.5043587031759128, -0.03583981291722521, -0.3860763216064331, 0.8433537129896973, 0.30589368209591206, -0.6811327226509217, 0.4131492904503786, -0.15580852458645955, -0.18458561233027163, -0.3108549865958288, 0.9559160663290592, -0.40238362764426155, -0.5285452110180794, -0.7160530255855714, -0.14879276854846488, -0.09529765733964668, -0.39632698147241974, -0.5463464544577057, -0.46895277138041225, -0.18931534470094022, -0.2470917834184156, 1.0885015939807885, 1.5914191862951945, -0.42183176449269083, 0.22493456661662636, 0.13111190850101084, -0.7108888603713799, -0.414155762688263, -0.022353962145811118, -0.03161418424482383, -0.36688451766986074, 0.08278720190169336, -0.6993631583945231, -0.5059732502127843, -0.3275703031539886, -0.3638707640648719, -0.2840879052299352, 0.02719148411045641, -0.6605575201329554, 0.028783948190394974, -0.62178613029857, -0.3634274477072806, 0.11700058863362835, 0.08581931317013713, 0.9396095345781016, -0.4578082803933503, -0.4196183597700097, 0.04226157412958678, 0.22430642969056772, -0.28966749512150963, 0.6302199862851743, -0.8244312277374691, -0.4367449744365248, -0.2947767542704969, 0.6197349999989765, -0.5271248563262954, -0.4924190127545793, -0.016879682453957455, -0.5446339283206469, -0.45068359856169404, -0.38582593166281, -0.38688115387952093, 0.1674823789188783, 0.20467242831392965, 0.2328879776040436, -0.3576601324940888, -0.06923344504389886, -0.759223111650868, -0.06660498350206356, -0.10561210562831679, -0.27833992587899165, -0.11516036575321192, -0.7845769526537123, -0.6150440173971702, -0.6194313181024984, -0.11819058865612352, 0.4651313624872877, -0.5373753333775305, -0.07974249978315064, 0.34729976295647846, -0.4263249278550665, -0.37899252845057135, 0.05026588929790051, -0.19595531690735354, -0.11062139807556357, -0.8183115067944123, 0.19261763334338156, -0.7295058968675945, -0.5555989030842268, -0.6070143123109198, -0.44991772356979653, 0.6039724091003785, -0.28400609659265597, -0.2208666350170847, -0.5248019634303921, -0.8289583095455408, -0.7281151236384642, -0.7881047255503792, -0.7388578073522041, -0.8480108946595417, -0.35884505511597725, -0.7189539601393338, -0.20941264666292653, -0.16999614561376897, -0.29243996930043203, -0.09395073283129024, -0.3441230258818773, -0.35692169484046865, -0.8314803438673045, -0.40467082636773527, -0.657344828428842, 0.0037855824113174757, -0.5506985352692116, -0.8416514991378914, -0.7651339420878384, -0.4553543694897893, 0.3419935266936743, -0.8358628694917808, -0.6100677700379367, -0.7789340836718248, -0.29692989332745445, -0.27602754912395167, -0.3178413671307293, -0.05251100447250408, -0.562184265491873, -1.195503745516341, -0.14909050726317064, -0.5210697795824017, -0.4806569449852394, -1.2098845503032145, -0.8904237001286649, -1.164455698094969, -0.7917474835341729, -1.013889458373406, -0.6683715014056996, -0.9859622276003608, -1.0860102762198527, -0.8923894350498378, -0.6209251298504751, -0.46047224178786206, -0.7083165995280979, -0.5241509937714902, -1.1317547181166978, -1.0354890500281868, -0.5933004258337979, -0.8312548005247546, -0.8061159777640193, -0.9635557729449917, 0.04529039014741022, 0.43387904940160527, -1.112180214492036, -0.8649938641561542, -0.924089294704451, -0.5693062463950476, -0.7460782167340094, -0.7678410299474316, -0.4267152695091582, -0.9607661238850622, 0.5694590078557032, -1.0448861082086842, -0.8740790890380501, -0.8592570020419676, -1.2328673785254836, -0.7514179311926658, -1.1973656964282662, -0.5711909126495117, -1.1876854317494545, -0.12027839631571835, -1.1007385642733232, -1.2451676576142001, -1.1586026263988514, -0.9400445244852691, -0.9537522476203116, -0.7705605120758201, -0.0029613972692362767, -0.9659751081385652, -1.2583317194312016, 0.41895729600495335, -0.5541614859407571, 0.33999095104132315, -0.6759532930814024, -1.1310280849824923, -1.1811882344127471, -0.9788265820311624, -1.041797352222211, -1.3066868811207342, -0.9865461155163042, -0.7996995857099181, -1.4801251747957729, -1.5094983436404847, -0.10310756671322044, -1.3103465435032668, -1.548483835256034, -0.05812273165052717, -1.0412185091619326, -1.4160094359113422, -0.8671058501552227, -1.293015109934364, -1.4790344531133883, -2.027791960043847, -1.2111013512688378, -1.3402207796863763, -0.7570988960561911, -1.3958958354638413, -0.8375015740904768, -0.10704152658297023, -1.0425496667753227, -0.7572683257909917, -1.581847104728349, -0.6626753944107098, -1.7862689730249461, -1.6966376989630627, -1.9652237263738699], \"xaxis\": \"x\", \"y\": [18900000, 28542009, 8231760, 24431818, 26000000, 29542010, 31626953, 22215909, 4359000, 9897120, 18900000, 33051724, 1663861, 9757440, 41358814, 8049360, 8099627, 27285000, 29430000, 16071429, 8035714, 22991071, 12138345, 41358814, 2761920, 10018200, 17850000, 10865952, 28751775, 10245480, 26525281, 5115492, 20700000, 17187500, 6571800, 5720400, 1445967, 43006362, 15500000, 14285714, 29000000, 5572680, 16875000, 6400920, 19500000, 3934320, 4991880, 27739975, 12198243, 21250000, 19047619, 33517241, 27528090, 6720720, 7068360, 5195501, 9166800, 18975000, 15365854, 3831840, 3562178, 2048040, 13920000, 11400000, 22246956, 16000000, 12697675, 4023600, 29250000, 11608231, 3550800, 1663861, 29250000, 33329100, 4000000, 14375000, 4137302, 26131111, 2564753, 9505100, 1678854, 4200000, 35450412, 12073020, 10863637, 5005350, 2689920, 8101852, 34379100, 3044160, 5005350, 34379100, 3909902, 4692840, 10800000, 30000000, 17000000, 27528090, 11003782, 11500000, 40824000, 2564753, 15000000, 1663861, 2399160, 3500000, 13285714, 1663861, 9258000, 28500000, 9258000, 5000000, 29430000, 9000000, 8000000, 1663861, 3822240, 1517981, 7813953, 7000000, 34504132, 4767000, 18000000, 13446428, 13545000, 39219565, 3872215, 29542010, 6490385, 2331593, 4938272, 2174318, 4235160, 1964760, 7333333, 2000000, 5760000, 12600000, 5000000, 3491159, 13500000, 8750000, 13015874, 29354152, 1701593, 8000000, 8250000, 4767000, 1936440, 3425463, 41254920, 2602920, 3121080, 1663861, 5448840, 1517981, 9268293, 4469160, 3623000, 18136364, 7839960, 1882867, 1678854, 34379100, 2545320, 10375678, 2711280, 15000000, 2090040, 15000000, 2337145, 13325895, 7969537, 7300000, 1517981, 1517984, 3623000, 14000000, 2331593, 16203704, 10000000, 4141320, 18000000, 9258000, 2105520, 1517981, 1663861, 6731508, 2035800, 5273826, 6000000, 3121080, 2331593, 18000000, 7965100, 1663861, 2320044, 11709091, 2651040, 21000000, 1762796, 7682927, 2564753, 19500000, 2750000, 17000000, 3516284, 3285120, 10000000, 2345640, 29546311, 33685241, 2498760, 8963640, 1762796, 6666667, 4642800, 28649250, 1663861, 1783557, 3623000, 3005225, 2964840, 2250000, 1517981, 4821429, 7199760, 2252040, 32742000, 39058950, 9258000, 9258000, 19160714, 10047450, 6975610, 1977011, 13942308, 2564753, 7812500, 1752950, 12178571, 3372826, 4032648, 16047100, 1663861, 4033440, 3113160, 1517981, 1517981, 8730240, 15415730, 2033160, 3174603, 2160000, 2063280, 3000000, 898310, 16869276, 3801000, 5105160, 2478840, 27500000, 4000000, 1737145, 10500000, 10185185, 3283684, 3640200, 2852708, 4458000, 2303040, 5345687, 2000000, 6146341, 5005350, 495102, 13333333, 1950600, 1517981, 3449400, 1517981, 2582160, 1862250, 12000000, 2193480, 1517981, 19078340, 1517981, 1517981, 12800000, 7500000, 2283034, 2000000, 2666959, 321893, 1678854, 2028594, 1620564, 7422000, 3174603, 3542060, 1701593, 4862040, 3761085, 3549383, 2210640, 1517981, 5635000, 3623000, 5969040, 4200000, 1882867, 2320044, 5029650, 7150000, 3458400, 1445697, 3372840, 9590602, 2137440, 1701593, 3814768, 2383915, 31300000, 5813640, 6104280, 2093023, 17587688, 13000000, 1517981, 5307120, 4548280, 1663861, 5686677, 2957520, 9720900, 1517981, 3000000, 1517981, 2028594, 1517981, 930930, 1445697, 2379840, 1023250, 5500000, 1752950, 2331593, 700000, 2816760, 898310, 3737520, 1445697, 5005350, 1517981, 557453, 8333333, 6176578, 1882867, 2304878, 898310, 2443440, 1882867, 2174318, 1762796, 12288697, 3631200, 1517981, 898310, 1517981, 7000000, 1517981, 5000000, 770433, 399591, 898310, 2075880, 898310, 1445697, 898310, 1797183, 3447478, 2058240, 1780152, 11750000, 9600000, 7257360, 6916834, 898310, 1620564, 529341, 1350000, 4245720, 1517981, 309355, 2564753, 747435, 11454048, 717845, 1000000, 3870000, 898310, 1289846, 340000, 898310, 1977000, 3944013, 4767000, 2619207, 361256, 4000000, 9400000, 1824003, 1904762, 1000000, 1517981, 1517981, 4326825, 447155, 263995], \"yaxis\": \"y\"}],\n",
              "                        {\"legend\": {\"tracegroupgap\": 0}, \"template\": {\"data\": {\"bar\": [{\"error_x\": {\"color\": \"#2a3f5f\"}, \"error_y\": {\"color\": \"#2a3f5f\"}, \"marker\": {\"line\": {\"color\": \"#E5ECF6\", \"width\": 0.5}}, \"type\": \"bar\"}], \"barpolar\": [{\"marker\": {\"line\": {\"color\": \"#E5ECF6\", \"width\": 0.5}}, \"type\": \"barpolar\"}], \"carpet\": [{\"aaxis\": {\"endlinecolor\": \"#2a3f5f\", \"gridcolor\": \"white\", \"linecolor\": \"white\", \"minorgridcolor\": \"white\", \"startlinecolor\": \"#2a3f5f\"}, \"baxis\": {\"endlinecolor\": \"#2a3f5f\", \"gridcolor\": \"white\", \"linecolor\": \"white\", \"minorgridcolor\": \"white\", \"startlinecolor\": \"#2a3f5f\"}, \"type\": \"carpet\"}], \"choropleth\": [{\"colorbar\": {\"outlinewidth\": 0, \"ticks\": \"\"}, \"type\": \"choropleth\"}], \"contour\": [{\"colorbar\": {\"outlinewidth\": 0, \"ticks\": \"\"}, \"colorscale\": [[0.0, \"#0d0887\"], [0.1111111111111111, \"#46039f\"], [0.2222222222222222, \"#7201a8\"], [0.3333333333333333, \"#9c179e\"], [0.4444444444444444, \"#bd3786\"], [0.5555555555555556, \"#d8576b\"], [0.6666666666666666, \"#ed7953\"], [0.7777777777777778, \"#fb9f3a\"], [0.8888888888888888, \"#fdca26\"], [1.0, \"#f0f921\"]], \"type\": \"contour\"}], \"contourcarpet\": [{\"colorbar\": {\"outlinewidth\": 0, \"ticks\": \"\"}, \"type\": \"contourcarpet\"}], \"heatmap\": [{\"colorbar\": {\"outlinewidth\": 0, \"ticks\": \"\"}, \"colorscale\": [[0.0, \"#0d0887\"], [0.1111111111111111, \"#46039f\"], [0.2222222222222222, \"#7201a8\"], [0.3333333333333333, \"#9c179e\"], [0.4444444444444444, \"#bd3786\"], [0.5555555555555556, \"#d8576b\"], [0.6666666666666666, \"#ed7953\"], [0.7777777777777778, \"#fb9f3a\"], [0.8888888888888888, \"#fdca26\"], [1.0, \"#f0f921\"]], \"type\": \"heatmap\"}], \"heatmapgl\": [{\"colorbar\": {\"outlinewidth\": 0, \"ticks\": \"\"}, \"colorscale\": [[0.0, \"#0d0887\"], [0.1111111111111111, \"#46039f\"], [0.2222222222222222, \"#7201a8\"], [0.3333333333333333, \"#9c179e\"], [0.4444444444444444, \"#bd3786\"], [0.5555555555555556, \"#d8576b\"], [0.6666666666666666, \"#ed7953\"], [0.7777777777777778, \"#fb9f3a\"], [0.8888888888888888, \"#fdca26\"], [1.0, \"#f0f921\"]], \"type\": \"heatmapgl\"}], \"histogram\": [{\"marker\": {\"colorbar\": {\"outlinewidth\": 0, \"ticks\": \"\"}}, \"type\": \"histogram\"}], \"histogram2d\": [{\"colorbar\": {\"outlinewidth\": 0, \"ticks\": \"\"}, \"colorscale\": [[0.0, \"#0d0887\"], [0.1111111111111111, \"#46039f\"], [0.2222222222222222, \"#7201a8\"], [0.3333333333333333, \"#9c179e\"], [0.4444444444444444, \"#bd3786\"], [0.5555555555555556, \"#d8576b\"], [0.6666666666666666, \"#ed7953\"], [0.7777777777777778, \"#fb9f3a\"], [0.8888888888888888, \"#fdca26\"], [1.0, \"#f0f921\"]], \"type\": \"histogram2d\"}], \"histogram2dcontour\": [{\"colorbar\": {\"outlinewidth\": 0, \"ticks\": \"\"}, \"colorscale\": [[0.0, \"#0d0887\"], [0.1111111111111111, \"#46039f\"], [0.2222222222222222, \"#7201a8\"], [0.3333333333333333, \"#9c179e\"], [0.4444444444444444, \"#bd3786\"], [0.5555555555555556, \"#d8576b\"], [0.6666666666666666, \"#ed7953\"], [0.7777777777777778, \"#fb9f3a\"], [0.8888888888888888, \"#fdca26\"], [1.0, \"#f0f921\"]], \"type\": \"histogram2dcontour\"}], \"mesh3d\": [{\"colorbar\": {\"outlinewidth\": 0, \"ticks\": \"\"}, \"type\": \"mesh3d\"}], \"parcoords\": [{\"line\": {\"colorbar\": {\"outlinewidth\": 0, \"ticks\": \"\"}}, \"type\": \"parcoords\"}], \"pie\": [{\"automargin\": true, \"type\": \"pie\"}], \"scatter\": [{\"marker\": {\"colorbar\": {\"outlinewidth\": 0, \"ticks\": \"\"}}, \"type\": \"scatter\"}], \"scatter3d\": [{\"line\": {\"colorbar\": {\"outlinewidth\": 0, \"ticks\": \"\"}}, \"marker\": {\"colorbar\": {\"outlinewidth\": 0, \"ticks\": \"\"}}, \"type\": \"scatter3d\"}], \"scattercarpet\": [{\"marker\": {\"colorbar\": {\"outlinewidth\": 0, \"ticks\": \"\"}}, \"type\": \"scattercarpet\"}], \"scattergeo\": [{\"marker\": {\"colorbar\": {\"outlinewidth\": 0, \"ticks\": \"\"}}, \"type\": \"scattergeo\"}], \"scattergl\": [{\"marker\": {\"colorbar\": {\"outlinewidth\": 0, \"ticks\": \"\"}}, \"type\": \"scattergl\"}], \"scattermapbox\": [{\"marker\": {\"colorbar\": {\"outlinewidth\": 0, \"ticks\": \"\"}}, \"type\": \"scattermapbox\"}], \"scatterpolar\": [{\"marker\": {\"colorbar\": {\"outlinewidth\": 0, \"ticks\": \"\"}}, \"type\": \"scatterpolar\"}], \"scatterpolargl\": [{\"marker\": {\"colorbar\": {\"outlinewidth\": 0, \"ticks\": \"\"}}, \"type\": \"scatterpolargl\"}], \"scatterternary\": [{\"marker\": {\"colorbar\": {\"outlinewidth\": 0, \"ticks\": \"\"}}, \"type\": \"scatterternary\"}], \"surface\": [{\"colorbar\": {\"outlinewidth\": 0, \"ticks\": \"\"}, \"colorscale\": [[0.0, \"#0d0887\"], [0.1111111111111111, \"#46039f\"], [0.2222222222222222, \"#7201a8\"], [0.3333333333333333, \"#9c179e\"], [0.4444444444444444, \"#bd3786\"], [0.5555555555555556, \"#d8576b\"], [0.6666666666666666, \"#ed7953\"], [0.7777777777777778, \"#fb9f3a\"], [0.8888888888888888, \"#fdca26\"], [1.0, \"#f0f921\"]], \"type\": \"surface\"}], \"table\": [{\"cells\": {\"fill\": {\"color\": \"#EBF0F8\"}, \"line\": {\"color\": \"white\"}}, \"header\": {\"fill\": {\"color\": \"#C8D4E3\"}, \"line\": {\"color\": \"white\"}}, \"type\": \"table\"}]}, \"layout\": {\"annotationdefaults\": {\"arrowcolor\": \"#2a3f5f\", \"arrowhead\": 0, \"arrowwidth\": 1}, \"coloraxis\": {\"colorbar\": {\"outlinewidth\": 0, \"ticks\": \"\"}}, \"colorscale\": {\"diverging\": [[0, \"#8e0152\"], [0.1, \"#c51b7d\"], [0.2, \"#de77ae\"], [0.3, \"#f1b6da\"], [0.4, \"#fde0ef\"], [0.5, \"#f7f7f7\"], [0.6, \"#e6f5d0\"], [0.7, \"#b8e186\"], [0.8, \"#7fbc41\"], [0.9, \"#4d9221\"], [1, \"#276419\"]], \"sequential\": [[0.0, \"#0d0887\"], [0.1111111111111111, \"#46039f\"], [0.2222222222222222, \"#7201a8\"], [0.3333333333333333, \"#9c179e\"], [0.4444444444444444, \"#bd3786\"], [0.5555555555555556, \"#d8576b\"], [0.6666666666666666, \"#ed7953\"], [0.7777777777777778, \"#fb9f3a\"], [0.8888888888888888, \"#fdca26\"], [1.0, \"#f0f921\"]], \"sequentialminus\": [[0.0, \"#0d0887\"], [0.1111111111111111, \"#46039f\"], [0.2222222222222222, \"#7201a8\"], [0.3333333333333333, \"#9c179e\"], [0.4444444444444444, \"#bd3786\"], [0.5555555555555556, \"#d8576b\"], [0.6666666666666666, \"#ed7953\"], [0.7777777777777778, \"#fb9f3a\"], [0.8888888888888888, \"#fdca26\"], [1.0, \"#f0f921\"]]}, \"colorway\": [\"#636efa\", \"#EF553B\", \"#00cc96\", \"#ab63fa\", \"#FFA15A\", \"#19d3f3\", \"#FF6692\", \"#B6E880\", \"#FF97FF\", \"#FECB52\"], \"font\": {\"color\": \"#2a3f5f\"}, \"geo\": {\"bgcolor\": \"white\", \"lakecolor\": \"white\", \"landcolor\": \"#E5ECF6\", \"showlakes\": true, \"showland\": true, \"subunitcolor\": \"white\"}, \"hoverlabel\": {\"align\": \"left\"}, \"hovermode\": \"closest\", \"mapbox\": {\"style\": \"light\"}, \"paper_bgcolor\": \"white\", \"plot_bgcolor\": \"#E5ECF6\", \"polar\": {\"angularaxis\": {\"gridcolor\": \"white\", \"linecolor\": \"white\", \"ticks\": \"\"}, \"bgcolor\": \"#E5ECF6\", \"radialaxis\": {\"gridcolor\": \"white\", \"linecolor\": \"white\", \"ticks\": \"\"}}, \"scene\": {\"xaxis\": {\"backgroundcolor\": \"#E5ECF6\", \"gridcolor\": \"white\", \"gridwidth\": 2, \"linecolor\": \"white\", \"showbackground\": true, \"ticks\": \"\", \"zerolinecolor\": \"white\"}, \"yaxis\": {\"backgroundcolor\": \"#E5ECF6\", \"gridcolor\": \"white\", \"gridwidth\": 2, \"linecolor\": \"white\", \"showbackground\": true, \"ticks\": \"\", \"zerolinecolor\": \"white\"}, \"zaxis\": {\"backgroundcolor\": \"#E5ECF6\", \"gridcolor\": \"white\", \"gridwidth\": 2, \"linecolor\": \"white\", \"showbackground\": true, \"ticks\": \"\", \"zerolinecolor\": \"white\"}}, \"shapedefaults\": {\"line\": {\"color\": \"#2a3f5f\"}}, \"ternary\": {\"aaxis\": {\"gridcolor\": \"white\", \"linecolor\": \"white\", \"ticks\": \"\"}, \"baxis\": {\"gridcolor\": \"white\", \"linecolor\": \"white\", \"ticks\": \"\"}, \"bgcolor\": \"#E5ECF6\", \"caxis\": {\"gridcolor\": \"white\", \"linecolor\": \"white\", \"ticks\": \"\"}}, \"title\": {\"x\": 0.05}, \"xaxis\": {\"automargin\": true, \"gridcolor\": \"white\", \"linecolor\": \"white\", \"ticks\": \"\", \"title\": {\"standoff\": 15}, \"zerolinecolor\": \"white\", \"zerolinewidth\": 2}, \"yaxis\": {\"automargin\": true, \"gridcolor\": \"white\", \"linecolor\": \"white\", \"ticks\": \"\", \"title\": {\"standoff\": 15}, \"zerolinecolor\": \"white\", \"zerolinewidth\": 2}}}, \"title\": {\"text\": \"Actual Player Salary vs. Projected Player Value Differentiated by League\"}, \"xaxis\": {\"anchor\": \"y\", \"domain\": [0.0, 1.0], \"title\": {\"text\": \"projected_value\"}}, \"yaxis\": {\"anchor\": \"x\", \"domain\": [0.0, 1.0], \"title\": {\"text\": \"salary\"}}},\n",
              "                        {\"responsive\": true}\n",
              "                    ).then(function(){\n",
              "                            \n",
              "var gd = document.getElementById('c33c4fd3-87a9-4ced-a50c-14156825cd87');\n",
              "var x = new MutationObserver(function (mutations, observer) {{\n",
              "        var display = window.getComputedStyle(gd).display;\n",
              "        if (!display || display === 'none') {{\n",
              "            console.log([gd, 'removed!']);\n",
              "            Plotly.purge(gd);\n",
              "            observer.disconnect();\n",
              "        }}\n",
              "}});\n",
              "\n",
              "// Listen for the removal of the full notebook cells\n",
              "var notebookContainer = gd.closest('#notebook-container');\n",
              "if (notebookContainer) {{\n",
              "    x.observe(notebookContainer, {childList: true});\n",
              "}}\n",
              "\n",
              "// Listen for the clearing of the current output cell\n",
              "var outputEl = gd.closest('.output');\n",
              "if (outputEl) {{\n",
              "    x.observe(outputEl, {childList: true});\n",
              "}}\n",
              "\n",
              "                        })\n",
              "                };\n",
              "                \n",
              "            </script>\n",
              "        </div>\n",
              "</body>\n",
              "</html>"
            ]
          },
          "metadata": {
            "tags": []
          }
        }
      ]
    },
    {
      "cell_type": "code",
      "metadata": {
        "colab": {
          "base_uri": "https://localhost:8080/",
          "height": 678
        },
        "id": "BDSkGTAPHbjO",
        "outputId": "79070770-b7e0-4483-b1cc-143231f38591"
      },
      "source": [
        "projected_value_ranges = [-1.5, -1, -0.5, 0, 0.5, 1, 1.5]\n",
        "wnbaAverageByBin = list()\n",
        "mnbaAverageByBin = list()\n",
        "for rangeValue in projected_value_ranges:\n",
        "  wnbaSum = 0\n",
        "  wnbaCount = 0\n",
        "  mnbaSum = 0\n",
        "  mnbaCount = 0\n",
        "  for index, row in df_overall_general.iterrows():\n",
        "    if (row['projected_value'] >= rangeValue) and (row['projected_value'] < rangeValue + 0.5):\n",
        "      if row['League'] == \"WNBA\":\n",
        "        wnbaSum += row['salary']\n",
        "        wnbaCount += 1\n",
        "      elif row['League'] == \"NBA\":\n",
        "        mnbaSum += row['salary']\n",
        "        mnbaCount += 1\n",
        "  if (wnbaCount > 0):\n",
        "    wnbaAverageByBin.append(wnbaSum / wnbaCount)\n",
        "  else:\n",
        "    wnbaAverageByBin.append(0)\n",
        "  if mnbaCount > 0:\n",
        "    mnbaAverageByBin.append(mnbaSum / mnbaCount)\n",
        "  else:\n",
        "    mnbaAverageByBin.append(0)\n",
        "\n",
        "df_discrepancies_by_bin = pd.DataFrame(columns=['bin', 'discrepancy'])\n",
        "df_discrepancies_by_bin_percentage = pd.DataFrame(columns=['bin', 'discrepancy_percentage'])\n",
        "\n",
        "print(wnbaAverageByBin)\n",
        "\n",
        "binValue = -1.25\n",
        "for index in range(7):\n",
        "  temp = [binValue, abs(mnbaAverageByBin[index] - wnbaAverageByBin[index])]\n",
        "  print(abs(mnbaAverageByBin[index] - wnbaAverageByBin[index]))\n",
        "  df_discrepancies_by_bin.loc[len(df_discrepancies_by_bin)] = temp\n",
        "\n",
        "  if(wnbaAverageByBin[index] != 0):\n",
        "    tempPercentage = [binValue, abs((mnbaAverageByBin[index] - wnbaAverageByBin[index])/(wnbaAverageByBin[index]))]\n",
        "    df_discrepancies_by_bin_percentage.loc[len(df_discrepancies_by_bin)] = tempPercentage\n",
        "\n",
        "  binValue += 0.5\n",
        "df_discrepancies_by_bin\n",
        "salary_discrepancies = px.bar(df_discrepancies_by_bin, x='bin', y='discrepancy')\n",
        "salary_discrepancies_percentages = px.bar(df_discrepancies_by_bin_percentage, x='bin', y='discrepancy_percentage', labels = {'bin': 'projected value grouping'})\n",
        "salary_discrepancies_percentages.layout.yaxis.tickformat = ',.0%'\n",
        "salary_discrepancies_percentages"
      ],
      "execution_count": 12,
      "outputs": [
        {
          "output_type": "stream",
          "text": [
            "[68568.57142857143, 66145.92592592593, 81301.52777777778, 83381.13043478261, 120981.13333333333, 125428.57142857143, 0]\n",
            "1975803.6285714286\n",
            "2983603.1530214427\n",
            "4453278.691269841\n",
            "7845063.057684029\n",
            "14203854.462820513\n",
            "22805077.77142857\n",
            "29736342.0\n"
          ],
          "name": "stdout"
        },
        {
          "output_type": "display_data",
          "data": {
            "text/html": [
              "<html>\n",
              "<head><meta charset=\"utf-8\" /></head>\n",
              "<body>\n",
              "    <div>\n",
              "            <script src=\"https://cdnjs.cloudflare.com/ajax/libs/mathjax/2.7.5/MathJax.js?config=TeX-AMS-MML_SVG\"></script><script type=\"text/javascript\">if (window.MathJax) {MathJax.Hub.Config({SVG: {font: \"STIX-Web\"}});}</script>\n",
              "                <script type=\"text/javascript\">window.PlotlyConfig = {MathJaxConfig: 'local'};</script>\n",
              "        <script src=\"https://cdn.plot.ly/plotly-latest.min.js\"></script>    \n",
              "            <div id=\"a341d811-7980-46a7-bfd5-aa27ced74d65\" class=\"plotly-graph-div\" style=\"height:525px; width:100%;\"></div>\n",
              "            <script type=\"text/javascript\">\n",
              "                \n",
              "                    window.PLOTLYENV=window.PLOTLYENV || {};\n",
              "                    \n",
              "                if (document.getElementById(\"a341d811-7980-46a7-bfd5-aa27ced74d65\")) {\n",
              "                    Plotly.newPlot(\n",
              "                        'a341d811-7980-46a7-bfd5-aa27ced74d65',\n",
              "                        [{\"alignmentgroup\": \"True\", \"hoverlabel\": {\"namelength\": 0}, \"hovertemplate\": \"projected value grouping=%{x}<br>discrepancy_percentage=%{y}\", \"legendgroup\": \"\", \"marker\": {\"color\": \"#636efa\"}, \"name\": \"\", \"offsetgroup\": \"\", \"orientation\": \"v\", \"showlegend\": false, \"textposition\": \"auto\", \"type\": \"bar\", \"x\": [-1.25, -0.75, -0.25, 0.25, 0.75, 1.25], \"xaxis\": \"x\", \"y\": [28.81500354181424, 45.10637822747626, 54.7748463404283, 94.08679178102682, 117.40553317255953, 181.8172487471526], \"yaxis\": \"y\"}],\n",
              "                        {\"barmode\": \"relative\", \"legend\": {\"tracegroupgap\": 0}, \"margin\": {\"t\": 60}, \"template\": {\"data\": {\"bar\": [{\"error_x\": {\"color\": \"#2a3f5f\"}, \"error_y\": {\"color\": \"#2a3f5f\"}, \"marker\": {\"line\": {\"color\": \"#E5ECF6\", \"width\": 0.5}}, \"type\": \"bar\"}], \"barpolar\": [{\"marker\": {\"line\": {\"color\": \"#E5ECF6\", \"width\": 0.5}}, \"type\": \"barpolar\"}], \"carpet\": [{\"aaxis\": {\"endlinecolor\": \"#2a3f5f\", \"gridcolor\": \"white\", \"linecolor\": \"white\", \"minorgridcolor\": \"white\", \"startlinecolor\": \"#2a3f5f\"}, \"baxis\": {\"endlinecolor\": \"#2a3f5f\", \"gridcolor\": \"white\", \"linecolor\": \"white\", \"minorgridcolor\": \"white\", \"startlinecolor\": \"#2a3f5f\"}, \"type\": \"carpet\"}], \"choropleth\": [{\"colorbar\": {\"outlinewidth\": 0, \"ticks\": \"\"}, \"type\": \"choropleth\"}], \"contour\": [{\"colorbar\": {\"outlinewidth\": 0, \"ticks\": \"\"}, \"colorscale\": [[0.0, \"#0d0887\"], [0.1111111111111111, \"#46039f\"], [0.2222222222222222, \"#7201a8\"], [0.3333333333333333, \"#9c179e\"], [0.4444444444444444, \"#bd3786\"], [0.5555555555555556, \"#d8576b\"], [0.6666666666666666, \"#ed7953\"], [0.7777777777777778, \"#fb9f3a\"], [0.8888888888888888, \"#fdca26\"], [1.0, \"#f0f921\"]], \"type\": \"contour\"}], \"contourcarpet\": [{\"colorbar\": {\"outlinewidth\": 0, \"ticks\": \"\"}, \"type\": \"contourcarpet\"}], \"heatmap\": [{\"colorbar\": {\"outlinewidth\": 0, \"ticks\": \"\"}, \"colorscale\": [[0.0, \"#0d0887\"], [0.1111111111111111, \"#46039f\"], [0.2222222222222222, \"#7201a8\"], [0.3333333333333333, \"#9c179e\"], [0.4444444444444444, \"#bd3786\"], [0.5555555555555556, \"#d8576b\"], [0.6666666666666666, \"#ed7953\"], [0.7777777777777778, \"#fb9f3a\"], [0.8888888888888888, \"#fdca26\"], [1.0, \"#f0f921\"]], \"type\": \"heatmap\"}], \"heatmapgl\": [{\"colorbar\": {\"outlinewidth\": 0, \"ticks\": \"\"}, \"colorscale\": [[0.0, \"#0d0887\"], [0.1111111111111111, \"#46039f\"], [0.2222222222222222, \"#7201a8\"], [0.3333333333333333, \"#9c179e\"], [0.4444444444444444, \"#bd3786\"], [0.5555555555555556, \"#d8576b\"], [0.6666666666666666, \"#ed7953\"], [0.7777777777777778, \"#fb9f3a\"], [0.8888888888888888, \"#fdca26\"], [1.0, \"#f0f921\"]], \"type\": \"heatmapgl\"}], \"histogram\": [{\"marker\": {\"colorbar\": {\"outlinewidth\": 0, \"ticks\": \"\"}}, \"type\": \"histogram\"}], \"histogram2d\": [{\"colorbar\": {\"outlinewidth\": 0, \"ticks\": \"\"}, \"colorscale\": [[0.0, \"#0d0887\"], [0.1111111111111111, \"#46039f\"], [0.2222222222222222, \"#7201a8\"], [0.3333333333333333, \"#9c179e\"], [0.4444444444444444, \"#bd3786\"], [0.5555555555555556, \"#d8576b\"], [0.6666666666666666, \"#ed7953\"], [0.7777777777777778, \"#fb9f3a\"], [0.8888888888888888, \"#fdca26\"], [1.0, \"#f0f921\"]], \"type\": \"histogram2d\"}], \"histogram2dcontour\": [{\"colorbar\": {\"outlinewidth\": 0, \"ticks\": \"\"}, \"colorscale\": [[0.0, \"#0d0887\"], [0.1111111111111111, \"#46039f\"], [0.2222222222222222, \"#7201a8\"], [0.3333333333333333, \"#9c179e\"], [0.4444444444444444, \"#bd3786\"], [0.5555555555555556, \"#d8576b\"], [0.6666666666666666, \"#ed7953\"], [0.7777777777777778, \"#fb9f3a\"], [0.8888888888888888, \"#fdca26\"], [1.0, \"#f0f921\"]], \"type\": \"histogram2dcontour\"}], \"mesh3d\": [{\"colorbar\": {\"outlinewidth\": 0, \"ticks\": \"\"}, \"type\": \"mesh3d\"}], \"parcoords\": [{\"line\": {\"colorbar\": {\"outlinewidth\": 0, \"ticks\": \"\"}}, \"type\": \"parcoords\"}], \"pie\": [{\"automargin\": true, \"type\": \"pie\"}], \"scatter\": [{\"marker\": {\"colorbar\": {\"outlinewidth\": 0, \"ticks\": \"\"}}, \"type\": \"scatter\"}], \"scatter3d\": [{\"line\": {\"colorbar\": {\"outlinewidth\": 0, \"ticks\": \"\"}}, \"marker\": {\"colorbar\": {\"outlinewidth\": 0, \"ticks\": \"\"}}, \"type\": \"scatter3d\"}], \"scattercarpet\": [{\"marker\": {\"colorbar\": {\"outlinewidth\": 0, \"ticks\": \"\"}}, \"type\": \"scattercarpet\"}], \"scattergeo\": [{\"marker\": {\"colorbar\": {\"outlinewidth\": 0, \"ticks\": \"\"}}, \"type\": \"scattergeo\"}], \"scattergl\": [{\"marker\": {\"colorbar\": {\"outlinewidth\": 0, \"ticks\": \"\"}}, \"type\": \"scattergl\"}], \"scattermapbox\": [{\"marker\": {\"colorbar\": {\"outlinewidth\": 0, \"ticks\": \"\"}}, \"type\": \"scattermapbox\"}], \"scatterpolar\": [{\"marker\": {\"colorbar\": {\"outlinewidth\": 0, \"ticks\": \"\"}}, \"type\": \"scatterpolar\"}], \"scatterpolargl\": [{\"marker\": {\"colorbar\": {\"outlinewidth\": 0, \"ticks\": \"\"}}, \"type\": \"scatterpolargl\"}], \"scatterternary\": [{\"marker\": {\"colorbar\": {\"outlinewidth\": 0, \"ticks\": \"\"}}, \"type\": \"scatterternary\"}], \"surface\": [{\"colorbar\": {\"outlinewidth\": 0, \"ticks\": \"\"}, \"colorscale\": [[0.0, \"#0d0887\"], [0.1111111111111111, \"#46039f\"], [0.2222222222222222, \"#7201a8\"], [0.3333333333333333, \"#9c179e\"], [0.4444444444444444, \"#bd3786\"], [0.5555555555555556, \"#d8576b\"], [0.6666666666666666, \"#ed7953\"], [0.7777777777777778, \"#fb9f3a\"], [0.8888888888888888, \"#fdca26\"], [1.0, \"#f0f921\"]], \"type\": \"surface\"}], \"table\": [{\"cells\": {\"fill\": {\"color\": \"#EBF0F8\"}, \"line\": {\"color\": \"white\"}}, \"header\": {\"fill\": {\"color\": \"#C8D4E3\"}, \"line\": {\"color\": \"white\"}}, \"type\": \"table\"}]}, \"layout\": {\"annotationdefaults\": {\"arrowcolor\": \"#2a3f5f\", \"arrowhead\": 0, \"arrowwidth\": 1}, \"coloraxis\": {\"colorbar\": {\"outlinewidth\": 0, \"ticks\": \"\"}}, \"colorscale\": {\"diverging\": [[0, \"#8e0152\"], [0.1, \"#c51b7d\"], [0.2, \"#de77ae\"], [0.3, \"#f1b6da\"], [0.4, \"#fde0ef\"], [0.5, \"#f7f7f7\"], [0.6, \"#e6f5d0\"], [0.7, \"#b8e186\"], [0.8, \"#7fbc41\"], [0.9, \"#4d9221\"], [1, \"#276419\"]], \"sequential\": [[0.0, \"#0d0887\"], [0.1111111111111111, \"#46039f\"], [0.2222222222222222, \"#7201a8\"], [0.3333333333333333, \"#9c179e\"], [0.4444444444444444, \"#bd3786\"], [0.5555555555555556, \"#d8576b\"], [0.6666666666666666, \"#ed7953\"], [0.7777777777777778, \"#fb9f3a\"], [0.8888888888888888, \"#fdca26\"], [1.0, \"#f0f921\"]], \"sequentialminus\": [[0.0, \"#0d0887\"], [0.1111111111111111, \"#46039f\"], [0.2222222222222222, \"#7201a8\"], [0.3333333333333333, \"#9c179e\"], [0.4444444444444444, \"#bd3786\"], [0.5555555555555556, \"#d8576b\"], [0.6666666666666666, \"#ed7953\"], [0.7777777777777778, \"#fb9f3a\"], [0.8888888888888888, \"#fdca26\"], [1.0, \"#f0f921\"]]}, \"colorway\": [\"#636efa\", \"#EF553B\", \"#00cc96\", \"#ab63fa\", \"#FFA15A\", \"#19d3f3\", \"#FF6692\", \"#B6E880\", \"#FF97FF\", \"#FECB52\"], \"font\": {\"color\": \"#2a3f5f\"}, \"geo\": {\"bgcolor\": \"white\", \"lakecolor\": \"white\", \"landcolor\": \"#E5ECF6\", \"showlakes\": true, \"showland\": true, \"subunitcolor\": \"white\"}, \"hoverlabel\": {\"align\": \"left\"}, \"hovermode\": \"closest\", \"mapbox\": {\"style\": \"light\"}, \"paper_bgcolor\": \"white\", \"plot_bgcolor\": \"#E5ECF6\", \"polar\": {\"angularaxis\": {\"gridcolor\": \"white\", \"linecolor\": \"white\", \"ticks\": \"\"}, \"bgcolor\": \"#E5ECF6\", \"radialaxis\": {\"gridcolor\": \"white\", \"linecolor\": \"white\", \"ticks\": \"\"}}, \"scene\": {\"xaxis\": {\"backgroundcolor\": \"#E5ECF6\", \"gridcolor\": \"white\", \"gridwidth\": 2, \"linecolor\": \"white\", \"showbackground\": true, \"ticks\": \"\", \"zerolinecolor\": \"white\"}, \"yaxis\": {\"backgroundcolor\": \"#E5ECF6\", \"gridcolor\": \"white\", \"gridwidth\": 2, \"linecolor\": \"white\", \"showbackground\": true, \"ticks\": \"\", \"zerolinecolor\": \"white\"}, \"zaxis\": {\"backgroundcolor\": \"#E5ECF6\", \"gridcolor\": \"white\", \"gridwidth\": 2, \"linecolor\": \"white\", \"showbackground\": true, \"ticks\": \"\", \"zerolinecolor\": \"white\"}}, \"shapedefaults\": {\"line\": {\"color\": \"#2a3f5f\"}}, \"ternary\": {\"aaxis\": {\"gridcolor\": \"white\", \"linecolor\": \"white\", \"ticks\": \"\"}, \"baxis\": {\"gridcolor\": \"white\", \"linecolor\": \"white\", \"ticks\": \"\"}, \"bgcolor\": \"#E5ECF6\", \"caxis\": {\"gridcolor\": \"white\", \"linecolor\": \"white\", \"ticks\": \"\"}}, \"title\": {\"x\": 0.05}, \"xaxis\": {\"automargin\": true, \"gridcolor\": \"white\", \"linecolor\": \"white\", \"ticks\": \"\", \"title\": {\"standoff\": 15}, \"zerolinecolor\": \"white\", \"zerolinewidth\": 2}, \"yaxis\": {\"automargin\": true, \"gridcolor\": \"white\", \"linecolor\": \"white\", \"ticks\": \"\", \"title\": {\"standoff\": 15}, \"zerolinecolor\": \"white\", \"zerolinewidth\": 2}}}, \"xaxis\": {\"anchor\": \"y\", \"domain\": [0.0, 1.0], \"title\": {\"text\": \"projected value grouping\"}}, \"yaxis\": {\"anchor\": \"x\", \"domain\": [0.0, 1.0], \"tickformat\": \",.0%\", \"title\": {\"text\": \"discrepancy_percentage\"}}},\n",
              "                        {\"responsive\": true}\n",
              "                    ).then(function(){\n",
              "                            \n",
              "var gd = document.getElementById('a341d811-7980-46a7-bfd5-aa27ced74d65');\n",
              "var x = new MutationObserver(function (mutations, observer) {{\n",
              "        var display = window.getComputedStyle(gd).display;\n",
              "        if (!display || display === 'none') {{\n",
              "            console.log([gd, 'removed!']);\n",
              "            Plotly.purge(gd);\n",
              "            observer.disconnect();\n",
              "        }}\n",
              "}});\n",
              "\n",
              "// Listen for the removal of the full notebook cells\n",
              "var notebookContainer = gd.closest('#notebook-container');\n",
              "if (notebookContainer) {{\n",
              "    x.observe(notebookContainer, {childList: true});\n",
              "}}\n",
              "\n",
              "// Listen for the clearing of the current output cell\n",
              "var outputEl = gd.closest('.output');\n",
              "if (outputEl) {{\n",
              "    x.observe(outputEl, {childList: true});\n",
              "}}\n",
              "\n",
              "                        })\n",
              "                };\n",
              "                \n",
              "            </script>\n",
              "        </div>\n",
              "</body>\n",
              "</html>"
            ]
          },
          "metadata": {
            "tags": []
          }
        }
      ]
    },
    {
      "cell_type": "code",
      "metadata": {
        "id": "4WQnp9xGGc7d"
      },
      "source": [
        "#Create a series of linear regressions to predict salary based on metrics\n"
      ],
      "execution_count": 13,
      "outputs": []
    },
    {
      "cell_type": "code",
      "metadata": {
        "colab": {
          "base_uri": "https://localhost:8080/",
          "height": 491
        },
        "id": "QpLQe93jH4Fk",
        "outputId": "68d573ce-9cda-4e80-bf0c-c359725a327a"
      },
      "source": [
        "#compare games played vs salary (mens)\n",
        "import statsmodels.api as sm # import statsmodels \n",
        "import numpy as np\n",
        "#df_wnba_general = df_wnba_general.astype(np.float)\n",
        "#df_nba_general=df_nba_general.astype(np.float)\n",
        "\n",
        "X = df_mnba_general[[\"games\"]] #initialize independent variables\n",
        "y = df_mnba_general[\"salary\"] #initialize dependent variable\n",
        "model_gamevsalary_nba = sm.OLS(y, X).fit() #define least of squares regression model\n",
        "predictions_gamevsalary_nba = model_gamevsalary_nba.predict(X) #run model\n",
        "model_gamevsalary_nba.summary() #print results \n",
        "\n",
        "\n"
      ],
      "execution_count": 14,
      "outputs": [
        {
          "output_type": "stream",
          "text": [
            "/usr/local/lib/python3.7/dist-packages/statsmodels/tools/_testing.py:19: FutureWarning:\n",
            "\n",
            "pandas.util.testing is deprecated. Use the functions in the public API at pandas.testing instead.\n",
            "\n"
          ],
          "name": "stderr"
        },
        {
          "output_type": "execute_result",
          "data": {
            "text/html": [
              "<table class=\"simpletable\">\n",
              "<caption>OLS Regression Results</caption>\n",
              "<tr>\n",
              "  <th>Dep. Variable:</th>         <td>salary</td>      <th>  R-squared (uncentered):</th>      <td>   0.462</td> \n",
              "</tr>\n",
              "<tr>\n",
              "  <th>Model:</th>                   <td>OLS</td>       <th>  Adj. R-squared (uncentered):</th> <td>   0.461</td> \n",
              "</tr>\n",
              "<tr>\n",
              "  <th>Method:</th>             <td>Least Squares</td>  <th>  F-statistic:       </th>          <td>   360.1</td> \n",
              "</tr>\n",
              "<tr>\n",
              "  <th>Date:</th>             <td>Sat, 08 May 2021</td> <th>  Prob (F-statistic):</th>          <td>2.09e-58</td> \n",
              "</tr>\n",
              "<tr>\n",
              "  <th>Time:</th>                 <td>19:06:42</td>     <th>  Log-Likelihood:    </th>          <td> -7332.8</td> \n",
              "</tr>\n",
              "<tr>\n",
              "  <th>No. Observations:</th>      <td>   420</td>      <th>  AIC:               </th>          <td>1.467e+04</td>\n",
              "</tr>\n",
              "<tr>\n",
              "  <th>Df Residuals:</th>          <td>   419</td>      <th>  BIC:               </th>          <td>1.467e+04</td>\n",
              "</tr>\n",
              "<tr>\n",
              "  <th>Df Model:</th>              <td>     1</td>      <th>                     </th>              <td> </td>    \n",
              "</tr>\n",
              "<tr>\n",
              "  <th>Covariance Type:</th>      <td>nonrobust</td>    <th>                     </th>              <td> </td>    \n",
              "</tr>\n",
              "</table>\n",
              "<table class=\"simpletable\">\n",
              "<tr>\n",
              "    <td></td>       <th>coef</th>     <th>std err</th>      <th>t</th>      <th>P>|t|</th>  <th>[0.025</th>    <th>0.975]</th>  \n",
              "</tr>\n",
              "<tr>\n",
              "  <th>games</th> <td> 1.849e+05</td> <td> 9745.087</td> <td>   18.977</td> <td> 0.000</td> <td> 1.66e+05</td> <td> 2.04e+05</td>\n",
              "</tr>\n",
              "</table>\n",
              "<table class=\"simpletable\">\n",
              "<tr>\n",
              "  <th>Omnibus:</th>       <td>123.963</td> <th>  Durbin-Watson:     </th> <td>   1.976</td>\n",
              "</tr>\n",
              "<tr>\n",
              "  <th>Prob(Omnibus):</th> <td> 0.000</td>  <th>  Jarque-Bera (JB):  </th> <td> 257.483</td>\n",
              "</tr>\n",
              "<tr>\n",
              "  <th>Skew:</th>          <td> 1.590</td>  <th>  Prob(JB):          </th> <td>1.23e-56</td>\n",
              "</tr>\n",
              "<tr>\n",
              "  <th>Kurtosis:</th>      <td> 5.146</td>  <th>  Cond. No.          </th> <td>    1.00</td>\n",
              "</tr>\n",
              "</table><br/><br/>Warnings:<br/>[1] Standard Errors assume that the covariance matrix of the errors is correctly specified."
            ],
            "text/plain": [
              "<class 'statsmodels.iolib.summary.Summary'>\n",
              "\"\"\"\n",
              "                                 OLS Regression Results                                \n",
              "=======================================================================================\n",
              "Dep. Variable:                 salary   R-squared (uncentered):                   0.462\n",
              "Model:                            OLS   Adj. R-squared (uncentered):              0.461\n",
              "Method:                 Least Squares   F-statistic:                              360.1\n",
              "Date:                Sat, 08 May 2021   Prob (F-statistic):                    2.09e-58\n",
              "Time:                        19:06:42   Log-Likelihood:                         -7332.8\n",
              "No. Observations:                 420   AIC:                                  1.467e+04\n",
              "Df Residuals:                     419   BIC:                                  1.467e+04\n",
              "Df Model:                           1                                                  \n",
              "Covariance Type:            nonrobust                                                  \n",
              "==============================================================================\n",
              "                 coef    std err          t      P>|t|      [0.025      0.975]\n",
              "------------------------------------------------------------------------------\n",
              "games       1.849e+05   9745.087     18.977      0.000    1.66e+05    2.04e+05\n",
              "==============================================================================\n",
              "Omnibus:                      123.963   Durbin-Watson:                   1.976\n",
              "Prob(Omnibus):                  0.000   Jarque-Bera (JB):              257.483\n",
              "Skew:                           1.590   Prob(JB):                     1.23e-56\n",
              "Kurtosis:                       5.146   Cond. No.                         1.00\n",
              "==============================================================================\n",
              "\n",
              "Warnings:\n",
              "[1] Standard Errors assume that the covariance matrix of the errors is correctly specified.\n",
              "\"\"\""
            ]
          },
          "metadata": {
            "tags": []
          },
          "execution_count": 14
        }
      ]
    },
    {
      "cell_type": "code",
      "metadata": {
        "colab": {
          "base_uri": "https://localhost:8080/",
          "height": 542
        },
        "id": "Kco3Ke7yxihb",
        "outputId": "a46e43ab-3780-4fef-9785-49d30b5e3131"
      },
      "source": [
        "gamesvsalary_nba = px.scatter(df_mnba_general, x = \"games\",\n",
        "                            y = \"salary\",\n",
        "                            title = \"Salary vs Games Played for Men's Basketball\")\n",
        "gamesvsalary_nba"
      ],
      "execution_count": 16,
      "outputs": [
        {
          "output_type": "display_data",
          "data": {
            "text/html": [
              "<html>\n",
              "<head><meta charset=\"utf-8\" /></head>\n",
              "<body>\n",
              "    <div>\n",
              "            <script src=\"https://cdnjs.cloudflare.com/ajax/libs/mathjax/2.7.5/MathJax.js?config=TeX-AMS-MML_SVG\"></script><script type=\"text/javascript\">if (window.MathJax) {MathJax.Hub.Config({SVG: {font: \"STIX-Web\"}});}</script>\n",
              "                <script type=\"text/javascript\">window.PlotlyConfig = {MathJaxConfig: 'local'};</script>\n",
              "        <script src=\"https://cdn.plot.ly/plotly-latest.min.js\"></script>    \n",
              "            <div id=\"93af0909-9c8d-4e7a-9b40-70268ee74f70\" class=\"plotly-graph-div\" style=\"height:525px; width:100%;\"></div>\n",
              "            <script type=\"text/javascript\">\n",
              "                \n",
              "                    window.PLOTLYENV=window.PLOTLYENV || {};\n",
              "                    \n",
              "                if (document.getElementById(\"93af0909-9c8d-4e7a-9b40-70268ee74f70\")) {\n",
              "                    Plotly.newPlot(\n",
              "                        '93af0909-9c8d-4e7a-9b40-70268ee74f70',\n",
              "                        [{\"hoverlabel\": {\"namelength\": 0}, \"hovertemplate\": \"games=%{x}<br>salary=%{y}\", \"legendgroup\": \"\", \"marker\": {\"color\": \"#636efa\", \"symbol\": \"circle\"}, \"mode\": \"markers\", \"name\": \"\", \"showlegend\": false, \"type\": \"scatter\", \"x\": [63, 64, 64, 63, 64, 64, 59, 58, 64, 58, 61, 62, 65, 65, 57, 58, 58, 59, 60, 65, 63, 58, 62, 63, 63, 64, 64, 62, 55, 59, 63, 58, 56, 54, 56, 63, 65, 56, 59, 59, 53, 61, 63, 59, 53, 64, 52, 53, 64, 50, 53, 55, 54, 53, 63, 53, 55, 62, 62, 58, 61, 60, 56, 59, 56, 57, 63, 57, 48, 61, 54, 55, 52, 48, 52, 55, 56, 52, 61, 61, 64, 57, 49, 59, 59, 55, 62, 61, 48, 59, 64, 47, 55, 51, 51, 46, 61, 57, 50, 60, 42, 63, 55, 51, 49, 60, 60, 60, 55, 44, 63, 61, 43, 55, 55, 50, 48, 49, 51, 65, 49, 58, 47, 44, 60, 43, 43, 45, 59, 61, 61, 64, 58, 58, 57, 64, 55, 60, 57, 47, 46, 54, 41, 39, 56, 59, 48, 48, 59, 60, 40, 52, 62, 58, 50, 54, 54, 54, 59, 44, 43, 58, 51, 39, 48, 55, 61, 57, 54, 49, 63, 37, 45, 63, 63, 62, 58, 55, 58, 39, 52, 35, 44, 50, 59, 59, 44, 43, 59, 58, 44, 45, 56, 38, 61, 48, 59, 35, 52, 33, 57, 43, 62, 45, 52, 36, 36, 39, 51, 61, 38, 39, 56, 39, 51, 51, 57, 35, 57, 64, 50, 44, 41, 57, 55, 53, 50, 56, 29, 28, 60, 39, 31, 52, 50, 52, 41, 46, 43, 51, 42, 49, 56, 43, 31, 53, 41, 52, 53, 39, 40, 25, 54, 50, 43, 31, 38, 27, 54, 52, 54, 28, 45, 44, 36, 50, 37, 46, 45, 26, 31, 34, 39, 36, 43, 36, 31, 40, 38, 50, 47, 57, 30, 29, 44, 39, 26, 39, 46, 24, 39, 35, 37, 35, 46, 42, 36, 45, 20, 28, 38, 45, 54, 42, 52, 43, 52, 26, 30, 40, 39, 39, 36, 33, 35, 39, 44, 34, 22, 31, 51, 36, 37, 21, 43, 34, 37, 31, 24, 25, 19, 35, 39, 23, 37, 22, 46, 39, 33, 36, 33, 23, 27, 40, 31, 23, 24, 24, 30, 32, 35, 17, 27, 22, 38, 12, 10, 26, 25, 25, 26, 17, 20, 13, 35, 8, 14, 25, 27, 30, 18, 29, 16, 26, 15, 30, 31, 24, 26, 22, 23, 10, 28, 21, 4, 6, 5, 9, 25, 14, 12, 16, 23, 15, 8, 11, 14, 3, 10, 17, 3, 15, 11, 12, 16, 12, 13, 3, 10, 6, 5, 3, 2, 9, 7, 5, 4, 2, 2, 4], \"xaxis\": \"x\", \"y\": [18900000, 28542009, 8231760, 24431818, 26000000, 29542010, 31626953, 22215909, 4359000, 9897120, 18900000, 33051724, 1663861, 9757440, 41358814, 8049360, 8099627, 27285000, 29430000, 16071429, 8035714, 22991071, 12138345, 41358814, 2761920, 10018200, 17850000, 10865952, 28751775, 10245480, 26525281, 5115492, 20700000, 17187500, 6571800, 5720400, 1445967, 43006362, 15500000, 14285714, 29000000, 5572680, 16875000, 6400920, 19500000, 3934320, 4991880, 27739975, 12198243, 21250000, 19047619, 33517241, 27528090, 6720720, 7068360, 5195501, 9166800, 18975000, 15365854, 3831840, 3562178, 2048040, 13920000, 11400000, 22246956, 16000000, 12697675, 4023600, 29250000, 11608231, 3550800, 1663861, 29250000, 33329100, 4000000, 14375000, 4137302, 26131111, 2564753, 9505100, 1678854, 4200000, 35450412, 12073020, 10863637, 5005350, 2689920, 8101852, 34379100, 3044160, 5005350, 34379100, 3909902, 4692840, 10800000, 30000000, 17000000, 27528090, 11003782, 11500000, 40824000, 2564753, 15000000, 1663861, 2399160, 3500000, 13285714, 1663861, 9258000, 28500000, 9258000, 5000000, 29430000, 9000000, 8000000, 1663861, 3822240, 1517981, 7813953, 7000000, 34504132, 4767000, 18000000, 13446428, 13545000, 39219565, 3872215, 29542010, 6490385, 2331593, 4938272, 2174318, 4235160, 1964760, 7333333, 2000000, 5760000, 12600000, 5000000, 3491159, 13500000, 8750000, 13015874, 29354152, 1701593, 8000000, 8250000, 4767000, 1936440, 3425463, 41254920, 2602920, 3121080, 1663861, 5448840, 1517981, 9268293, 4469160, 3623000, 18136364, 7839960, 1882867, 1678854, 34379100, 2545320, 10375678, 2711280, 15000000, 2090040, 15000000, 2337145, 13325895, 7969537, 7300000, 1517981, 1517984, 3623000, 14000000, 2331593, 16203704, 10000000, 4141320, 18000000, 9258000, 2105520, 1517981, 1663861, 6731508, 2035800, 5273826, 6000000, 3121080, 2331593, 18000000, 7965100, 1663861, 2320044, 11709091, 2651040, 21000000, 1762796, 7682927, 2564753, 19500000, 2750000, 17000000, 3516284, 3285120, 10000000, 2345640, 29546311, 33685241, 2498760, 8963640, 1762796, 6666667, 4642800, 28649250, 1663861, 1783557, 3623000, 3005225, 2964840, 2250000, 1517981, 4821429, 7199760, 2252040, 32742000, 39058950, 9258000, 9258000, 19160714, 10047450, 6975610, 1977011, 13942308, 2564753, 7812500, 1752950, 12178571, 3372826, 4032648, 16047100, 1663861, 4033440, 3113160, 1517981, 1517981, 8730240, 15415730, 2033160, 3174603, 2160000, 2063280, 3000000, 898310, 16869276, 3801000, 5105160, 2478840, 27500000, 4000000, 1737145, 10500000, 10185185, 3283684, 3640200, 2852708, 4458000, 2303040, 5345687, 2000000, 6146341, 5005350, 495102, 13333333, 1950600, 1517981, 3449400, 1517981, 2582160, 1862250, 12000000, 2193480, 1517981, 19078340, 1517981, 1517981, 12800000, 7500000, 2283034, 2000000, 2666959, 321893, 1678854, 2028594, 1620564, 7422000, 3174603, 3542060, 1701593, 4862040, 3761085, 3549383, 2210640, 1517981, 5635000, 3623000, 5969040, 4200000, 1882867, 2320044, 5029650, 7150000, 3458400, 1445697, 3372840, 9590602, 2137440, 1701593, 3814768, 2383915, 31300000, 5813640, 6104280, 2093023, 17587688, 13000000, 1517981, 5307120, 4548280, 1663861, 5686677, 2957520, 9720900, 1517981, 3000000, 1517981, 2028594, 1517981, 930930, 1445697, 2379840, 1023250, 5500000, 1752950, 2331593, 700000, 2816760, 898310, 3737520, 1445697, 5005350, 1517981, 557453, 8333333, 6176578, 1882867, 2304878, 898310, 2443440, 1882867, 2174318, 1762796, 12288697, 3631200, 1517981, 898310, 1517981, 7000000, 1517981, 5000000, 770433, 399591, 898310, 2075880, 898310, 1445697, 898310, 1797183, 3447478, 2058240, 1780152, 11750000, 9600000, 7257360, 6916834, 898310, 1620564, 529341, 1350000, 4245720, 1517981, 309355, 2564753, 747435, 11454048, 717845, 1000000, 3870000, 898310, 1289846, 340000, 898310, 1977000, 3944013, 4767000, 2619207, 361256, 4000000, 9400000, 1824003, 1904762, 1000000, 1517981, 1517981, 4326825, 447155, 263995], \"yaxis\": \"y\"}],\n",
              "                        {\"legend\": {\"tracegroupgap\": 0}, \"template\": {\"data\": {\"bar\": [{\"error_x\": {\"color\": \"#2a3f5f\"}, \"error_y\": {\"color\": \"#2a3f5f\"}, \"marker\": {\"line\": {\"color\": \"#E5ECF6\", \"width\": 0.5}}, \"type\": \"bar\"}], \"barpolar\": [{\"marker\": {\"line\": {\"color\": \"#E5ECF6\", \"width\": 0.5}}, \"type\": \"barpolar\"}], \"carpet\": [{\"aaxis\": {\"endlinecolor\": \"#2a3f5f\", \"gridcolor\": \"white\", \"linecolor\": \"white\", \"minorgridcolor\": \"white\", \"startlinecolor\": \"#2a3f5f\"}, \"baxis\": {\"endlinecolor\": \"#2a3f5f\", \"gridcolor\": \"white\", \"linecolor\": \"white\", \"minorgridcolor\": \"white\", \"startlinecolor\": \"#2a3f5f\"}, \"type\": \"carpet\"}], \"choropleth\": [{\"colorbar\": {\"outlinewidth\": 0, \"ticks\": \"\"}, \"type\": \"choropleth\"}], \"contour\": [{\"colorbar\": {\"outlinewidth\": 0, \"ticks\": \"\"}, \"colorscale\": [[0.0, \"#0d0887\"], [0.1111111111111111, \"#46039f\"], [0.2222222222222222, \"#7201a8\"], [0.3333333333333333, \"#9c179e\"], [0.4444444444444444, \"#bd3786\"], [0.5555555555555556, \"#d8576b\"], [0.6666666666666666, \"#ed7953\"], [0.7777777777777778, \"#fb9f3a\"], [0.8888888888888888, \"#fdca26\"], [1.0, \"#f0f921\"]], \"type\": \"contour\"}], \"contourcarpet\": [{\"colorbar\": {\"outlinewidth\": 0, \"ticks\": \"\"}, \"type\": \"contourcarpet\"}], \"heatmap\": [{\"colorbar\": {\"outlinewidth\": 0, \"ticks\": \"\"}, \"colorscale\": [[0.0, \"#0d0887\"], [0.1111111111111111, \"#46039f\"], [0.2222222222222222, \"#7201a8\"], [0.3333333333333333, \"#9c179e\"], [0.4444444444444444, \"#bd3786\"], [0.5555555555555556, \"#d8576b\"], [0.6666666666666666, \"#ed7953\"], [0.7777777777777778, \"#fb9f3a\"], [0.8888888888888888, \"#fdca26\"], [1.0, \"#f0f921\"]], \"type\": \"heatmap\"}], \"heatmapgl\": [{\"colorbar\": {\"outlinewidth\": 0, \"ticks\": \"\"}, \"colorscale\": [[0.0, \"#0d0887\"], [0.1111111111111111, \"#46039f\"], [0.2222222222222222, \"#7201a8\"], [0.3333333333333333, \"#9c179e\"], [0.4444444444444444, \"#bd3786\"], [0.5555555555555556, \"#d8576b\"], [0.6666666666666666, \"#ed7953\"], [0.7777777777777778, \"#fb9f3a\"], [0.8888888888888888, \"#fdca26\"], [1.0, \"#f0f921\"]], \"type\": \"heatmapgl\"}], \"histogram\": [{\"marker\": {\"colorbar\": {\"outlinewidth\": 0, \"ticks\": \"\"}}, \"type\": \"histogram\"}], \"histogram2d\": [{\"colorbar\": {\"outlinewidth\": 0, \"ticks\": \"\"}, \"colorscale\": [[0.0, \"#0d0887\"], [0.1111111111111111, \"#46039f\"], [0.2222222222222222, \"#7201a8\"], [0.3333333333333333, \"#9c179e\"], [0.4444444444444444, \"#bd3786\"], [0.5555555555555556, \"#d8576b\"], [0.6666666666666666, \"#ed7953\"], [0.7777777777777778, \"#fb9f3a\"], [0.8888888888888888, \"#fdca26\"], [1.0, \"#f0f921\"]], \"type\": \"histogram2d\"}], \"histogram2dcontour\": [{\"colorbar\": {\"outlinewidth\": 0, \"ticks\": \"\"}, \"colorscale\": [[0.0, \"#0d0887\"], [0.1111111111111111, \"#46039f\"], [0.2222222222222222, \"#7201a8\"], [0.3333333333333333, \"#9c179e\"], [0.4444444444444444, \"#bd3786\"], [0.5555555555555556, \"#d8576b\"], [0.6666666666666666, \"#ed7953\"], [0.7777777777777778, \"#fb9f3a\"], [0.8888888888888888, \"#fdca26\"], [1.0, \"#f0f921\"]], \"type\": \"histogram2dcontour\"}], \"mesh3d\": [{\"colorbar\": {\"outlinewidth\": 0, \"ticks\": \"\"}, \"type\": \"mesh3d\"}], \"parcoords\": [{\"line\": {\"colorbar\": {\"outlinewidth\": 0, \"ticks\": \"\"}}, \"type\": \"parcoords\"}], \"pie\": [{\"automargin\": true, \"type\": \"pie\"}], \"scatter\": [{\"marker\": {\"colorbar\": {\"outlinewidth\": 0, \"ticks\": \"\"}}, \"type\": \"scatter\"}], \"scatter3d\": [{\"line\": {\"colorbar\": {\"outlinewidth\": 0, \"ticks\": \"\"}}, \"marker\": {\"colorbar\": {\"outlinewidth\": 0, \"ticks\": \"\"}}, \"type\": \"scatter3d\"}], \"scattercarpet\": [{\"marker\": {\"colorbar\": {\"outlinewidth\": 0, \"ticks\": \"\"}}, \"type\": \"scattercarpet\"}], \"scattergeo\": [{\"marker\": {\"colorbar\": {\"outlinewidth\": 0, \"ticks\": \"\"}}, \"type\": \"scattergeo\"}], \"scattergl\": [{\"marker\": {\"colorbar\": {\"outlinewidth\": 0, \"ticks\": \"\"}}, \"type\": \"scattergl\"}], \"scattermapbox\": [{\"marker\": {\"colorbar\": {\"outlinewidth\": 0, \"ticks\": \"\"}}, \"type\": \"scattermapbox\"}], \"scatterpolar\": [{\"marker\": {\"colorbar\": {\"outlinewidth\": 0, \"ticks\": \"\"}}, \"type\": \"scatterpolar\"}], \"scatterpolargl\": [{\"marker\": {\"colorbar\": {\"outlinewidth\": 0, \"ticks\": \"\"}}, \"type\": \"scatterpolargl\"}], \"scatterternary\": [{\"marker\": {\"colorbar\": {\"outlinewidth\": 0, \"ticks\": \"\"}}, \"type\": \"scatterternary\"}], \"surface\": [{\"colorbar\": {\"outlinewidth\": 0, \"ticks\": \"\"}, \"colorscale\": [[0.0, \"#0d0887\"], [0.1111111111111111, \"#46039f\"], [0.2222222222222222, \"#7201a8\"], [0.3333333333333333, \"#9c179e\"], [0.4444444444444444, \"#bd3786\"], [0.5555555555555556, \"#d8576b\"], [0.6666666666666666, \"#ed7953\"], [0.7777777777777778, \"#fb9f3a\"], [0.8888888888888888, \"#fdca26\"], [1.0, \"#f0f921\"]], \"type\": \"surface\"}], \"table\": [{\"cells\": {\"fill\": {\"color\": \"#EBF0F8\"}, \"line\": {\"color\": \"white\"}}, \"header\": {\"fill\": {\"color\": \"#C8D4E3\"}, \"line\": {\"color\": \"white\"}}, \"type\": \"table\"}]}, \"layout\": {\"annotationdefaults\": {\"arrowcolor\": \"#2a3f5f\", \"arrowhead\": 0, \"arrowwidth\": 1}, \"coloraxis\": {\"colorbar\": {\"outlinewidth\": 0, \"ticks\": \"\"}}, \"colorscale\": {\"diverging\": [[0, \"#8e0152\"], [0.1, \"#c51b7d\"], [0.2, \"#de77ae\"], [0.3, \"#f1b6da\"], [0.4, \"#fde0ef\"], [0.5, \"#f7f7f7\"], [0.6, \"#e6f5d0\"], [0.7, \"#b8e186\"], [0.8, \"#7fbc41\"], [0.9, \"#4d9221\"], [1, \"#276419\"]], \"sequential\": [[0.0, \"#0d0887\"], [0.1111111111111111, \"#46039f\"], [0.2222222222222222, \"#7201a8\"], [0.3333333333333333, \"#9c179e\"], [0.4444444444444444, \"#bd3786\"], [0.5555555555555556, \"#d8576b\"], [0.6666666666666666, \"#ed7953\"], [0.7777777777777778, \"#fb9f3a\"], [0.8888888888888888, \"#fdca26\"], [1.0, \"#f0f921\"]], \"sequentialminus\": [[0.0, \"#0d0887\"], [0.1111111111111111, \"#46039f\"], [0.2222222222222222, \"#7201a8\"], [0.3333333333333333, \"#9c179e\"], [0.4444444444444444, \"#bd3786\"], [0.5555555555555556, \"#d8576b\"], [0.6666666666666666, \"#ed7953\"], [0.7777777777777778, \"#fb9f3a\"], [0.8888888888888888, \"#fdca26\"], [1.0, \"#f0f921\"]]}, \"colorway\": [\"#636efa\", \"#EF553B\", \"#00cc96\", \"#ab63fa\", \"#FFA15A\", \"#19d3f3\", \"#FF6692\", \"#B6E880\", \"#FF97FF\", \"#FECB52\"], \"font\": {\"color\": \"#2a3f5f\"}, \"geo\": {\"bgcolor\": \"white\", \"lakecolor\": \"white\", \"landcolor\": \"#E5ECF6\", \"showlakes\": true, \"showland\": true, \"subunitcolor\": \"white\"}, \"hoverlabel\": {\"align\": \"left\"}, \"hovermode\": \"closest\", \"mapbox\": {\"style\": \"light\"}, \"paper_bgcolor\": \"white\", \"plot_bgcolor\": \"#E5ECF6\", \"polar\": {\"angularaxis\": {\"gridcolor\": \"white\", \"linecolor\": \"white\", \"ticks\": \"\"}, \"bgcolor\": \"#E5ECF6\", \"radialaxis\": {\"gridcolor\": \"white\", \"linecolor\": \"white\", \"ticks\": \"\"}}, \"scene\": {\"xaxis\": {\"backgroundcolor\": \"#E5ECF6\", \"gridcolor\": \"white\", \"gridwidth\": 2, \"linecolor\": \"white\", \"showbackground\": true, \"ticks\": \"\", \"zerolinecolor\": \"white\"}, \"yaxis\": {\"backgroundcolor\": \"#E5ECF6\", \"gridcolor\": \"white\", \"gridwidth\": 2, \"linecolor\": \"white\", \"showbackground\": true, \"ticks\": \"\", \"zerolinecolor\": \"white\"}, \"zaxis\": {\"backgroundcolor\": \"#E5ECF6\", \"gridcolor\": \"white\", \"gridwidth\": 2, \"linecolor\": \"white\", \"showbackground\": true, \"ticks\": \"\", \"zerolinecolor\": \"white\"}}, \"shapedefaults\": {\"line\": {\"color\": \"#2a3f5f\"}}, \"ternary\": {\"aaxis\": {\"gridcolor\": \"white\", \"linecolor\": \"white\", \"ticks\": \"\"}, \"baxis\": {\"gridcolor\": \"white\", \"linecolor\": \"white\", \"ticks\": \"\"}, \"bgcolor\": \"#E5ECF6\", \"caxis\": {\"gridcolor\": \"white\", \"linecolor\": \"white\", \"ticks\": \"\"}}, \"title\": {\"x\": 0.05}, \"xaxis\": {\"automargin\": true, \"gridcolor\": \"white\", \"linecolor\": \"white\", \"ticks\": \"\", \"title\": {\"standoff\": 15}, \"zerolinecolor\": \"white\", \"zerolinewidth\": 2}, \"yaxis\": {\"automargin\": true, \"gridcolor\": \"white\", \"linecolor\": \"white\", \"ticks\": \"\", \"title\": {\"standoff\": 15}, \"zerolinecolor\": \"white\", \"zerolinewidth\": 2}}}, \"title\": {\"text\": \"Salary vs Games Played for Men's Basketball\"}, \"xaxis\": {\"anchor\": \"y\", \"domain\": [0.0, 1.0], \"title\": {\"text\": \"games\"}}, \"yaxis\": {\"anchor\": \"x\", \"domain\": [0.0, 1.0], \"title\": {\"text\": \"salary\"}}},\n",
              "                        {\"responsive\": true}\n",
              "                    ).then(function(){\n",
              "                            \n",
              "var gd = document.getElementById('93af0909-9c8d-4e7a-9b40-70268ee74f70');\n",
              "var x = new MutationObserver(function (mutations, observer) {{\n",
              "        var display = window.getComputedStyle(gd).display;\n",
              "        if (!display || display === 'none') {{\n",
              "            console.log([gd, 'removed!']);\n",
              "            Plotly.purge(gd);\n",
              "            observer.disconnect();\n",
              "        }}\n",
              "}});\n",
              "\n",
              "// Listen for the removal of the full notebook cells\n",
              "var notebookContainer = gd.closest('#notebook-container');\n",
              "if (notebookContainer) {{\n",
              "    x.observe(notebookContainer, {childList: true});\n",
              "}}\n",
              "\n",
              "// Listen for the clearing of the current output cell\n",
              "var outputEl = gd.closest('.output');\n",
              "if (outputEl) {{\n",
              "    x.observe(outputEl, {childList: true});\n",
              "}}\n",
              "\n",
              "                        })\n",
              "                };\n",
              "                \n",
              "            </script>\n",
              "        </div>\n",
              "</body>\n",
              "</html>"
            ]
          },
          "metadata": {
            "tags": []
          }
        }
      ]
    },
    {
      "cell_type": "code",
      "metadata": {
        "colab": {
          "base_uri": "https://localhost:8080/",
          "height": 542
        },
        "id": "n9OSDAGhYRf2",
        "outputId": "603547e4-0a1f-492d-b8a6-6381b0af1c64"
      },
      "source": [
        "\n",
        "gamesvsalary_nba_Box = px.box(df_mnba_general, x = \"games\",\n",
        "                            y = \"salary\",\n",
        "                            title = \"Salary vs Games Played for Men's Basketball\")\n",
        "gamesvsalary_nba_Box\n"
      ],
      "execution_count": 17,
      "outputs": [
        {
          "output_type": "display_data",
          "data": {
            "text/html": [
              "<html>\n",
              "<head><meta charset=\"utf-8\" /></head>\n",
              "<body>\n",
              "    <div>\n",
              "            <script src=\"https://cdnjs.cloudflare.com/ajax/libs/mathjax/2.7.5/MathJax.js?config=TeX-AMS-MML_SVG\"></script><script type=\"text/javascript\">if (window.MathJax) {MathJax.Hub.Config({SVG: {font: \"STIX-Web\"}});}</script>\n",
              "                <script type=\"text/javascript\">window.PlotlyConfig = {MathJaxConfig: 'local'};</script>\n",
              "        <script src=\"https://cdn.plot.ly/plotly-latest.min.js\"></script>    \n",
              "            <div id=\"c87f1eca-0489-4fe8-bc25-16eae3829964\" class=\"plotly-graph-div\" style=\"height:525px; width:100%;\"></div>\n",
              "            <script type=\"text/javascript\">\n",
              "                \n",
              "                    window.PLOTLYENV=window.PLOTLYENV || {};\n",
              "                    \n",
              "                if (document.getElementById(\"c87f1eca-0489-4fe8-bc25-16eae3829964\")) {\n",
              "                    Plotly.newPlot(\n",
              "                        'c87f1eca-0489-4fe8-bc25-16eae3829964',\n",
              "                        [{\"alignmentgroup\": \"True\", \"hoverlabel\": {\"namelength\": 0}, \"hovertemplate\": \"games=%{x}<br>salary=%{y}\", \"legendgroup\": \"\", \"marker\": {\"color\": \"#636efa\"}, \"name\": \"\", \"notched\": false, \"offsetgroup\": \"\", \"orientation\": \"v\", \"showlegend\": false, \"type\": \"box\", \"x\": [63, 64, 64, 63, 64, 64, 59, 58, 64, 58, 61, 62, 65, 65, 57, 58, 58, 59, 60, 65, 63, 58, 62, 63, 63, 64, 64, 62, 55, 59, 63, 58, 56, 54, 56, 63, 65, 56, 59, 59, 53, 61, 63, 59, 53, 64, 52, 53, 64, 50, 53, 55, 54, 53, 63, 53, 55, 62, 62, 58, 61, 60, 56, 59, 56, 57, 63, 57, 48, 61, 54, 55, 52, 48, 52, 55, 56, 52, 61, 61, 64, 57, 49, 59, 59, 55, 62, 61, 48, 59, 64, 47, 55, 51, 51, 46, 61, 57, 50, 60, 42, 63, 55, 51, 49, 60, 60, 60, 55, 44, 63, 61, 43, 55, 55, 50, 48, 49, 51, 65, 49, 58, 47, 44, 60, 43, 43, 45, 59, 61, 61, 64, 58, 58, 57, 64, 55, 60, 57, 47, 46, 54, 41, 39, 56, 59, 48, 48, 59, 60, 40, 52, 62, 58, 50, 54, 54, 54, 59, 44, 43, 58, 51, 39, 48, 55, 61, 57, 54, 49, 63, 37, 45, 63, 63, 62, 58, 55, 58, 39, 52, 35, 44, 50, 59, 59, 44, 43, 59, 58, 44, 45, 56, 38, 61, 48, 59, 35, 52, 33, 57, 43, 62, 45, 52, 36, 36, 39, 51, 61, 38, 39, 56, 39, 51, 51, 57, 35, 57, 64, 50, 44, 41, 57, 55, 53, 50, 56, 29, 28, 60, 39, 31, 52, 50, 52, 41, 46, 43, 51, 42, 49, 56, 43, 31, 53, 41, 52, 53, 39, 40, 25, 54, 50, 43, 31, 38, 27, 54, 52, 54, 28, 45, 44, 36, 50, 37, 46, 45, 26, 31, 34, 39, 36, 43, 36, 31, 40, 38, 50, 47, 57, 30, 29, 44, 39, 26, 39, 46, 24, 39, 35, 37, 35, 46, 42, 36, 45, 20, 28, 38, 45, 54, 42, 52, 43, 52, 26, 30, 40, 39, 39, 36, 33, 35, 39, 44, 34, 22, 31, 51, 36, 37, 21, 43, 34, 37, 31, 24, 25, 19, 35, 39, 23, 37, 22, 46, 39, 33, 36, 33, 23, 27, 40, 31, 23, 24, 24, 30, 32, 35, 17, 27, 22, 38, 12, 10, 26, 25, 25, 26, 17, 20, 13, 35, 8, 14, 25, 27, 30, 18, 29, 16, 26, 15, 30, 31, 24, 26, 22, 23, 10, 28, 21, 4, 6, 5, 9, 25, 14, 12, 16, 23, 15, 8, 11, 14, 3, 10, 17, 3, 15, 11, 12, 16, 12, 13, 3, 10, 6, 5, 3, 2, 9, 7, 5, 4, 2, 2, 4], \"x0\": \" \", \"xaxis\": \"x\", \"y\": [18900000, 28542009, 8231760, 24431818, 26000000, 29542010, 31626953, 22215909, 4359000, 9897120, 18900000, 33051724, 1663861, 9757440, 41358814, 8049360, 8099627, 27285000, 29430000, 16071429, 8035714, 22991071, 12138345, 41358814, 2761920, 10018200, 17850000, 10865952, 28751775, 10245480, 26525281, 5115492, 20700000, 17187500, 6571800, 5720400, 1445967, 43006362, 15500000, 14285714, 29000000, 5572680, 16875000, 6400920, 19500000, 3934320, 4991880, 27739975, 12198243, 21250000, 19047619, 33517241, 27528090, 6720720, 7068360, 5195501, 9166800, 18975000, 15365854, 3831840, 3562178, 2048040, 13920000, 11400000, 22246956, 16000000, 12697675, 4023600, 29250000, 11608231, 3550800, 1663861, 29250000, 33329100, 4000000, 14375000, 4137302, 26131111, 2564753, 9505100, 1678854, 4200000, 35450412, 12073020, 10863637, 5005350, 2689920, 8101852, 34379100, 3044160, 5005350, 34379100, 3909902, 4692840, 10800000, 30000000, 17000000, 27528090, 11003782, 11500000, 40824000, 2564753, 15000000, 1663861, 2399160, 3500000, 13285714, 1663861, 9258000, 28500000, 9258000, 5000000, 29430000, 9000000, 8000000, 1663861, 3822240, 1517981, 7813953, 7000000, 34504132, 4767000, 18000000, 13446428, 13545000, 39219565, 3872215, 29542010, 6490385, 2331593, 4938272, 2174318, 4235160, 1964760, 7333333, 2000000, 5760000, 12600000, 5000000, 3491159, 13500000, 8750000, 13015874, 29354152, 1701593, 8000000, 8250000, 4767000, 1936440, 3425463, 41254920, 2602920, 3121080, 1663861, 5448840, 1517981, 9268293, 4469160, 3623000, 18136364, 7839960, 1882867, 1678854, 34379100, 2545320, 10375678, 2711280, 15000000, 2090040, 15000000, 2337145, 13325895, 7969537, 7300000, 1517981, 1517984, 3623000, 14000000, 2331593, 16203704, 10000000, 4141320, 18000000, 9258000, 2105520, 1517981, 1663861, 6731508, 2035800, 5273826, 6000000, 3121080, 2331593, 18000000, 7965100, 1663861, 2320044, 11709091, 2651040, 21000000, 1762796, 7682927, 2564753, 19500000, 2750000, 17000000, 3516284, 3285120, 10000000, 2345640, 29546311, 33685241, 2498760, 8963640, 1762796, 6666667, 4642800, 28649250, 1663861, 1783557, 3623000, 3005225, 2964840, 2250000, 1517981, 4821429, 7199760, 2252040, 32742000, 39058950, 9258000, 9258000, 19160714, 10047450, 6975610, 1977011, 13942308, 2564753, 7812500, 1752950, 12178571, 3372826, 4032648, 16047100, 1663861, 4033440, 3113160, 1517981, 1517981, 8730240, 15415730, 2033160, 3174603, 2160000, 2063280, 3000000, 898310, 16869276, 3801000, 5105160, 2478840, 27500000, 4000000, 1737145, 10500000, 10185185, 3283684, 3640200, 2852708, 4458000, 2303040, 5345687, 2000000, 6146341, 5005350, 495102, 13333333, 1950600, 1517981, 3449400, 1517981, 2582160, 1862250, 12000000, 2193480, 1517981, 19078340, 1517981, 1517981, 12800000, 7500000, 2283034, 2000000, 2666959, 321893, 1678854, 2028594, 1620564, 7422000, 3174603, 3542060, 1701593, 4862040, 3761085, 3549383, 2210640, 1517981, 5635000, 3623000, 5969040, 4200000, 1882867, 2320044, 5029650, 7150000, 3458400, 1445697, 3372840, 9590602, 2137440, 1701593, 3814768, 2383915, 31300000, 5813640, 6104280, 2093023, 17587688, 13000000, 1517981, 5307120, 4548280, 1663861, 5686677, 2957520, 9720900, 1517981, 3000000, 1517981, 2028594, 1517981, 930930, 1445697, 2379840, 1023250, 5500000, 1752950, 2331593, 700000, 2816760, 898310, 3737520, 1445697, 5005350, 1517981, 557453, 8333333, 6176578, 1882867, 2304878, 898310, 2443440, 1882867, 2174318, 1762796, 12288697, 3631200, 1517981, 898310, 1517981, 7000000, 1517981, 5000000, 770433, 399591, 898310, 2075880, 898310, 1445697, 898310, 1797183, 3447478, 2058240, 1780152, 11750000, 9600000, 7257360, 6916834, 898310, 1620564, 529341, 1350000, 4245720, 1517981, 309355, 2564753, 747435, 11454048, 717845, 1000000, 3870000, 898310, 1289846, 340000, 898310, 1977000, 3944013, 4767000, 2619207, 361256, 4000000, 9400000, 1824003, 1904762, 1000000, 1517981, 1517981, 4326825, 447155, 263995], \"y0\": \" \", \"yaxis\": \"y\"}],\n",
              "                        {\"boxmode\": \"group\", \"legend\": {\"tracegroupgap\": 0}, \"template\": {\"data\": {\"bar\": [{\"error_x\": {\"color\": \"#2a3f5f\"}, \"error_y\": {\"color\": \"#2a3f5f\"}, \"marker\": {\"line\": {\"color\": \"#E5ECF6\", \"width\": 0.5}}, \"type\": \"bar\"}], \"barpolar\": [{\"marker\": {\"line\": {\"color\": \"#E5ECF6\", \"width\": 0.5}}, \"type\": \"barpolar\"}], \"carpet\": [{\"aaxis\": {\"endlinecolor\": \"#2a3f5f\", \"gridcolor\": \"white\", \"linecolor\": \"white\", \"minorgridcolor\": \"white\", \"startlinecolor\": \"#2a3f5f\"}, \"baxis\": {\"endlinecolor\": \"#2a3f5f\", \"gridcolor\": \"white\", \"linecolor\": \"white\", \"minorgridcolor\": \"white\", \"startlinecolor\": \"#2a3f5f\"}, \"type\": \"carpet\"}], \"choropleth\": [{\"colorbar\": {\"outlinewidth\": 0, \"ticks\": \"\"}, \"type\": \"choropleth\"}], \"contour\": [{\"colorbar\": {\"outlinewidth\": 0, \"ticks\": \"\"}, \"colorscale\": [[0.0, \"#0d0887\"], [0.1111111111111111, \"#46039f\"], [0.2222222222222222, \"#7201a8\"], [0.3333333333333333, \"#9c179e\"], [0.4444444444444444, \"#bd3786\"], [0.5555555555555556, \"#d8576b\"], [0.6666666666666666, \"#ed7953\"], [0.7777777777777778, \"#fb9f3a\"], [0.8888888888888888, \"#fdca26\"], [1.0, \"#f0f921\"]], \"type\": \"contour\"}], \"contourcarpet\": [{\"colorbar\": {\"outlinewidth\": 0, \"ticks\": \"\"}, \"type\": \"contourcarpet\"}], \"heatmap\": [{\"colorbar\": {\"outlinewidth\": 0, \"ticks\": \"\"}, \"colorscale\": [[0.0, \"#0d0887\"], [0.1111111111111111, \"#46039f\"], [0.2222222222222222, \"#7201a8\"], [0.3333333333333333, \"#9c179e\"], [0.4444444444444444, \"#bd3786\"], [0.5555555555555556, \"#d8576b\"], [0.6666666666666666, \"#ed7953\"], [0.7777777777777778, \"#fb9f3a\"], [0.8888888888888888, \"#fdca26\"], [1.0, \"#f0f921\"]], \"type\": \"heatmap\"}], \"heatmapgl\": [{\"colorbar\": {\"outlinewidth\": 0, \"ticks\": \"\"}, \"colorscale\": [[0.0, \"#0d0887\"], [0.1111111111111111, \"#46039f\"], [0.2222222222222222, \"#7201a8\"], [0.3333333333333333, \"#9c179e\"], [0.4444444444444444, \"#bd3786\"], [0.5555555555555556, \"#d8576b\"], [0.6666666666666666, \"#ed7953\"], [0.7777777777777778, \"#fb9f3a\"], [0.8888888888888888, \"#fdca26\"], [1.0, \"#f0f921\"]], \"type\": \"heatmapgl\"}], \"histogram\": [{\"marker\": {\"colorbar\": {\"outlinewidth\": 0, \"ticks\": \"\"}}, \"type\": \"histogram\"}], \"histogram2d\": [{\"colorbar\": {\"outlinewidth\": 0, \"ticks\": \"\"}, \"colorscale\": [[0.0, \"#0d0887\"], [0.1111111111111111, \"#46039f\"], [0.2222222222222222, \"#7201a8\"], [0.3333333333333333, \"#9c179e\"], [0.4444444444444444, \"#bd3786\"], [0.5555555555555556, \"#d8576b\"], [0.6666666666666666, \"#ed7953\"], [0.7777777777777778, \"#fb9f3a\"], [0.8888888888888888, \"#fdca26\"], [1.0, \"#f0f921\"]], \"type\": \"histogram2d\"}], \"histogram2dcontour\": [{\"colorbar\": {\"outlinewidth\": 0, \"ticks\": \"\"}, \"colorscale\": [[0.0, \"#0d0887\"], [0.1111111111111111, \"#46039f\"], [0.2222222222222222, \"#7201a8\"], [0.3333333333333333, \"#9c179e\"], [0.4444444444444444, \"#bd3786\"], [0.5555555555555556, \"#d8576b\"], [0.6666666666666666, \"#ed7953\"], [0.7777777777777778, \"#fb9f3a\"], [0.8888888888888888, \"#fdca26\"], [1.0, \"#f0f921\"]], \"type\": \"histogram2dcontour\"}], \"mesh3d\": [{\"colorbar\": {\"outlinewidth\": 0, \"ticks\": \"\"}, \"type\": \"mesh3d\"}], \"parcoords\": [{\"line\": {\"colorbar\": {\"outlinewidth\": 0, \"ticks\": \"\"}}, \"type\": \"parcoords\"}], \"pie\": [{\"automargin\": true, \"type\": \"pie\"}], \"scatter\": [{\"marker\": {\"colorbar\": {\"outlinewidth\": 0, \"ticks\": \"\"}}, \"type\": \"scatter\"}], \"scatter3d\": [{\"line\": {\"colorbar\": {\"outlinewidth\": 0, \"ticks\": \"\"}}, \"marker\": {\"colorbar\": {\"outlinewidth\": 0, \"ticks\": \"\"}}, \"type\": \"scatter3d\"}], \"scattercarpet\": [{\"marker\": {\"colorbar\": {\"outlinewidth\": 0, \"ticks\": \"\"}}, \"type\": \"scattercarpet\"}], \"scattergeo\": [{\"marker\": {\"colorbar\": {\"outlinewidth\": 0, \"ticks\": \"\"}}, \"type\": \"scattergeo\"}], \"scattergl\": [{\"marker\": {\"colorbar\": {\"outlinewidth\": 0, \"ticks\": \"\"}}, \"type\": \"scattergl\"}], \"scattermapbox\": [{\"marker\": {\"colorbar\": {\"outlinewidth\": 0, \"ticks\": \"\"}}, \"type\": \"scattermapbox\"}], \"scatterpolar\": [{\"marker\": {\"colorbar\": {\"outlinewidth\": 0, \"ticks\": \"\"}}, \"type\": \"scatterpolar\"}], \"scatterpolargl\": [{\"marker\": {\"colorbar\": {\"outlinewidth\": 0, \"ticks\": \"\"}}, \"type\": \"scatterpolargl\"}], \"scatterternary\": [{\"marker\": {\"colorbar\": {\"outlinewidth\": 0, \"ticks\": \"\"}}, \"type\": \"scatterternary\"}], \"surface\": [{\"colorbar\": {\"outlinewidth\": 0, \"ticks\": \"\"}, \"colorscale\": [[0.0, \"#0d0887\"], [0.1111111111111111, \"#46039f\"], [0.2222222222222222, \"#7201a8\"], [0.3333333333333333, \"#9c179e\"], [0.4444444444444444, \"#bd3786\"], [0.5555555555555556, \"#d8576b\"], [0.6666666666666666, \"#ed7953\"], [0.7777777777777778, \"#fb9f3a\"], [0.8888888888888888, \"#fdca26\"], [1.0, \"#f0f921\"]], \"type\": \"surface\"}], \"table\": [{\"cells\": {\"fill\": {\"color\": \"#EBF0F8\"}, \"line\": {\"color\": \"white\"}}, \"header\": {\"fill\": {\"color\": \"#C8D4E3\"}, \"line\": {\"color\": \"white\"}}, \"type\": \"table\"}]}, \"layout\": {\"annotationdefaults\": {\"arrowcolor\": \"#2a3f5f\", \"arrowhead\": 0, \"arrowwidth\": 1}, \"coloraxis\": {\"colorbar\": {\"outlinewidth\": 0, \"ticks\": \"\"}}, \"colorscale\": {\"diverging\": [[0, \"#8e0152\"], [0.1, \"#c51b7d\"], [0.2, \"#de77ae\"], [0.3, \"#f1b6da\"], [0.4, \"#fde0ef\"], [0.5, \"#f7f7f7\"], [0.6, \"#e6f5d0\"], [0.7, \"#b8e186\"], [0.8, \"#7fbc41\"], [0.9, \"#4d9221\"], [1, \"#276419\"]], \"sequential\": [[0.0, \"#0d0887\"], [0.1111111111111111, \"#46039f\"], [0.2222222222222222, \"#7201a8\"], [0.3333333333333333, \"#9c179e\"], [0.4444444444444444, \"#bd3786\"], [0.5555555555555556, \"#d8576b\"], [0.6666666666666666, \"#ed7953\"], [0.7777777777777778, \"#fb9f3a\"], [0.8888888888888888, \"#fdca26\"], [1.0, \"#f0f921\"]], \"sequentialminus\": [[0.0, \"#0d0887\"], [0.1111111111111111, \"#46039f\"], [0.2222222222222222, \"#7201a8\"], [0.3333333333333333, \"#9c179e\"], [0.4444444444444444, \"#bd3786\"], [0.5555555555555556, \"#d8576b\"], [0.6666666666666666, \"#ed7953\"], [0.7777777777777778, \"#fb9f3a\"], [0.8888888888888888, \"#fdca26\"], [1.0, \"#f0f921\"]]}, \"colorway\": [\"#636efa\", \"#EF553B\", \"#00cc96\", \"#ab63fa\", \"#FFA15A\", \"#19d3f3\", \"#FF6692\", \"#B6E880\", \"#FF97FF\", \"#FECB52\"], \"font\": {\"color\": \"#2a3f5f\"}, \"geo\": {\"bgcolor\": \"white\", \"lakecolor\": \"white\", \"landcolor\": \"#E5ECF6\", \"showlakes\": true, \"showland\": true, \"subunitcolor\": \"white\"}, \"hoverlabel\": {\"align\": \"left\"}, \"hovermode\": \"closest\", \"mapbox\": {\"style\": \"light\"}, \"paper_bgcolor\": \"white\", \"plot_bgcolor\": \"#E5ECF6\", \"polar\": {\"angularaxis\": {\"gridcolor\": \"white\", \"linecolor\": \"white\", \"ticks\": \"\"}, \"bgcolor\": \"#E5ECF6\", \"radialaxis\": {\"gridcolor\": \"white\", \"linecolor\": \"white\", \"ticks\": \"\"}}, \"scene\": {\"xaxis\": {\"backgroundcolor\": \"#E5ECF6\", \"gridcolor\": \"white\", \"gridwidth\": 2, \"linecolor\": \"white\", \"showbackground\": true, \"ticks\": \"\", \"zerolinecolor\": \"white\"}, \"yaxis\": {\"backgroundcolor\": \"#E5ECF6\", \"gridcolor\": \"white\", \"gridwidth\": 2, \"linecolor\": \"white\", \"showbackground\": true, \"ticks\": \"\", \"zerolinecolor\": \"white\"}, \"zaxis\": {\"backgroundcolor\": \"#E5ECF6\", \"gridcolor\": \"white\", \"gridwidth\": 2, \"linecolor\": \"white\", \"showbackground\": true, \"ticks\": \"\", \"zerolinecolor\": \"white\"}}, \"shapedefaults\": {\"line\": {\"color\": \"#2a3f5f\"}}, \"ternary\": {\"aaxis\": {\"gridcolor\": \"white\", \"linecolor\": \"white\", \"ticks\": \"\"}, \"baxis\": {\"gridcolor\": \"white\", \"linecolor\": \"white\", \"ticks\": \"\"}, \"bgcolor\": \"#E5ECF6\", \"caxis\": {\"gridcolor\": \"white\", \"linecolor\": \"white\", \"ticks\": \"\"}}, \"title\": {\"x\": 0.05}, \"xaxis\": {\"automargin\": true, \"gridcolor\": \"white\", \"linecolor\": \"white\", \"ticks\": \"\", \"title\": {\"standoff\": 15}, \"zerolinecolor\": \"white\", \"zerolinewidth\": 2}, \"yaxis\": {\"automargin\": true, \"gridcolor\": \"white\", \"linecolor\": \"white\", \"ticks\": \"\", \"title\": {\"standoff\": 15}, \"zerolinecolor\": \"white\", \"zerolinewidth\": 2}}}, \"title\": {\"text\": \"Salary vs Games Played for Men's Basketball\"}, \"xaxis\": {\"anchor\": \"y\", \"domain\": [0.0, 1.0], \"title\": {\"text\": \"games\"}}, \"yaxis\": {\"anchor\": \"x\", \"domain\": [0.0, 1.0], \"title\": {\"text\": \"salary\"}}},\n",
              "                        {\"responsive\": true}\n",
              "                    ).then(function(){\n",
              "                            \n",
              "var gd = document.getElementById('c87f1eca-0489-4fe8-bc25-16eae3829964');\n",
              "var x = new MutationObserver(function (mutations, observer) {{\n",
              "        var display = window.getComputedStyle(gd).display;\n",
              "        if (!display || display === 'none') {{\n",
              "            console.log([gd, 'removed!']);\n",
              "            Plotly.purge(gd);\n",
              "            observer.disconnect();\n",
              "        }}\n",
              "}});\n",
              "\n",
              "// Listen for the removal of the full notebook cells\n",
              "var notebookContainer = gd.closest('#notebook-container');\n",
              "if (notebookContainer) {{\n",
              "    x.observe(notebookContainer, {childList: true});\n",
              "}}\n",
              "\n",
              "// Listen for the clearing of the current output cell\n",
              "var outputEl = gd.closest('.output');\n",
              "if (outputEl) {{\n",
              "    x.observe(outputEl, {childList: true});\n",
              "}}\n",
              "\n",
              "                        })\n",
              "                };\n",
              "                \n",
              "            </script>\n",
              "        </div>\n",
              "</body>\n",
              "</html>"
            ]
          },
          "metadata": {
            "tags": []
          }
        }
      ]
    },
    {
      "cell_type": "code",
      "metadata": {
        "id": "Lfzr6hizcKOU"
      },
      "source": [
        "#compare games played vs salary (womens)\n",
        "\n",
        "X = df_wnba_general[[\"games\"]] #initialize independent variables\n",
        "y = df_wnba_general[\"salary\"] #initialize dependent variable\n",
        "model_gamevsalary_wnba = sm.OLS(y, X).fit() #define least of squares regression model\n",
        "predictions_gamevsalary_wnba = model_gamevsalary_wnba.predict(X) #run model\n",
        "model_gamevsalary_wnba.summary() #print results \n",
        "\n",
        "\n"
      ],
      "execution_count": null,
      "outputs": []
    },
    {
      "cell_type": "code",
      "metadata": {
        "id": "pStfO0By3TmE"
      },
      "source": [
        ""
      ],
      "execution_count": null,
      "outputs": []
    },
    {
      "cell_type": "code",
      "metadata": {
        "colab": {
          "base_uri": "https://localhost:8080/",
          "height": 542
        },
        "id": "XamLVitHxeGg",
        "outputId": "d4e78277-74f1-4271-ee2d-b8e48c4eccc0"
      },
      "source": [
        "gamesvsalary_wnba = px.scatter(df_wnba_general, x = \"games\",\n",
        "                            y = \"salary\",\n",
        "                            title = \"Salary vs Games Played for Women's Basketball\")\n",
        "gamesvsalary_wnba"
      ],
      "execution_count": 18,
      "outputs": [
        {
          "output_type": "display_data",
          "data": {
            "text/html": [
              "<html>\n",
              "<head><meta charset=\"utf-8\" /></head>\n",
              "<body>\n",
              "    <div>\n",
              "            <script src=\"https://cdnjs.cloudflare.com/ajax/libs/mathjax/2.7.5/MathJax.js?config=TeX-AMS-MML_SVG\"></script><script type=\"text/javascript\">if (window.MathJax) {MathJax.Hub.Config({SVG: {font: \"STIX-Web\"}});}</script>\n",
              "                <script type=\"text/javascript\">window.PlotlyConfig = {MathJaxConfig: 'local'};</script>\n",
              "        <script src=\"https://cdn.plot.ly/plotly-latest.min.js\"></script>    \n",
              "            <div id=\"71bab81a-6593-4c98-88ce-73152fc633a8\" class=\"plotly-graph-div\" style=\"height:525px; width:100%;\"></div>\n",
              "            <script type=\"text/javascript\">\n",
              "                \n",
              "                    window.PLOTLYENV=window.PLOTLYENV || {};\n",
              "                    \n",
              "                if (document.getElementById(\"71bab81a-6593-4c98-88ce-73152fc633a8\")) {\n",
              "                    Plotly.newPlot(\n",
              "                        '71bab81a-6593-4c98-88ce-73152fc633a8',\n",
              "                        [{\"hoverlabel\": {\"namelength\": 0}, \"hovertemplate\": \"games=%{x}<br>salary=%{y}\", \"legendgroup\": \"\", \"marker\": {\"color\": \"#636efa\", \"symbol\": \"circle\"}, \"mode\": \"markers\", \"name\": \"\", \"showlegend\": false, \"type\": \"scatter\", \"x\": [22, 22, 22, 22, 22, 22, 22, 21, 22, 22, 22, 22, 22, 22, 22, 22, 22, 20, 22, 22, 21, 20, 22, 22, 22, 20, 22, 22, 22, 22, 21, 22, 22, 21, 22, 19, 20, 21, 19, 20, 19, 22, 19, 20, 22, 18, 22, 22, 22, 22, 16, 21, 22, 22, 20, 19, 21, 16, 22, 18, 22, 21, 21, 12, 22, 21, 17, 22, 19, 18, 20, 20, 21, 17, 13, 22, 22, 22, 13, 19, 22, 18, 20, 21, 18, 15, 22, 13, 11, 17, 13, 21, 15, 13, 17, 18, 17, 20, 12, 15, 19, 21, 6, 14, 19, 7, 11, 16, 18, 13, 9, 8, 9, 12, 17, 13, 7, 5, 13, 16, 10, 6, 3, 12, 10, 10, 5, 9, 5, 5, 6, 13, 2, 3, 2, 2, 4, 1, 1, 2, 1, 1], \"xaxis\": \"x\", \"y\": [57000, 57000, 68000, 215000, 58978, 57000, 206000, 117000, 165000, 57000, 195000, 215000, 127000, 119500, 119500, 57000, 117000, 215000, 85800, 200000, 59750, 185000, 117000, 119500, 57000, 185000, 91000, 57000, 117000, 105000, 57000, 57000, 87700, 68000, 58978, 119500, 65779, 68000, 140000, 110000, 120000, 130000, 119500, 57000, 170000, 117000, 57000, 117000, 68000, 59750, 68000, 112000, 185000, 57000, 196378, 57000, 65250, 68000, 57000, 57000, 57000, 60867, 57000, 215000, 62500, 59750, 57000, 68000, 68000, 107000, 59750, 100000, 110000, 71400, 185000, 65250, 65250, 57000, 119500, 57000, 57000, 130000, 59750, 57000, 165000, 180250, 80000, 150000, 215000, 90000, 117000, 65250, 68000, 58978, 106000, 62500, 57000, 57000, 57000, 68000, 59750, 59750, 80000, 68000, 68000, 115627, 57000, 71400, 59750, 185000, 170000, 57000, 57000, 31290, 70000, 105000, 28500, 33060, 104000, 68000, 115000, 57000, 68000, 59750, 57000, 57000, 57000, 62000, 57000, 59750, 57000, 58480, 104000, 21760, 5130, 9120, 33060, 68000, 5130, 57000, 5130, 4560], \"yaxis\": \"y\"}],\n",
              "                        {\"legend\": {\"tracegroupgap\": 0}, \"template\": {\"data\": {\"bar\": [{\"error_x\": {\"color\": \"#2a3f5f\"}, \"error_y\": {\"color\": \"#2a3f5f\"}, \"marker\": {\"line\": {\"color\": \"#E5ECF6\", \"width\": 0.5}}, \"type\": \"bar\"}], \"barpolar\": [{\"marker\": {\"line\": {\"color\": \"#E5ECF6\", \"width\": 0.5}}, \"type\": \"barpolar\"}], \"carpet\": [{\"aaxis\": {\"endlinecolor\": \"#2a3f5f\", \"gridcolor\": \"white\", \"linecolor\": \"white\", \"minorgridcolor\": \"white\", \"startlinecolor\": \"#2a3f5f\"}, \"baxis\": {\"endlinecolor\": \"#2a3f5f\", \"gridcolor\": \"white\", \"linecolor\": \"white\", \"minorgridcolor\": \"white\", \"startlinecolor\": \"#2a3f5f\"}, \"type\": \"carpet\"}], \"choropleth\": [{\"colorbar\": {\"outlinewidth\": 0, \"ticks\": \"\"}, \"type\": \"choropleth\"}], \"contour\": [{\"colorbar\": {\"outlinewidth\": 0, \"ticks\": \"\"}, \"colorscale\": [[0.0, \"#0d0887\"], [0.1111111111111111, \"#46039f\"], [0.2222222222222222, \"#7201a8\"], [0.3333333333333333, \"#9c179e\"], [0.4444444444444444, \"#bd3786\"], [0.5555555555555556, \"#d8576b\"], [0.6666666666666666, \"#ed7953\"], [0.7777777777777778, \"#fb9f3a\"], [0.8888888888888888, \"#fdca26\"], [1.0, \"#f0f921\"]], \"type\": \"contour\"}], \"contourcarpet\": [{\"colorbar\": {\"outlinewidth\": 0, \"ticks\": \"\"}, \"type\": \"contourcarpet\"}], \"heatmap\": [{\"colorbar\": {\"outlinewidth\": 0, \"ticks\": \"\"}, \"colorscale\": [[0.0, \"#0d0887\"], [0.1111111111111111, \"#46039f\"], [0.2222222222222222, \"#7201a8\"], [0.3333333333333333, \"#9c179e\"], [0.4444444444444444, \"#bd3786\"], [0.5555555555555556, \"#d8576b\"], [0.6666666666666666, \"#ed7953\"], [0.7777777777777778, \"#fb9f3a\"], [0.8888888888888888, \"#fdca26\"], [1.0, \"#f0f921\"]], \"type\": \"heatmap\"}], \"heatmapgl\": [{\"colorbar\": {\"outlinewidth\": 0, \"ticks\": \"\"}, \"colorscale\": [[0.0, \"#0d0887\"], [0.1111111111111111, \"#46039f\"], [0.2222222222222222, \"#7201a8\"], [0.3333333333333333, \"#9c179e\"], [0.4444444444444444, \"#bd3786\"], [0.5555555555555556, \"#d8576b\"], [0.6666666666666666, \"#ed7953\"], [0.7777777777777778, \"#fb9f3a\"], [0.8888888888888888, \"#fdca26\"], [1.0, \"#f0f921\"]], \"type\": \"heatmapgl\"}], \"histogram\": [{\"marker\": {\"colorbar\": {\"outlinewidth\": 0, \"ticks\": \"\"}}, \"type\": \"histogram\"}], \"histogram2d\": [{\"colorbar\": {\"outlinewidth\": 0, \"ticks\": \"\"}, \"colorscale\": [[0.0, \"#0d0887\"], [0.1111111111111111, \"#46039f\"], [0.2222222222222222, \"#7201a8\"], [0.3333333333333333, \"#9c179e\"], [0.4444444444444444, \"#bd3786\"], [0.5555555555555556, \"#d8576b\"], [0.6666666666666666, \"#ed7953\"], [0.7777777777777778, \"#fb9f3a\"], [0.8888888888888888, \"#fdca26\"], [1.0, \"#f0f921\"]], \"type\": \"histogram2d\"}], \"histogram2dcontour\": [{\"colorbar\": {\"outlinewidth\": 0, \"ticks\": \"\"}, \"colorscale\": [[0.0, \"#0d0887\"], [0.1111111111111111, \"#46039f\"], [0.2222222222222222, \"#7201a8\"], [0.3333333333333333, \"#9c179e\"], [0.4444444444444444, \"#bd3786\"], [0.5555555555555556, \"#d8576b\"], [0.6666666666666666, \"#ed7953\"], [0.7777777777777778, \"#fb9f3a\"], [0.8888888888888888, \"#fdca26\"], [1.0, \"#f0f921\"]], \"type\": \"histogram2dcontour\"}], \"mesh3d\": [{\"colorbar\": {\"outlinewidth\": 0, \"ticks\": \"\"}, \"type\": \"mesh3d\"}], \"parcoords\": [{\"line\": {\"colorbar\": {\"outlinewidth\": 0, \"ticks\": \"\"}}, \"type\": \"parcoords\"}], \"pie\": [{\"automargin\": true, \"type\": \"pie\"}], \"scatter\": [{\"marker\": {\"colorbar\": {\"outlinewidth\": 0, \"ticks\": \"\"}}, \"type\": \"scatter\"}], \"scatter3d\": [{\"line\": {\"colorbar\": {\"outlinewidth\": 0, \"ticks\": \"\"}}, \"marker\": {\"colorbar\": {\"outlinewidth\": 0, \"ticks\": \"\"}}, \"type\": \"scatter3d\"}], \"scattercarpet\": [{\"marker\": {\"colorbar\": {\"outlinewidth\": 0, \"ticks\": \"\"}}, \"type\": \"scattercarpet\"}], \"scattergeo\": [{\"marker\": {\"colorbar\": {\"outlinewidth\": 0, \"ticks\": \"\"}}, \"type\": \"scattergeo\"}], \"scattergl\": [{\"marker\": {\"colorbar\": {\"outlinewidth\": 0, \"ticks\": \"\"}}, \"type\": \"scattergl\"}], \"scattermapbox\": [{\"marker\": {\"colorbar\": {\"outlinewidth\": 0, \"ticks\": \"\"}}, \"type\": \"scattermapbox\"}], \"scatterpolar\": [{\"marker\": {\"colorbar\": {\"outlinewidth\": 0, \"ticks\": \"\"}}, \"type\": \"scatterpolar\"}], \"scatterpolargl\": [{\"marker\": {\"colorbar\": {\"outlinewidth\": 0, \"ticks\": \"\"}}, \"type\": \"scatterpolargl\"}], \"scatterternary\": [{\"marker\": {\"colorbar\": {\"outlinewidth\": 0, \"ticks\": \"\"}}, \"type\": \"scatterternary\"}], \"surface\": [{\"colorbar\": {\"outlinewidth\": 0, \"ticks\": \"\"}, \"colorscale\": [[0.0, \"#0d0887\"], [0.1111111111111111, \"#46039f\"], [0.2222222222222222, \"#7201a8\"], [0.3333333333333333, \"#9c179e\"], [0.4444444444444444, \"#bd3786\"], [0.5555555555555556, \"#d8576b\"], [0.6666666666666666, \"#ed7953\"], [0.7777777777777778, \"#fb9f3a\"], [0.8888888888888888, \"#fdca26\"], [1.0, \"#f0f921\"]], \"type\": \"surface\"}], \"table\": [{\"cells\": {\"fill\": {\"color\": \"#EBF0F8\"}, \"line\": {\"color\": \"white\"}}, \"header\": {\"fill\": {\"color\": \"#C8D4E3\"}, \"line\": {\"color\": \"white\"}}, \"type\": \"table\"}]}, \"layout\": {\"annotationdefaults\": {\"arrowcolor\": \"#2a3f5f\", \"arrowhead\": 0, \"arrowwidth\": 1}, \"coloraxis\": {\"colorbar\": {\"outlinewidth\": 0, \"ticks\": \"\"}}, \"colorscale\": {\"diverging\": [[0, \"#8e0152\"], [0.1, \"#c51b7d\"], [0.2, \"#de77ae\"], [0.3, \"#f1b6da\"], [0.4, \"#fde0ef\"], [0.5, \"#f7f7f7\"], [0.6, \"#e6f5d0\"], [0.7, \"#b8e186\"], [0.8, \"#7fbc41\"], [0.9, \"#4d9221\"], [1, \"#276419\"]], \"sequential\": [[0.0, \"#0d0887\"], [0.1111111111111111, \"#46039f\"], [0.2222222222222222, \"#7201a8\"], [0.3333333333333333, \"#9c179e\"], [0.4444444444444444, \"#bd3786\"], [0.5555555555555556, \"#d8576b\"], [0.6666666666666666, \"#ed7953\"], [0.7777777777777778, \"#fb9f3a\"], [0.8888888888888888, \"#fdca26\"], [1.0, \"#f0f921\"]], \"sequentialminus\": [[0.0, \"#0d0887\"], [0.1111111111111111, \"#46039f\"], [0.2222222222222222, \"#7201a8\"], [0.3333333333333333, \"#9c179e\"], [0.4444444444444444, \"#bd3786\"], [0.5555555555555556, \"#d8576b\"], [0.6666666666666666, \"#ed7953\"], [0.7777777777777778, \"#fb9f3a\"], [0.8888888888888888, \"#fdca26\"], [1.0, \"#f0f921\"]]}, \"colorway\": [\"#636efa\", \"#EF553B\", \"#00cc96\", \"#ab63fa\", \"#FFA15A\", \"#19d3f3\", \"#FF6692\", \"#B6E880\", \"#FF97FF\", \"#FECB52\"], \"font\": {\"color\": \"#2a3f5f\"}, \"geo\": {\"bgcolor\": \"white\", \"lakecolor\": \"white\", \"landcolor\": \"#E5ECF6\", \"showlakes\": true, \"showland\": true, \"subunitcolor\": \"white\"}, \"hoverlabel\": {\"align\": \"left\"}, \"hovermode\": \"closest\", \"mapbox\": {\"style\": \"light\"}, \"paper_bgcolor\": \"white\", \"plot_bgcolor\": \"#E5ECF6\", \"polar\": {\"angularaxis\": {\"gridcolor\": \"white\", \"linecolor\": \"white\", \"ticks\": \"\"}, \"bgcolor\": \"#E5ECF6\", \"radialaxis\": {\"gridcolor\": \"white\", \"linecolor\": \"white\", \"ticks\": \"\"}}, \"scene\": {\"xaxis\": {\"backgroundcolor\": \"#E5ECF6\", \"gridcolor\": \"white\", \"gridwidth\": 2, \"linecolor\": \"white\", \"showbackground\": true, \"ticks\": \"\", \"zerolinecolor\": \"white\"}, \"yaxis\": {\"backgroundcolor\": \"#E5ECF6\", \"gridcolor\": \"white\", \"gridwidth\": 2, \"linecolor\": \"white\", \"showbackground\": true, \"ticks\": \"\", \"zerolinecolor\": \"white\"}, \"zaxis\": {\"backgroundcolor\": \"#E5ECF6\", \"gridcolor\": \"white\", \"gridwidth\": 2, \"linecolor\": \"white\", \"showbackground\": true, \"ticks\": \"\", \"zerolinecolor\": \"white\"}}, \"shapedefaults\": {\"line\": {\"color\": \"#2a3f5f\"}}, \"ternary\": {\"aaxis\": {\"gridcolor\": \"white\", \"linecolor\": \"white\", \"ticks\": \"\"}, \"baxis\": {\"gridcolor\": \"white\", \"linecolor\": \"white\", \"ticks\": \"\"}, \"bgcolor\": \"#E5ECF6\", \"caxis\": {\"gridcolor\": \"white\", \"linecolor\": \"white\", \"ticks\": \"\"}}, \"title\": {\"x\": 0.05}, \"xaxis\": {\"automargin\": true, \"gridcolor\": \"white\", \"linecolor\": \"white\", \"ticks\": \"\", \"title\": {\"standoff\": 15}, \"zerolinecolor\": \"white\", \"zerolinewidth\": 2}, \"yaxis\": {\"automargin\": true, \"gridcolor\": \"white\", \"linecolor\": \"white\", \"ticks\": \"\", \"title\": {\"standoff\": 15}, \"zerolinecolor\": \"white\", \"zerolinewidth\": 2}}}, \"title\": {\"text\": \"Salary vs Games Played for Women's Basketball\"}, \"xaxis\": {\"anchor\": \"y\", \"domain\": [0.0, 1.0], \"title\": {\"text\": \"games\"}}, \"yaxis\": {\"anchor\": \"x\", \"domain\": [0.0, 1.0], \"title\": {\"text\": \"salary\"}}},\n",
              "                        {\"responsive\": true}\n",
              "                    ).then(function(){\n",
              "                            \n",
              "var gd = document.getElementById('71bab81a-6593-4c98-88ce-73152fc633a8');\n",
              "var x = new MutationObserver(function (mutations, observer) {{\n",
              "        var display = window.getComputedStyle(gd).display;\n",
              "        if (!display || display === 'none') {{\n",
              "            console.log([gd, 'removed!']);\n",
              "            Plotly.purge(gd);\n",
              "            observer.disconnect();\n",
              "        }}\n",
              "}});\n",
              "\n",
              "// Listen for the removal of the full notebook cells\n",
              "var notebookContainer = gd.closest('#notebook-container');\n",
              "if (notebookContainer) {{\n",
              "    x.observe(notebookContainer, {childList: true});\n",
              "}}\n",
              "\n",
              "// Listen for the clearing of the current output cell\n",
              "var outputEl = gd.closest('.output');\n",
              "if (outputEl) {{\n",
              "    x.observe(outputEl, {childList: true});\n",
              "}}\n",
              "\n",
              "                        })\n",
              "                };\n",
              "                \n",
              "            </script>\n",
              "        </div>\n",
              "</body>\n",
              "</html>"
            ]
          },
          "metadata": {
            "tags": []
          }
        }
      ]
    },
    {
      "cell_type": "code",
      "metadata": {
        "colab": {
          "base_uri": "https://localhost:8080/",
          "height": 542
        },
        "id": "14Rc4ZzZY285",
        "outputId": "c7741e3a-b807-41e0-becc-8b751bcb16c9"
      },
      "source": [
        "\n",
        "gamesvsalary_wnba_Box = px.box(df_wnba_general, x = \"games\",\n",
        "                            y = \"salary\",\n",
        "                            title = \"Salary vs Games Played for Women's Basketball\")\n",
        "gamesvsalary_wnba_Box\n"
      ],
      "execution_count": 19,
      "outputs": [
        {
          "output_type": "display_data",
          "data": {
            "text/html": [
              "<html>\n",
              "<head><meta charset=\"utf-8\" /></head>\n",
              "<body>\n",
              "    <div>\n",
              "            <script src=\"https://cdnjs.cloudflare.com/ajax/libs/mathjax/2.7.5/MathJax.js?config=TeX-AMS-MML_SVG\"></script><script type=\"text/javascript\">if (window.MathJax) {MathJax.Hub.Config({SVG: {font: \"STIX-Web\"}});}</script>\n",
              "                <script type=\"text/javascript\">window.PlotlyConfig = {MathJaxConfig: 'local'};</script>\n",
              "        <script src=\"https://cdn.plot.ly/plotly-latest.min.js\"></script>    \n",
              "            <div id=\"6e1e7a4e-4f03-4a63-ba0f-0c3c654501f6\" class=\"plotly-graph-div\" style=\"height:525px; width:100%;\"></div>\n",
              "            <script type=\"text/javascript\">\n",
              "                \n",
              "                    window.PLOTLYENV=window.PLOTLYENV || {};\n",
              "                    \n",
              "                if (document.getElementById(\"6e1e7a4e-4f03-4a63-ba0f-0c3c654501f6\")) {\n",
              "                    Plotly.newPlot(\n",
              "                        '6e1e7a4e-4f03-4a63-ba0f-0c3c654501f6',\n",
              "                        [{\"alignmentgroup\": \"True\", \"hoverlabel\": {\"namelength\": 0}, \"hovertemplate\": \"games=%{x}<br>salary=%{y}\", \"legendgroup\": \"\", \"marker\": {\"color\": \"#636efa\"}, \"name\": \"\", \"notched\": false, \"offsetgroup\": \"\", \"orientation\": \"v\", \"showlegend\": false, \"type\": \"box\", \"x\": [22, 22, 22, 22, 22, 22, 22, 21, 22, 22, 22, 22, 22, 22, 22, 22, 22, 20, 22, 22, 21, 20, 22, 22, 22, 20, 22, 22, 22, 22, 21, 22, 22, 21, 22, 19, 20, 21, 19, 20, 19, 22, 19, 20, 22, 18, 22, 22, 22, 22, 16, 21, 22, 22, 20, 19, 21, 16, 22, 18, 22, 21, 21, 12, 22, 21, 17, 22, 19, 18, 20, 20, 21, 17, 13, 22, 22, 22, 13, 19, 22, 18, 20, 21, 18, 15, 22, 13, 11, 17, 13, 21, 15, 13, 17, 18, 17, 20, 12, 15, 19, 21, 6, 14, 19, 7, 11, 16, 18, 13, 9, 8, 9, 12, 17, 13, 7, 5, 13, 16, 10, 6, 3, 12, 10, 10, 5, 9, 5, 5, 6, 13, 2, 3, 2, 2, 4, 1, 1, 2, 1, 1], \"x0\": \" \", \"xaxis\": \"x\", \"y\": [57000, 57000, 68000, 215000, 58978, 57000, 206000, 117000, 165000, 57000, 195000, 215000, 127000, 119500, 119500, 57000, 117000, 215000, 85800, 200000, 59750, 185000, 117000, 119500, 57000, 185000, 91000, 57000, 117000, 105000, 57000, 57000, 87700, 68000, 58978, 119500, 65779, 68000, 140000, 110000, 120000, 130000, 119500, 57000, 170000, 117000, 57000, 117000, 68000, 59750, 68000, 112000, 185000, 57000, 196378, 57000, 65250, 68000, 57000, 57000, 57000, 60867, 57000, 215000, 62500, 59750, 57000, 68000, 68000, 107000, 59750, 100000, 110000, 71400, 185000, 65250, 65250, 57000, 119500, 57000, 57000, 130000, 59750, 57000, 165000, 180250, 80000, 150000, 215000, 90000, 117000, 65250, 68000, 58978, 106000, 62500, 57000, 57000, 57000, 68000, 59750, 59750, 80000, 68000, 68000, 115627, 57000, 71400, 59750, 185000, 170000, 57000, 57000, 31290, 70000, 105000, 28500, 33060, 104000, 68000, 115000, 57000, 68000, 59750, 57000, 57000, 57000, 62000, 57000, 59750, 57000, 58480, 104000, 21760, 5130, 9120, 33060, 68000, 5130, 57000, 5130, 4560], \"y0\": \" \", \"yaxis\": \"y\"}],\n",
              "                        {\"boxmode\": \"group\", \"legend\": {\"tracegroupgap\": 0}, \"template\": {\"data\": {\"bar\": [{\"error_x\": {\"color\": \"#2a3f5f\"}, \"error_y\": {\"color\": \"#2a3f5f\"}, \"marker\": {\"line\": {\"color\": \"#E5ECF6\", \"width\": 0.5}}, \"type\": \"bar\"}], \"barpolar\": [{\"marker\": {\"line\": {\"color\": \"#E5ECF6\", \"width\": 0.5}}, \"type\": \"barpolar\"}], \"carpet\": [{\"aaxis\": {\"endlinecolor\": \"#2a3f5f\", \"gridcolor\": \"white\", \"linecolor\": \"white\", \"minorgridcolor\": \"white\", \"startlinecolor\": \"#2a3f5f\"}, \"baxis\": {\"endlinecolor\": \"#2a3f5f\", \"gridcolor\": \"white\", \"linecolor\": \"white\", \"minorgridcolor\": \"white\", \"startlinecolor\": \"#2a3f5f\"}, \"type\": \"carpet\"}], \"choropleth\": [{\"colorbar\": {\"outlinewidth\": 0, \"ticks\": \"\"}, \"type\": \"choropleth\"}], \"contour\": [{\"colorbar\": {\"outlinewidth\": 0, \"ticks\": \"\"}, \"colorscale\": [[0.0, \"#0d0887\"], [0.1111111111111111, \"#46039f\"], [0.2222222222222222, \"#7201a8\"], [0.3333333333333333, \"#9c179e\"], [0.4444444444444444, \"#bd3786\"], [0.5555555555555556, \"#d8576b\"], [0.6666666666666666, \"#ed7953\"], [0.7777777777777778, \"#fb9f3a\"], [0.8888888888888888, \"#fdca26\"], [1.0, \"#f0f921\"]], \"type\": \"contour\"}], \"contourcarpet\": [{\"colorbar\": {\"outlinewidth\": 0, \"ticks\": \"\"}, \"type\": \"contourcarpet\"}], \"heatmap\": [{\"colorbar\": {\"outlinewidth\": 0, \"ticks\": \"\"}, \"colorscale\": [[0.0, \"#0d0887\"], [0.1111111111111111, \"#46039f\"], [0.2222222222222222, \"#7201a8\"], [0.3333333333333333, \"#9c179e\"], [0.4444444444444444, \"#bd3786\"], [0.5555555555555556, \"#d8576b\"], [0.6666666666666666, \"#ed7953\"], [0.7777777777777778, \"#fb9f3a\"], [0.8888888888888888, \"#fdca26\"], [1.0, \"#f0f921\"]], \"type\": \"heatmap\"}], \"heatmapgl\": [{\"colorbar\": {\"outlinewidth\": 0, \"ticks\": \"\"}, \"colorscale\": [[0.0, \"#0d0887\"], [0.1111111111111111, \"#46039f\"], [0.2222222222222222, \"#7201a8\"], [0.3333333333333333, \"#9c179e\"], [0.4444444444444444, \"#bd3786\"], [0.5555555555555556, \"#d8576b\"], [0.6666666666666666, \"#ed7953\"], [0.7777777777777778, \"#fb9f3a\"], [0.8888888888888888, \"#fdca26\"], [1.0, \"#f0f921\"]], \"type\": \"heatmapgl\"}], \"histogram\": [{\"marker\": {\"colorbar\": {\"outlinewidth\": 0, \"ticks\": \"\"}}, \"type\": \"histogram\"}], \"histogram2d\": [{\"colorbar\": {\"outlinewidth\": 0, \"ticks\": \"\"}, \"colorscale\": [[0.0, \"#0d0887\"], [0.1111111111111111, \"#46039f\"], [0.2222222222222222, \"#7201a8\"], [0.3333333333333333, \"#9c179e\"], [0.4444444444444444, \"#bd3786\"], [0.5555555555555556, \"#d8576b\"], [0.6666666666666666, \"#ed7953\"], [0.7777777777777778, \"#fb9f3a\"], [0.8888888888888888, \"#fdca26\"], [1.0, \"#f0f921\"]], \"type\": \"histogram2d\"}], \"histogram2dcontour\": [{\"colorbar\": {\"outlinewidth\": 0, \"ticks\": \"\"}, \"colorscale\": [[0.0, \"#0d0887\"], [0.1111111111111111, \"#46039f\"], [0.2222222222222222, \"#7201a8\"], [0.3333333333333333, \"#9c179e\"], [0.4444444444444444, \"#bd3786\"], [0.5555555555555556, \"#d8576b\"], [0.6666666666666666, \"#ed7953\"], [0.7777777777777778, \"#fb9f3a\"], [0.8888888888888888, \"#fdca26\"], [1.0, \"#f0f921\"]], \"type\": \"histogram2dcontour\"}], \"mesh3d\": [{\"colorbar\": {\"outlinewidth\": 0, \"ticks\": \"\"}, \"type\": \"mesh3d\"}], \"parcoords\": [{\"line\": {\"colorbar\": {\"outlinewidth\": 0, \"ticks\": \"\"}}, \"type\": \"parcoords\"}], \"pie\": [{\"automargin\": true, \"type\": \"pie\"}], \"scatter\": [{\"marker\": {\"colorbar\": {\"outlinewidth\": 0, \"ticks\": \"\"}}, \"type\": \"scatter\"}], \"scatter3d\": [{\"line\": {\"colorbar\": {\"outlinewidth\": 0, \"ticks\": \"\"}}, \"marker\": {\"colorbar\": {\"outlinewidth\": 0, \"ticks\": \"\"}}, \"type\": \"scatter3d\"}], \"scattercarpet\": [{\"marker\": {\"colorbar\": {\"outlinewidth\": 0, \"ticks\": \"\"}}, \"type\": \"scattercarpet\"}], \"scattergeo\": [{\"marker\": {\"colorbar\": {\"outlinewidth\": 0, \"ticks\": \"\"}}, \"type\": \"scattergeo\"}], \"scattergl\": [{\"marker\": {\"colorbar\": {\"outlinewidth\": 0, \"ticks\": \"\"}}, \"type\": \"scattergl\"}], \"scattermapbox\": [{\"marker\": {\"colorbar\": {\"outlinewidth\": 0, \"ticks\": \"\"}}, \"type\": \"scattermapbox\"}], \"scatterpolar\": [{\"marker\": {\"colorbar\": {\"outlinewidth\": 0, \"ticks\": \"\"}}, \"type\": \"scatterpolar\"}], \"scatterpolargl\": [{\"marker\": {\"colorbar\": {\"outlinewidth\": 0, \"ticks\": \"\"}}, \"type\": \"scatterpolargl\"}], \"scatterternary\": [{\"marker\": {\"colorbar\": {\"outlinewidth\": 0, \"ticks\": \"\"}}, \"type\": \"scatterternary\"}], \"surface\": [{\"colorbar\": {\"outlinewidth\": 0, \"ticks\": \"\"}, \"colorscale\": [[0.0, \"#0d0887\"], [0.1111111111111111, \"#46039f\"], [0.2222222222222222, \"#7201a8\"], [0.3333333333333333, \"#9c179e\"], [0.4444444444444444, \"#bd3786\"], [0.5555555555555556, \"#d8576b\"], [0.6666666666666666, \"#ed7953\"], [0.7777777777777778, \"#fb9f3a\"], [0.8888888888888888, \"#fdca26\"], [1.0, \"#f0f921\"]], \"type\": \"surface\"}], \"table\": [{\"cells\": {\"fill\": {\"color\": \"#EBF0F8\"}, \"line\": {\"color\": \"white\"}}, \"header\": {\"fill\": {\"color\": \"#C8D4E3\"}, \"line\": {\"color\": \"white\"}}, \"type\": \"table\"}]}, \"layout\": {\"annotationdefaults\": {\"arrowcolor\": \"#2a3f5f\", \"arrowhead\": 0, \"arrowwidth\": 1}, \"coloraxis\": {\"colorbar\": {\"outlinewidth\": 0, \"ticks\": \"\"}}, \"colorscale\": {\"diverging\": [[0, \"#8e0152\"], [0.1, \"#c51b7d\"], [0.2, \"#de77ae\"], [0.3, \"#f1b6da\"], [0.4, \"#fde0ef\"], [0.5, \"#f7f7f7\"], [0.6, \"#e6f5d0\"], [0.7, \"#b8e186\"], [0.8, \"#7fbc41\"], [0.9, \"#4d9221\"], [1, \"#276419\"]], \"sequential\": [[0.0, \"#0d0887\"], [0.1111111111111111, \"#46039f\"], [0.2222222222222222, \"#7201a8\"], [0.3333333333333333, \"#9c179e\"], [0.4444444444444444, \"#bd3786\"], [0.5555555555555556, \"#d8576b\"], [0.6666666666666666, \"#ed7953\"], [0.7777777777777778, \"#fb9f3a\"], [0.8888888888888888, \"#fdca26\"], [1.0, \"#f0f921\"]], \"sequentialminus\": [[0.0, \"#0d0887\"], [0.1111111111111111, \"#46039f\"], [0.2222222222222222, \"#7201a8\"], [0.3333333333333333, \"#9c179e\"], [0.4444444444444444, \"#bd3786\"], [0.5555555555555556, \"#d8576b\"], [0.6666666666666666, \"#ed7953\"], [0.7777777777777778, \"#fb9f3a\"], [0.8888888888888888, \"#fdca26\"], [1.0, \"#f0f921\"]]}, \"colorway\": [\"#636efa\", \"#EF553B\", \"#00cc96\", \"#ab63fa\", \"#FFA15A\", \"#19d3f3\", \"#FF6692\", \"#B6E880\", \"#FF97FF\", \"#FECB52\"], \"font\": {\"color\": \"#2a3f5f\"}, \"geo\": {\"bgcolor\": \"white\", \"lakecolor\": \"white\", \"landcolor\": \"#E5ECF6\", \"showlakes\": true, \"showland\": true, \"subunitcolor\": \"white\"}, \"hoverlabel\": {\"align\": \"left\"}, \"hovermode\": \"closest\", \"mapbox\": {\"style\": \"light\"}, \"paper_bgcolor\": \"white\", \"plot_bgcolor\": \"#E5ECF6\", \"polar\": {\"angularaxis\": {\"gridcolor\": \"white\", \"linecolor\": \"white\", \"ticks\": \"\"}, \"bgcolor\": \"#E5ECF6\", \"radialaxis\": {\"gridcolor\": \"white\", \"linecolor\": \"white\", \"ticks\": \"\"}}, \"scene\": {\"xaxis\": {\"backgroundcolor\": \"#E5ECF6\", \"gridcolor\": \"white\", \"gridwidth\": 2, \"linecolor\": \"white\", \"showbackground\": true, \"ticks\": \"\", \"zerolinecolor\": \"white\"}, \"yaxis\": {\"backgroundcolor\": \"#E5ECF6\", \"gridcolor\": \"white\", \"gridwidth\": 2, \"linecolor\": \"white\", \"showbackground\": true, \"ticks\": \"\", \"zerolinecolor\": \"white\"}, \"zaxis\": {\"backgroundcolor\": \"#E5ECF6\", \"gridcolor\": \"white\", \"gridwidth\": 2, \"linecolor\": \"white\", \"showbackground\": true, \"ticks\": \"\", \"zerolinecolor\": \"white\"}}, \"shapedefaults\": {\"line\": {\"color\": \"#2a3f5f\"}}, \"ternary\": {\"aaxis\": {\"gridcolor\": \"white\", \"linecolor\": \"white\", \"ticks\": \"\"}, \"baxis\": {\"gridcolor\": \"white\", \"linecolor\": \"white\", \"ticks\": \"\"}, \"bgcolor\": \"#E5ECF6\", \"caxis\": {\"gridcolor\": \"white\", \"linecolor\": \"white\", \"ticks\": \"\"}}, \"title\": {\"x\": 0.05}, \"xaxis\": {\"automargin\": true, \"gridcolor\": \"white\", \"linecolor\": \"white\", \"ticks\": \"\", \"title\": {\"standoff\": 15}, \"zerolinecolor\": \"white\", \"zerolinewidth\": 2}, \"yaxis\": {\"automargin\": true, \"gridcolor\": \"white\", \"linecolor\": \"white\", \"ticks\": \"\", \"title\": {\"standoff\": 15}, \"zerolinecolor\": \"white\", \"zerolinewidth\": 2}}}, \"title\": {\"text\": \"Salary vs Games Played for Women's Basketball\"}, \"xaxis\": {\"anchor\": \"y\", \"domain\": [0.0, 1.0], \"title\": {\"text\": \"games\"}}, \"yaxis\": {\"anchor\": \"x\", \"domain\": [0.0, 1.0], \"title\": {\"text\": \"salary\"}}},\n",
              "                        {\"responsive\": true}\n",
              "                    ).then(function(){\n",
              "                            \n",
              "var gd = document.getElementById('6e1e7a4e-4f03-4a63-ba0f-0c3c654501f6');\n",
              "var x = new MutationObserver(function (mutations, observer) {{\n",
              "        var display = window.getComputedStyle(gd).display;\n",
              "        if (!display || display === 'none') {{\n",
              "            console.log([gd, 'removed!']);\n",
              "            Plotly.purge(gd);\n",
              "            observer.disconnect();\n",
              "        }}\n",
              "}});\n",
              "\n",
              "// Listen for the removal of the full notebook cells\n",
              "var notebookContainer = gd.closest('#notebook-container');\n",
              "if (notebookContainer) {{\n",
              "    x.observe(notebookContainer, {childList: true});\n",
              "}}\n",
              "\n",
              "// Listen for the clearing of the current output cell\n",
              "var outputEl = gd.closest('.output');\n",
              "if (outputEl) {{\n",
              "    x.observe(outputEl, {childList: true});\n",
              "}}\n",
              "\n",
              "                        })\n",
              "                };\n",
              "                \n",
              "            </script>\n",
              "        </div>\n",
              "</body>\n",
              "</html>"
            ]
          },
          "metadata": {
            "tags": []
          }
        }
      ]
    },
    {
      "cell_type": "code",
      "metadata": {
        "id": "IqLbBq-WdUM7"
      },
      "source": [
        "#predict mens salary through games played, assists, points, rebounds\n",
        "\n",
        "X = df_mnba_general[[\"games\",'rebds.','points','assists']] #initialize independent variables\n",
        "y = df_mnba_general[\"salary\"] #initialize dependent variable\n",
        "model_gamevsalary_nba = sm.OLS(y, X).fit() #define least of squares regression model\n",
        "predictions_gamevsalary_nba = model_gamevsalary_nba.predict(X) #run model\n",
        "model_gamevsalary_nba.summary() #print results \n"
      ],
      "execution_count": null,
      "outputs": []
    },
    {
      "cell_type": "code",
      "metadata": {
        "id": "bZ5164QFycFg"
      },
      "source": [
        "#predict womens salary through games played, assists, points, rebounds\n",
        "\n",
        "X = df_wnba_general[[\"games\",'rebds.','points','assists']] #initialize independent variables\n",
        "y = df_wnba_general[\"salary\"] #initialize dependent variable\n",
        "model_gamevsalary_wnba = sm.OLS(y, X).fit() #define least of squares regression model\n",
        "predictions_gamevsalary_wnba = model_gamevsalary_wnba.predict(X) #run model\n",
        "model_gamevsalary_wnba.summary() #print results \n"
      ],
      "execution_count": null,
      "outputs": []
    }
  ]
}